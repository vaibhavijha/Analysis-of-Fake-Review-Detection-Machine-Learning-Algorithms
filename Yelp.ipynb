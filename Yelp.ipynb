{
  "nbformat": 4,
  "nbformat_minor": 0,
  "metadata": {
    "colab": {
      "provenance": []
    },
    "kernelspec": {
      "name": "python3",
      "display_name": "Python 3"
    },
    "language_info": {
      "name": "python"
    }
  },
  "cells": [
    {
      "cell_type": "code",
      "execution_count": null,
      "metadata": {
        "colab": {
          "base_uri": "https://localhost:8080/"
        },
        "id": "jQPRdSEYQ3_W",
        "outputId": "d921d212-824a-40a2-c33d-548f13a02b6b"
      },
      "outputs": [
        {
          "output_type": "stream",
          "name": "stderr",
          "text": [
            "[nltk_data] Downloading package wordnet to /root/nltk_data...\n"
          ]
        },
        {
          "output_type": "execute_result",
          "data": {
            "text/plain": [
              "True"
            ]
          },
          "metadata": {},
          "execution_count": 1
        }
      ],
      "source": [
        "import numpy as np\n",
        "import pandas as pd\n",
        "import seaborn as sns\n",
        "import matplotlib.pyplot as plt\n",
        "%matplotlib inline\n",
        "import warnings\n",
        "warnings.filterwarnings('ignore')\n",
        "from nltk.corpus import stopwords\n",
        "from sklearn.feature_extraction.text import TfidfTransformer, CountVectorizer\n",
        "from sklearn.metrics import classification_report, confusion_matrix\n",
        "from sklearn.model_selection import train_test_split\n",
        "import string, nltk\n",
        "from nltk import word_tokenize\n",
        "from nltk.stem import PorterStemmer\n",
        "from nltk.stem import WordNetLemmatizer\n",
        "nltk.download('wordnet')"
      ]
    },
    {
      "cell_type": "code",
      "source": [
        "nltk.download('omw-1.4')\n",
        "\n",
        "df = pd.read_csv('/content/Labelled Yelp Dataset.csv')\n",
        "df.head()"
      ],
      "metadata": {
        "id": "IYFTFmyGSkbO",
        "colab": {
          "base_uri": "https://localhost:8080/",
          "height": 223
        },
        "outputId": "c3efd6db-9a48-45e2-dda2-38c1287d5bf4"
      },
      "execution_count": null,
      "outputs": [
        {
          "output_type": "stream",
          "name": "stderr",
          "text": [
            "[nltk_data] Downloading package omw-1.4 to /root/nltk_data...\n"
          ]
        },
        {
          "output_type": "execute_result",
          "data": {
            "text/plain": [
              "   User_id  Product_id  Rating        Date  \\\n",
              "0      923           0       3  12-08-2014   \n",
              "1      924           0       3   5/16/2013   \n",
              "2      925           0       4  07-01-2013   \n",
              "3      926           0       4   7/28/2011   \n",
              "4      927           0       4  11-01-2010   \n",
              "\n",
              "                                              Review  Label  \n",
              "0  The food at snack is a selection of popular Gr...     -1  \n",
              "1  This little place in Soho is wonderful. I had ...     -1  \n",
              "2  ordered lunch for 15 from Snack last Friday. Â...     -1  \n",
              "3  This is a beautiful quaint little restaurant o...     -1  \n",
              "4  Snack is great place for a Â casual sit down l...     -1  "
            ],
            "text/html": [
              "\n",
              "  <div id=\"df-9ad6b075-b2f9-468f-a061-4a1a305e7d4e\">\n",
              "    <div class=\"colab-df-container\">\n",
              "      <div>\n",
              "<style scoped>\n",
              "    .dataframe tbody tr th:only-of-type {\n",
              "        vertical-align: middle;\n",
              "    }\n",
              "\n",
              "    .dataframe tbody tr th {\n",
              "        vertical-align: top;\n",
              "    }\n",
              "\n",
              "    .dataframe thead th {\n",
              "        text-align: right;\n",
              "    }\n",
              "</style>\n",
              "<table border=\"1\" class=\"dataframe\">\n",
              "  <thead>\n",
              "    <tr style=\"text-align: right;\">\n",
              "      <th></th>\n",
              "      <th>User_id</th>\n",
              "      <th>Product_id</th>\n",
              "      <th>Rating</th>\n",
              "      <th>Date</th>\n",
              "      <th>Review</th>\n",
              "      <th>Label</th>\n",
              "    </tr>\n",
              "  </thead>\n",
              "  <tbody>\n",
              "    <tr>\n",
              "      <th>0</th>\n",
              "      <td>923</td>\n",
              "      <td>0</td>\n",
              "      <td>3</td>\n",
              "      <td>12-08-2014</td>\n",
              "      <td>The food at snack is a selection of popular Gr...</td>\n",
              "      <td>-1</td>\n",
              "    </tr>\n",
              "    <tr>\n",
              "      <th>1</th>\n",
              "      <td>924</td>\n",
              "      <td>0</td>\n",
              "      <td>3</td>\n",
              "      <td>5/16/2013</td>\n",
              "      <td>This little place in Soho is wonderful. I had ...</td>\n",
              "      <td>-1</td>\n",
              "    </tr>\n",
              "    <tr>\n",
              "      <th>2</th>\n",
              "      <td>925</td>\n",
              "      <td>0</td>\n",
              "      <td>4</td>\n",
              "      <td>07-01-2013</td>\n",
              "      <td>ordered lunch for 15 from Snack last Friday. Â...</td>\n",
              "      <td>-1</td>\n",
              "    </tr>\n",
              "    <tr>\n",
              "      <th>3</th>\n",
              "      <td>926</td>\n",
              "      <td>0</td>\n",
              "      <td>4</td>\n",
              "      <td>7/28/2011</td>\n",
              "      <td>This is a beautiful quaint little restaurant o...</td>\n",
              "      <td>-1</td>\n",
              "    </tr>\n",
              "    <tr>\n",
              "      <th>4</th>\n",
              "      <td>927</td>\n",
              "      <td>0</td>\n",
              "      <td>4</td>\n",
              "      <td>11-01-2010</td>\n",
              "      <td>Snack is great place for a Â casual sit down l...</td>\n",
              "      <td>-1</td>\n",
              "    </tr>\n",
              "  </tbody>\n",
              "</table>\n",
              "</div>\n",
              "      <button class=\"colab-df-convert\" onclick=\"convertToInteractive('df-9ad6b075-b2f9-468f-a061-4a1a305e7d4e')\"\n",
              "              title=\"Convert this dataframe to an interactive table.\"\n",
              "              style=\"display:none;\">\n",
              "        \n",
              "  <svg xmlns=\"http://www.w3.org/2000/svg\" height=\"24px\"viewBox=\"0 0 24 24\"\n",
              "       width=\"24px\">\n",
              "    <path d=\"M0 0h24v24H0V0z\" fill=\"none\"/>\n",
              "    <path d=\"M18.56 5.44l.94 2.06.94-2.06 2.06-.94-2.06-.94-.94-2.06-.94 2.06-2.06.94zm-11 1L8.5 8.5l.94-2.06 2.06-.94-2.06-.94L8.5 2.5l-.94 2.06-2.06.94zm10 10l.94 2.06.94-2.06 2.06-.94-2.06-.94-.94-2.06-.94 2.06-2.06.94z\"/><path d=\"M17.41 7.96l-1.37-1.37c-.4-.4-.92-.59-1.43-.59-.52 0-1.04.2-1.43.59L10.3 9.45l-7.72 7.72c-.78.78-.78 2.05 0 2.83L4 21.41c.39.39.9.59 1.41.59.51 0 1.02-.2 1.41-.59l7.78-7.78 2.81-2.81c.8-.78.8-2.07 0-2.86zM5.41 20L4 18.59l7.72-7.72 1.47 1.35L5.41 20z\"/>\n",
              "  </svg>\n",
              "      </button>\n",
              "      \n",
              "  <style>\n",
              "    .colab-df-container {\n",
              "      display:flex;\n",
              "      flex-wrap:wrap;\n",
              "      gap: 12px;\n",
              "    }\n",
              "\n",
              "    .colab-df-convert {\n",
              "      background-color: #E8F0FE;\n",
              "      border: none;\n",
              "      border-radius: 50%;\n",
              "      cursor: pointer;\n",
              "      display: none;\n",
              "      fill: #1967D2;\n",
              "      height: 32px;\n",
              "      padding: 0 0 0 0;\n",
              "      width: 32px;\n",
              "    }\n",
              "\n",
              "    .colab-df-convert:hover {\n",
              "      background-color: #E2EBFA;\n",
              "      box-shadow: 0px 1px 2px rgba(60, 64, 67, 0.3), 0px 1px 3px 1px rgba(60, 64, 67, 0.15);\n",
              "      fill: #174EA6;\n",
              "    }\n",
              "\n",
              "    [theme=dark] .colab-df-convert {\n",
              "      background-color: #3B4455;\n",
              "      fill: #D2E3FC;\n",
              "    }\n",
              "\n",
              "    [theme=dark] .colab-df-convert:hover {\n",
              "      background-color: #434B5C;\n",
              "      box-shadow: 0px 1px 3px 1px rgba(0, 0, 0, 0.15);\n",
              "      filter: drop-shadow(0px 1px 2px rgba(0, 0, 0, 0.3));\n",
              "      fill: #FFFFFF;\n",
              "    }\n",
              "  </style>\n",
              "\n",
              "      <script>\n",
              "        const buttonEl =\n",
              "          document.querySelector('#df-9ad6b075-b2f9-468f-a061-4a1a305e7d4e button.colab-df-convert');\n",
              "        buttonEl.style.display =\n",
              "          google.colab.kernel.accessAllowed ? 'block' : 'none';\n",
              "\n",
              "        async function convertToInteractive(key) {\n",
              "          const element = document.querySelector('#df-9ad6b075-b2f9-468f-a061-4a1a305e7d4e');\n",
              "          const dataTable =\n",
              "            await google.colab.kernel.invokeFunction('convertToInteractive',\n",
              "                                                     [key], {});\n",
              "          if (!dataTable) return;\n",
              "\n",
              "          const docLinkHtml = 'Like what you see? Visit the ' +\n",
              "            '<a target=\"_blank\" href=https://colab.research.google.com/notebooks/data_table.ipynb>data table notebook</a>'\n",
              "            + ' to learn more about interactive tables.';\n",
              "          element.innerHTML = '';\n",
              "          dataTable['output_type'] = 'display_data';\n",
              "          await google.colab.output.renderOutput(dataTable, element);\n",
              "          const docLink = document.createElement('div');\n",
              "          docLink.innerHTML = docLinkHtml;\n",
              "          element.appendChild(docLink);\n",
              "        }\n",
              "      </script>\n",
              "    </div>\n",
              "  </div>\n",
              "  "
            ]
          },
          "metadata": {},
          "execution_count": 2
        }
      ]
    },
    {
      "cell_type": "code",
      "source": [
        "df.isnull().sum()"
      ],
      "metadata": {
        "id": "y5Sft4KESnUm",
        "colab": {
          "base_uri": "https://localhost:8080/"
        },
        "outputId": "41aa499e-c479-4871-b110-0555880f904f"
      },
      "execution_count": null,
      "outputs": [
        {
          "output_type": "execute_result",
          "data": {
            "text/plain": [
              "User_id       0\n",
              "Product_id    0\n",
              "Rating        0\n",
              "Date          0\n",
              "Review        0\n",
              "Label         0\n",
              "dtype: int64"
            ]
          },
          "metadata": {},
          "execution_count": 3
        }
      ]
    },
    {
      "cell_type": "code",
      "source": [
        "df.info()"
      ],
      "metadata": {
        "id": "0iRi7DDZSpUx",
        "colab": {
          "base_uri": "https://localhost:8080/"
        },
        "outputId": "5d1b32eb-9ffd-48e0-863e-e368a9a4c9d8"
      },
      "execution_count": null,
      "outputs": [
        {
          "output_type": "stream",
          "name": "stdout",
          "text": [
            "<class 'pandas.core.frame.DataFrame'>\n",
            "RangeIndex: 932 entries, 0 to 931\n",
            "Data columns (total 6 columns):\n",
            " #   Column      Non-Null Count  Dtype \n",
            "---  ------      --------------  ----- \n",
            " 0   User_id     932 non-null    int64 \n",
            " 1   Product_id  932 non-null    int64 \n",
            " 2   Rating      932 non-null    int64 \n",
            " 3   Date        932 non-null    object\n",
            " 4   Review      932 non-null    object\n",
            " 5   Label       932 non-null    int64 \n",
            "dtypes: int64(4), object(2)\n",
            "memory usage: 43.8+ KB\n"
          ]
        }
      ]
    },
    {
      "cell_type": "code",
      "source": [
        "df.describe()"
      ],
      "metadata": {
        "id": "4Han3nEZSruR",
        "colab": {
          "base_uri": "https://localhost:8080/",
          "height": 300
        },
        "outputId": "59826154-a140-4063-e036-0d93318f02f3"
      },
      "execution_count": null,
      "outputs": [
        {
          "output_type": "execute_result",
          "data": {
            "text/plain": [
              "           User_id  Product_id      Rating       Label\n",
              "count   932.000000  932.000000  932.000000  932.000000\n",
              "mean   1386.083691    2.221030    4.111588    0.781116\n",
              "std     268.515927    1.717562    0.931831    0.624721\n",
              "min     923.000000    0.000000    1.000000   -1.000000\n",
              "25%    1153.750000    1.000000    4.000000    1.000000\n",
              "50%    1385.500000    3.000000    4.000000    1.000000\n",
              "75%    1618.250000    4.000000    5.000000    1.000000\n",
              "max    1851.000000    4.000000    5.000000    1.000000"
            ],
            "text/html": [
              "\n",
              "  <div id=\"df-7f6110e1-2a38-41df-acfc-e3f149554f7f\">\n",
              "    <div class=\"colab-df-container\">\n",
              "      <div>\n",
              "<style scoped>\n",
              "    .dataframe tbody tr th:only-of-type {\n",
              "        vertical-align: middle;\n",
              "    }\n",
              "\n",
              "    .dataframe tbody tr th {\n",
              "        vertical-align: top;\n",
              "    }\n",
              "\n",
              "    .dataframe thead th {\n",
              "        text-align: right;\n",
              "    }\n",
              "</style>\n",
              "<table border=\"1\" class=\"dataframe\">\n",
              "  <thead>\n",
              "    <tr style=\"text-align: right;\">\n",
              "      <th></th>\n",
              "      <th>User_id</th>\n",
              "      <th>Product_id</th>\n",
              "      <th>Rating</th>\n",
              "      <th>Label</th>\n",
              "    </tr>\n",
              "  </thead>\n",
              "  <tbody>\n",
              "    <tr>\n",
              "      <th>count</th>\n",
              "      <td>932.000000</td>\n",
              "      <td>932.000000</td>\n",
              "      <td>932.000000</td>\n",
              "      <td>932.000000</td>\n",
              "    </tr>\n",
              "    <tr>\n",
              "      <th>mean</th>\n",
              "      <td>1386.083691</td>\n",
              "      <td>2.221030</td>\n",
              "      <td>4.111588</td>\n",
              "      <td>0.781116</td>\n",
              "    </tr>\n",
              "    <tr>\n",
              "      <th>std</th>\n",
              "      <td>268.515927</td>\n",
              "      <td>1.717562</td>\n",
              "      <td>0.931831</td>\n",
              "      <td>0.624721</td>\n",
              "    </tr>\n",
              "    <tr>\n",
              "      <th>min</th>\n",
              "      <td>923.000000</td>\n",
              "      <td>0.000000</td>\n",
              "      <td>1.000000</td>\n",
              "      <td>-1.000000</td>\n",
              "    </tr>\n",
              "    <tr>\n",
              "      <th>25%</th>\n",
              "      <td>1153.750000</td>\n",
              "      <td>1.000000</td>\n",
              "      <td>4.000000</td>\n",
              "      <td>1.000000</td>\n",
              "    </tr>\n",
              "    <tr>\n",
              "      <th>50%</th>\n",
              "      <td>1385.500000</td>\n",
              "      <td>3.000000</td>\n",
              "      <td>4.000000</td>\n",
              "      <td>1.000000</td>\n",
              "    </tr>\n",
              "    <tr>\n",
              "      <th>75%</th>\n",
              "      <td>1618.250000</td>\n",
              "      <td>4.000000</td>\n",
              "      <td>5.000000</td>\n",
              "      <td>1.000000</td>\n",
              "    </tr>\n",
              "    <tr>\n",
              "      <th>max</th>\n",
              "      <td>1851.000000</td>\n",
              "      <td>4.000000</td>\n",
              "      <td>5.000000</td>\n",
              "      <td>1.000000</td>\n",
              "    </tr>\n",
              "  </tbody>\n",
              "</table>\n",
              "</div>\n",
              "      <button class=\"colab-df-convert\" onclick=\"convertToInteractive('df-7f6110e1-2a38-41df-acfc-e3f149554f7f')\"\n",
              "              title=\"Convert this dataframe to an interactive table.\"\n",
              "              style=\"display:none;\">\n",
              "        \n",
              "  <svg xmlns=\"http://www.w3.org/2000/svg\" height=\"24px\"viewBox=\"0 0 24 24\"\n",
              "       width=\"24px\">\n",
              "    <path d=\"M0 0h24v24H0V0z\" fill=\"none\"/>\n",
              "    <path d=\"M18.56 5.44l.94 2.06.94-2.06 2.06-.94-2.06-.94-.94-2.06-.94 2.06-2.06.94zm-11 1L8.5 8.5l.94-2.06 2.06-.94-2.06-.94L8.5 2.5l-.94 2.06-2.06.94zm10 10l.94 2.06.94-2.06 2.06-.94-2.06-.94-.94-2.06-.94 2.06-2.06.94z\"/><path d=\"M17.41 7.96l-1.37-1.37c-.4-.4-.92-.59-1.43-.59-.52 0-1.04.2-1.43.59L10.3 9.45l-7.72 7.72c-.78.78-.78 2.05 0 2.83L4 21.41c.39.39.9.59 1.41.59.51 0 1.02-.2 1.41-.59l7.78-7.78 2.81-2.81c.8-.78.8-2.07 0-2.86zM5.41 20L4 18.59l7.72-7.72 1.47 1.35L5.41 20z\"/>\n",
              "  </svg>\n",
              "      </button>\n",
              "      \n",
              "  <style>\n",
              "    .colab-df-container {\n",
              "      display:flex;\n",
              "      flex-wrap:wrap;\n",
              "      gap: 12px;\n",
              "    }\n",
              "\n",
              "    .colab-df-convert {\n",
              "      background-color: #E8F0FE;\n",
              "      border: none;\n",
              "      border-radius: 50%;\n",
              "      cursor: pointer;\n",
              "      display: none;\n",
              "      fill: #1967D2;\n",
              "      height: 32px;\n",
              "      padding: 0 0 0 0;\n",
              "      width: 32px;\n",
              "    }\n",
              "\n",
              "    .colab-df-convert:hover {\n",
              "      background-color: #E2EBFA;\n",
              "      box-shadow: 0px 1px 2px rgba(60, 64, 67, 0.3), 0px 1px 3px 1px rgba(60, 64, 67, 0.15);\n",
              "      fill: #174EA6;\n",
              "    }\n",
              "\n",
              "    [theme=dark] .colab-df-convert {\n",
              "      background-color: #3B4455;\n",
              "      fill: #D2E3FC;\n",
              "    }\n",
              "\n",
              "    [theme=dark] .colab-df-convert:hover {\n",
              "      background-color: #434B5C;\n",
              "      box-shadow: 0px 1px 3px 1px rgba(0, 0, 0, 0.15);\n",
              "      filter: drop-shadow(0px 1px 2px rgba(0, 0, 0, 0.3));\n",
              "      fill: #FFFFFF;\n",
              "    }\n",
              "  </style>\n",
              "\n",
              "      <script>\n",
              "        const buttonEl =\n",
              "          document.querySelector('#df-7f6110e1-2a38-41df-acfc-e3f149554f7f button.colab-df-convert');\n",
              "        buttonEl.style.display =\n",
              "          google.colab.kernel.accessAllowed ? 'block' : 'none';\n",
              "\n",
              "        async function convertToInteractive(key) {\n",
              "          const element = document.querySelector('#df-7f6110e1-2a38-41df-acfc-e3f149554f7f');\n",
              "          const dataTable =\n",
              "            await google.colab.kernel.invokeFunction('convertToInteractive',\n",
              "                                                     [key], {});\n",
              "          if (!dataTable) return;\n",
              "\n",
              "          const docLinkHtml = 'Like what you see? Visit the ' +\n",
              "            '<a target=\"_blank\" href=https://colab.research.google.com/notebooks/data_table.ipynb>data table notebook</a>'\n",
              "            + ' to learn more about interactive tables.';\n",
              "          element.innerHTML = '';\n",
              "          dataTable['output_type'] = 'display_data';\n",
              "          await google.colab.output.renderOutput(dataTable, element);\n",
              "          const docLink = document.createElement('div');\n",
              "          docLink.innerHTML = docLinkHtml;\n",
              "          element.appendChild(docLink);\n",
              "        }\n",
              "      </script>\n",
              "    </div>\n",
              "  </div>\n",
              "  "
            ]
          },
          "metadata": {},
          "execution_count": 5
        }
      ]
    },
    {
      "cell_type": "code",
      "source": [
        "df['Rating'].value_counts()"
      ],
      "metadata": {
        "id": "qBs9jVEbSt1J",
        "colab": {
          "base_uri": "https://localhost:8080/"
        },
        "outputId": "3b1b7ba2-38ea-476d-d62a-010411b5f4d5"
      },
      "execution_count": null,
      "outputs": [
        {
          "output_type": "execute_result",
          "data": {
            "text/plain": [
              "4    407\n",
              "5    357\n",
              "3    103\n",
              "2     45\n",
              "1     20\n",
              "Name: Rating, dtype: int64"
            ]
          },
          "metadata": {},
          "execution_count": 6
        }
      ]
    },
    {
      "cell_type": "code",
      "source": [
        "plt.figure(figsize=(15,8))\n",
        "labels = df['Rating'].value_counts().keys()\n",
        "values = df['Rating'].value_counts().values\n",
        "explode = (0.1,0,0,0,0)\n",
        "plt.pie(values,labels=labels,explode=explode,shadow=True,autopct='%1.1f%%')\n",
        "plt.title('Proportion of each rating',fontweight='bold',fontsize=25,pad=20,color='crimson')\n",
        "plt.show()"
      ],
      "metadata": {
        "id": "heMfYDyFSwzh",
        "colab": {
          "base_uri": "https://localhost:8080/",
          "height": 505
        },
        "outputId": "a0af6ca6-0011-4a89-e521-0a8eaad0943a"
      },
      "execution_count": null,
      "outputs": [
        {
          "output_type": "display_data",
          "data": {
            "text/plain": [
              "<Figure size 1080x576 with 1 Axes>"
            ],
            "image/png": "[encoded data removed]"
          },
          "metadata": {}
        }
      ]
    },
    {
      "cell_type": "code",
      "source": [
        "# the complete process to import nltk - have used the simple version below!\n",
        "import nltk\n",
        "nltk.download()"
      ],
      "metadata": {
        "id": "X1G57zHCSzaG",
        "colab": {
          "base_uri": "https://localhost:8080/"
        },
        "outputId": "cd17d442-0762-48d8-aede-22fc3193aa18"
      },
      "execution_count": null,
      "outputs": [
        {
          "name": "stdout",
          "output_type": "stream",
          "text": [
            "NLTK Downloader\n",
            "---------------------------------------------------------------------------\n",
            "    d) Download   l) List    u) Update   c) Config   h) Help   q) Quit\n",
            "---------------------------------------------------------------------------\n",
            "Downloader> l\n",
            "\n",
            "Packages:\n",
            "  [ ] abc................. Australian Broadcasting Commission 2006\n",
            "  [ ] alpino.............. Alpino Dutch Treebank\n",
            "  [ ] averaged_perceptron_tagger Averaged Perceptron Tagger\n",
            "  [ ] averaged_perceptron_tagger_ru Averaged Perceptron Tagger (Russian)\n",
            "  [ ] basque_grammars..... Grammars for Basque\n",
            "  [ ] bcp47............... BCP-47 Language Tags\n",
            "  [ ] biocreative_ppi..... BioCreAtIvE (Critical Assessment of Information\n",
            "                           Extraction Systems in Biology)\n",
            "  [ ] bllip_wsj_no_aux.... BLLIP Parser: WSJ Model\n",
            "  [ ] book_grammars....... Grammars from NLTK Book\n",
            "  [ ] brown............... Brown Corpus\n",
            "  [ ] brown_tei........... Brown Corpus (TEI XML Version)\n",
            "  [ ] cess_cat............ CESS-CAT Treebank\n",
            "  [ ] cess_esp............ CESS-ESP Treebank\n",
            "  [ ] chat80.............. Chat-80 Data Files\n",
            "  [ ] city_database....... City Database\n",
            "  [ ] cmudict............. The Carnegie Mellon Pronouncing Dictionary (0.6)\n",
            "  [ ] comparative_sentences Comparative Sentence Dataset\n",
            "  [ ] comtrans............ ComTrans Corpus Sample\n",
            "  [ ] conll2000........... CONLL 2000 Chunking Corpus\n",
            "Hit Enter to continue: \n",
            "  [ ] conll2002........... CONLL 2002 Named Entity Recognition Corpus\n",
            "  [ ] conll2007........... Dependency Treebanks from CoNLL 2007 (Catalan\n",
            "                           and Basque Subset)\n",
            "  [ ] crubadan............ Crubadan Corpus\n",
            "  [ ] dependency_treebank. Dependency Parsed Treebank\n",
            "  [ ] dolch............... Dolch Word List\n",
            "  [ ] europarl_raw........ Sample European Parliament Proceedings Parallel\n",
            "                           Corpus\n",
            "  [ ] extended_omw........ Extended Open Multilingual WordNet\n",
            "  [ ] floresta............ Portuguese Treebank\n",
            "  [ ] framenet_v15........ FrameNet 1.5\n",
            "  [ ] framenet_v17........ FrameNet 1.7\n",
            "  [ ] gazetteers.......... Gazeteer Lists\n",
            "  [ ] genesis............. Genesis Corpus\n",
            "  [ ] gutenberg........... Project Gutenberg Selections\n",
            "  [ ] ieer................ NIST IE-ER DATA SAMPLE\n",
            "  [ ] inaugural........... C-Span Inaugural Address Corpus\n",
            "  [ ] indian.............. Indian Language POS-Tagged Corpus\n",
            "  [ ] jeita............... JEITA Public Morphologically Tagged Corpus (in\n",
            "                           ChaSen format)\n",
            "  [ ] kimmo............... PC-KIMMO Data Files\n",
            "Hit Enter to continue: q\n",
            "\n",
            "---------------------------------------------------------------------------\n",
            "    d) Download   l) List    u) Update   c) Config   h) Help   q) Quit\n",
            "---------------------------------------------------------------------------\n",
            "Downloader> q\n"
          ]
        },
        {
          "output_type": "execute_result",
          "data": {
            "text/plain": [
              "True"
            ]
          },
          "metadata": {},
          "execution_count": 8
        }
      ]
    },
    {
      "cell_type": "code",
      "source": [
        "def clean_text(text):\n",
        "    nopunc = [w for w in text if w not in string.punctuation]\n",
        "    nopunc = ''.join(nopunc)\n",
        "    return  ' '.join([word for word in nopunc.split() if word.lower() not in stopwords.words('english')])"
      ],
      "metadata": {
        "id": "5hoVy6unS2fD"
      },
      "execution_count": null,
      "outputs": []
    },
    {
      "cell_type": "code",
      "source": [
        "import nltk\n",
        "nltk.download('stopwords')"
      ],
      "metadata": {
        "id": "GwkvSrSaS4k6",
        "colab": {
          "base_uri": "https://localhost:8080/"
        },
        "outputId": "46301755-aebe-4713-d8f7-e9687f099ceb"
      },
      "execution_count": null,
      "outputs": [
        {
          "output_type": "stream",
          "name": "stderr",
          "text": [
            "[nltk_data] Downloading package stopwords to /root/nltk_data...\n",
            "[nltk_data]   Unzipping corpora/stopwords.zip.\n"
          ]
        },
        {
          "output_type": "execute_result",
          "data": {
            "text/plain": [
              "True"
            ]
          },
          "metadata": {},
          "execution_count": 10
        }
      ]
    },
    {
      "cell_type": "code",
      "source": [
        "df['Review'][0], clean_text(df['Review'][0])"
      ],
      "metadata": {
        "id": "wdc5kkv9S66k",
        "colab": {
          "base_uri": "https://localhost:8080/"
        },
        "outputId": "0afe593c-5655-47b0-b912-04b10a628aca"
      },
      "execution_count": null,
      "outputs": [
        {
          "output_type": "execute_result",
          "data": {
            "text/plain": [
              "(\"The food at snack is a selection of popular Greek dishes. The appetizer tray is good as is the Greek salad. We were underwhelmed with the main courses. There are 4-5 tables here so it's sometimes hard to get seated.\",\n",
              " 'food snack selection popular Greek dishes appetizer tray good Greek salad underwhelmed main courses 45 tables sometimes hard get seated')"
            ]
          },
          "metadata": {},
          "execution_count": 11
        }
      ]
    },
    {
      "cell_type": "code",
      "source": [
        "df['Review'].head().apply(clean_text)"
      ],
      "metadata": {
        "id": "5WMseQ1iS9OD",
        "colab": {
          "base_uri": "https://localhost:8080/"
        },
        "outputId": "7a9b7b78-51d4-4d90-af2d-e24d36997d93"
      },
      "execution_count": null,
      "outputs": [
        {
          "output_type": "execute_result",
          "data": {
            "text/plain": [
              "0    food snack selection popular Greek dishes appe...\n",
              "1    little place Soho wonderful lamb sandwich glas...\n",
              "2    ordered lunch 15 Snack last Friday Â time noth...\n",
              "3    beautiful quaint little restaurant pretty stre...\n",
              "4    Snack great place Â casual sit lunch especiall...\n",
              "Name: Review, dtype: object"
            ]
          },
          "metadata": {},
          "execution_count": 12
        }
      ]
    },
    {
      "cell_type": "code",
      "source": [
        "df.shape"
      ],
      "metadata": {
        "id": "zTaB6rwFS_Xb",
        "colab": {
          "base_uri": "https://localhost:8080/"
        },
        "outputId": "1827156a-1fad-4445-f1be-2fb4f3a54720"
      },
      "execution_count": null,
      "outputs": [
        {
          "output_type": "execute_result",
          "data": {
            "text/plain": [
              "(932, 6)"
            ]
          },
          "metadata": {},
          "execution_count": 13
        }
      ]
    },
    {
      "cell_type": "code",
      "source": [
        "df['Review'] = df['Review'].astype(str)"
      ],
      "metadata": {
        "id": "exjDazI6TBfy"
      },
      "execution_count": null,
      "outputs": []
    },
    {
      "cell_type": "code",
      "source": [
        "def preprocess(text):\n",
        "    return ' '.join([word for word in word_tokenize(text) if word not in stopwords.words('english') and not word.isdigit() and word not in string.punctuation])"
      ],
      "metadata": {
        "id": "WSwOsjbxTE6A"
      },
      "execution_count": null,
      "outputs": []
    },
    {
      "cell_type": "code",
      "source": [
        "import nltk\n",
        "nltk.download('punkt')"
      ],
      "metadata": {
        "id": "LPojMSL1THrl",
        "colab": {
          "base_uri": "https://localhost:8080/"
        },
        "outputId": "476370be-f444-44e7-f4b5-1f2c1d4622c5"
      },
      "execution_count": null,
      "outputs": [
        {
          "output_type": "stream",
          "name": "stderr",
          "text": [
            "[nltk_data] Downloading package punkt to /root/nltk_data...\n",
            "[nltk_data]   Unzipping tokenizers/punkt.zip.\n"
          ]
        },
        {
          "output_type": "execute_result",
          "data": {
            "text/plain": [
              "True"
            ]
          },
          "metadata": {},
          "execution_count": 16
        }
      ]
    },
    {
      "cell_type": "code",
      "source": [
        "preprocess(df['Review'][4])"
      ],
      "metadata": {
        "id": "KiZiMPYNTJiz",
        "colab": {
          "base_uri": "https://localhost:8080/",
          "height": 88
        },
        "outputId": "2d2b68c4-0c8c-4fd1-bc36-1a2797c211a7"
      },
      "execution_count": null,
      "outputs": [
        {
          "output_type": "execute_result",
          "data": {
            "text/plain": [
              "\"Snack great place Â casual sit lunch- especially cold winter day Â In many ways restaurant mirrors food- simple yet unique Â The avgolemono soup lemony perfection butter bean salad hearty yet light Â The greek coffee different ... sweeten honey makes interesting thickness sweet spice I definitely plan going back dinner Â If small space n't suit sister restaurant Snack Taverna West Village good better ... `` upscale '' waiters make feel well taken care\""
            ],
            "application/vnd.google.colaboratory.intrinsic+json": {
              "type": "string"
            }
          },
          "metadata": {},
          "execution_count": 17
        }
      ]
    },
    {
      "cell_type": "code",
      "source": [
        "df['Review'][:10000] = df['Review'][:10000].apply(preprocess)"
      ],
      "metadata": {
        "id": "bD5vvD4aTMKc"
      },
      "execution_count": null,
      "outputs": []
    },
    {
      "cell_type": "code",
      "source": [
        "df['Review'] = df['Review'].str.lower()"
      ],
      "metadata": {
        "id": "-pfQGuMATWO5"
      },
      "execution_count": null,
      "outputs": []
    },
    {
      "cell_type": "code",
      "source": [
        "stemmer = PorterStemmer()\n",
        "def stem_words(text):\n",
        "    return ' '.join([stemmer.stem(word) for word in text.split()])\n",
        "df['Review'] = df['Review'].apply(lambda x: stem_words(x))"
      ],
      "metadata": {
        "id": "3svZo3PkTYgo"
      },
      "execution_count": null,
      "outputs": []
    },
    {
      "cell_type": "code",
      "source": [
        "lemmatizer = WordNetLemmatizer()\n",
        "def lemmatize_words(text):\n",
        "    return ' '.join([lemmatizer.lemmatize(word) for word in text.split()])\n",
        "df[\"Review\"] = df[\"Review\"].apply(lambda text: lemmatize_words(text))"
      ],
      "metadata": {
        "id": "uJNi_BXJTam7"
      },
      "execution_count": null,
      "outputs": []
    },
    {
      "cell_type": "code",
      "source": [
        "df['Review'].head()"
      ],
      "metadata": {
        "id": "9dD4p8D8TdGZ",
        "colab": {
          "base_uri": "https://localhost:8080/"
        },
        "outputId": "987659a0-8b73-41a4-e6d3-94f22581803d"
      },
      "execution_count": null,
      "outputs": [
        {
          "output_type": "execute_result",
          "data": {
            "text/plain": [
              "0    the food snack select popular greek dish the a...\n",
              "1    thi littl place soho wonder i lamb sandwich gl...\n",
              "2    order lunch snack last friday â on time noth m...\n",
              "3    thi beauti quaint littl restaur pretti street ...\n",
              "4    snack great place â casual sit lunch- especi c...\n",
              "Name: Review, dtype: object"
            ]
          },
          "metadata": {},
          "execution_count": 24
        }
      ]
    },
    {
      "cell_type": "code",
      "source": [
        "df.to_csv('Preprocessed Yelp Dataset.csv')\n",
        "\n",
        "# Preprocessing of data completed here"
      ],
      "metadata": {
        "id": "-odcuw93Te2j"
      },
      "execution_count": null,
      "outputs": []
    },
    {
      "cell_type": "code",
      "source": [
        "import numpy as np\n",
        "import pandas as pd\n",
        "import seaborn as sns\n",
        "import matplotlib.pyplot as plt\n",
        "%matplotlib inline\n",
        "import warnings, string\n",
        "warnings.filterwarnings('ignore')\n",
        "from sklearn.model_selection import train_test_split, GridSearchCV\n",
        "from sklearn.metrics import classification_report, confusion_matrix, accuracy_score\n",
        "import nltk\n",
        "from nltk.corpus import stopwords\n",
        "from sklearn.feature_extraction.text import CountVectorizer, TfidfTransformer\n",
        "from sklearn.naive_bayes import MultinomialNB\n",
        "from sklearn.pipeline import Pipeline\n",
        "from sklearn.ensemble import RandomForestClassifier\n",
        "from sklearn.tree import DecisionTreeClassifier\n",
        "from sklearn.neighbors import KNeighborsClassifier\n",
        "from sklearn.svm import SVC\n",
        "from sklearn.linear_model import LogisticRegression"
      ],
      "metadata": {
        "id": "Js2iRbn2ThiD"
      },
      "execution_count": null,
      "outputs": []
    },
    {
      "cell_type": "code",
      "source": [
        "df = pd.read_csv('Preprocessed Yelp Dataset.csv')\n",
        "df.head()"
      ],
      "metadata": {
        "id": "zTzGkHvbTj69",
        "colab": {
          "base_uri": "https://localhost:8080/",
          "height": 206
        },
        "outputId": "ad756229-f05e-44f6-c8c7-a707b16c1c12"
      },
      "execution_count": null,
      "outputs": [
        {
          "output_type": "execute_result",
          "data": {
            "text/plain": [
              "   Unnamed: 0  User_id  Product_id  Rating        Date  \\\n",
              "0           0      923           0       3  12-08-2014   \n",
              "1           1      924           0       3   5/16/2013   \n",
              "2           2      925           0       4  07-01-2013   \n",
              "3           3      926           0       4   7/28/2011   \n",
              "4           4      927           0       4  11-01-2010   \n",
              "\n",
              "                                              Review  Label  \n",
              "0  the food snack select popular greek dish the a...     -1  \n",
              "1  thi littl place soho wonder i lamb sandwich gl...     -1  \n",
              "2  order lunch snack last friday â on time noth m...     -1  \n",
              "3  thi beauti quaint littl restaur pretti street ...     -1  \n",
              "4  snack great place â casual sit lunch- especi c...     -1  "
            ],
            "text/html": [
              "\n",
              "  <div id=\"df-b266aa1f-75ce-46bc-b85b-3aedaa304cd1\">\n",
              "    <div class=\"colab-df-container\">\n",
              "      <div>\n",
              "<style scoped>\n",
              "    .dataframe tbody tr th:only-of-type {\n",
              "        vertical-align: middle;\n",
              "    }\n",
              "\n",
              "    .dataframe tbody tr th {\n",
              "        vertical-align: top;\n",
              "    }\n",
              "\n",
              "    .dataframe thead th {\n",
              "        text-align: right;\n",
              "    }\n",
              "</style>\n",
              "<table border=\"1\" class=\"dataframe\">\n",
              "  <thead>\n",
              "    <tr style=\"text-align: right;\">\n",
              "      <th></th>\n",
              "      <th>Unnamed: 0</th>\n",
              "      <th>User_id</th>\n",
              "      <th>Product_id</th>\n",
              "      <th>Rating</th>\n",
              "      <th>Date</th>\n",
              "      <th>Review</th>\n",
              "      <th>Label</th>\n",
              "    </tr>\n",
              "  </thead>\n",
              "  <tbody>\n",
              "    <tr>\n",
              "      <th>0</th>\n",
              "      <td>0</td>\n",
              "      <td>923</td>\n",
              "      <td>0</td>\n",
              "      <td>3</td>\n",
              "      <td>12-08-2014</td>\n",
              "      <td>the food snack select popular greek dish the a...</td>\n",
              "      <td>-1</td>\n",
              "    </tr>\n",
              "    <tr>\n",
              "      <th>1</th>\n",
              "      <td>1</td>\n",
              "      <td>924</td>\n",
              "      <td>0</td>\n",
              "      <td>3</td>\n",
              "      <td>5/16/2013</td>\n",
              "      <td>thi littl place soho wonder i lamb sandwich gl...</td>\n",
              "      <td>-1</td>\n",
              "    </tr>\n",
              "    <tr>\n",
              "      <th>2</th>\n",
              "      <td>2</td>\n",
              "      <td>925</td>\n",
              "      <td>0</td>\n",
              "      <td>4</td>\n",
              "      <td>07-01-2013</td>\n",
              "      <td>order lunch snack last friday â on time noth m...</td>\n",
              "      <td>-1</td>\n",
              "    </tr>\n",
              "    <tr>\n",
              "      <th>3</th>\n",
              "      <td>3</td>\n",
              "      <td>926</td>\n",
              "      <td>0</td>\n",
              "      <td>4</td>\n",
              "      <td>7/28/2011</td>\n",
              "      <td>thi beauti quaint littl restaur pretti street ...</td>\n",
              "      <td>-1</td>\n",
              "    </tr>\n",
              "    <tr>\n",
              "      <th>4</th>\n",
              "      <td>4</td>\n",
              "      <td>927</td>\n",
              "      <td>0</td>\n",
              "      <td>4</td>\n",
              "      <td>11-01-2010</td>\n",
              "      <td>snack great place â casual sit lunch- especi c...</td>\n",
              "      <td>-1</td>\n",
              "    </tr>\n",
              "  </tbody>\n",
              "</table>\n",
              "</div>\n",
              "      <button class=\"colab-df-convert\" onclick=\"convertToInteractive('df-b266aa1f-75ce-46bc-b85b-3aedaa304cd1')\"\n",
              "              title=\"Convert this dataframe to an interactive table.\"\n",
              "              style=\"display:none;\">\n",
              "        \n",
              "  <svg xmlns=\"http://www.w3.org/2000/svg\" height=\"24px\"viewBox=\"0 0 24 24\"\n",
              "       width=\"24px\">\n",
              "    <path d=\"M0 0h24v24H0V0z\" fill=\"none\"/>\n",
              "    <path d=\"M18.56 5.44l.94 2.06.94-2.06 2.06-.94-2.06-.94-.94-2.06-.94 2.06-2.06.94zm-11 1L8.5 8.5l.94-2.06 2.06-.94-2.06-.94L8.5 2.5l-.94 2.06-2.06.94zm10 10l.94 2.06.94-2.06 2.06-.94-2.06-.94-.94-2.06-.94 2.06-2.06.94z\"/><path d=\"M17.41 7.96l-1.37-1.37c-.4-.4-.92-.59-1.43-.59-.52 0-1.04.2-1.43.59L10.3 9.45l-7.72 7.72c-.78.78-.78 2.05 0 2.83L4 21.41c.39.39.9.59 1.41.59.51 0 1.02-.2 1.41-.59l7.78-7.78 2.81-2.81c.8-.78.8-2.07 0-2.86zM5.41 20L4 18.59l7.72-7.72 1.47 1.35L5.41 20z\"/>\n",
              "  </svg>\n",
              "      </button>\n",
              "      \n",
              "  <style>\n",
              "    .colab-df-container {\n",
              "      display:flex;\n",
              "      flex-wrap:wrap;\n",
              "      gap: 12px;\n",
              "    }\n",
              "\n",
              "    .colab-df-convert {\n",
              "      background-color: #E8F0FE;\n",
              "      border: none;\n",
              "      border-radius: 50%;\n",
              "      cursor: pointer;\n",
              "      display: none;\n",
              "      fill: #1967D2;\n",
              "      height: 32px;\n",
              "      padding: 0 0 0 0;\n",
              "      width: 32px;\n",
              "    }\n",
              "\n",
              "    .colab-df-convert:hover {\n",
              "      background-color: #E2EBFA;\n",
              "      box-shadow: 0px 1px 2px rgba(60, 64, 67, 0.3), 0px 1px 3px 1px rgba(60, 64, 67, 0.15);\n",
              "      fill: #174EA6;\n",
              "    }\n",
              "\n",
              "    [theme=dark] .colab-df-convert {\n",
              "      background-color: #3B4455;\n",
              "      fill: #D2E3FC;\n",
              "    }\n",
              "\n",
              "    [theme=dark] .colab-df-convert:hover {\n",
              "      background-color: #434B5C;\n",
              "      box-shadow: 0px 1px 3px 1px rgba(0, 0, 0, 0.15);\n",
              "      filter: drop-shadow(0px 1px 2px rgba(0, 0, 0, 0.3));\n",
              "      fill: #FFFFFF;\n",
              "    }\n",
              "  </style>\n",
              "\n",
              "      <script>\n",
              "        const buttonEl =\n",
              "          document.querySelector('#df-b266aa1f-75ce-46bc-b85b-3aedaa304cd1 button.colab-df-convert');\n",
              "        buttonEl.style.display =\n",
              "          google.colab.kernel.accessAllowed ? 'block' : 'none';\n",
              "\n",
              "        async function convertToInteractive(key) {\n",
              "          const element = document.querySelector('#df-b266aa1f-75ce-46bc-b85b-3aedaa304cd1');\n",
              "          const dataTable =\n",
              "            await google.colab.kernel.invokeFunction('convertToInteractive',\n",
              "                                                     [key], {});\n",
              "          if (!dataTable) return;\n",
              "\n",
              "          const docLinkHtml = 'Like what you see? Visit the ' +\n",
              "            '<a target=\"_blank\" href=https://colab.research.google.com/notebooks/data_table.ipynb>data table notebook</a>'\n",
              "            + ' to learn more about interactive tables.';\n",
              "          element.innerHTML = '';\n",
              "          dataTable['output_type'] = 'display_data';\n",
              "          await google.colab.output.renderOutput(dataTable, element);\n",
              "          const docLink = document.createElement('div');\n",
              "          docLink.innerHTML = docLinkHtml;\n",
              "          element.appendChild(docLink);\n",
              "        }\n",
              "      </script>\n",
              "    </div>\n",
              "  </div>\n",
              "  "
            ]
          },
          "metadata": {},
          "execution_count": 28
        }
      ]
    },
    {
      "cell_type": "code",
      "source": [
        "df.drop('Unnamed: 0',axis=1,inplace=True)"
      ],
      "metadata": {
        "id": "nkeEjQLsTl3R"
      },
      "execution_count": null,
      "outputs": []
    },
    {
      "cell_type": "code",
      "source": [
        "df.head()"
      ],
      "metadata": {
        "id": "EQ-ikiCVTnp6",
        "colab": {
          "base_uri": "https://localhost:8080/",
          "height": 206
        },
        "outputId": "7a86e150-c01e-4d17-dbc5-5bca5471135f"
      },
      "execution_count": null,
      "outputs": [
        {
          "output_type": "execute_result",
          "data": {
            "text/plain": [
              "   User_id  Product_id  Rating        Date  \\\n",
              "0      923           0       3  12-08-2014   \n",
              "1      924           0       3   5/16/2013   \n",
              "2      925           0       4  07-01-2013   \n",
              "3      926           0       4   7/28/2011   \n",
              "4      927           0       4  11-01-2010   \n",
              "\n",
              "                                              Review  Label  \n",
              "0  the food snack select popular greek dish the a...     -1  \n",
              "1  thi littl place soho wonder i lamb sandwich gl...     -1  \n",
              "2  order lunch snack last friday â on time noth m...     -1  \n",
              "3  thi beauti quaint littl restaur pretti street ...     -1  \n",
              "4  snack great place â casual sit lunch- especi c...     -1  "
            ],
            "text/html": [
              "\n",
              "  <div id=\"df-ad10e055-04e4-4aa4-84e7-b5f5a730b52a\">\n",
              "    <div class=\"colab-df-container\">\n",
              "      <div>\n",
              "<style scoped>\n",
              "    .dataframe tbody tr th:only-of-type {\n",
              "        vertical-align: middle;\n",
              "    }\n",
              "\n",
              "    .dataframe tbody tr th {\n",
              "        vertical-align: top;\n",
              "    }\n",
              "\n",
              "    .dataframe thead th {\n",
              "        text-align: right;\n",
              "    }\n",
              "</style>\n",
              "<table border=\"1\" class=\"dataframe\">\n",
              "  <thead>\n",
              "    <tr style=\"text-align: right;\">\n",
              "      <th></th>\n",
              "      <th>User_id</th>\n",
              "      <th>Product_id</th>\n",
              "      <th>Rating</th>\n",
              "      <th>Date</th>\n",
              "      <th>Review</th>\n",
              "      <th>Label</th>\n",
              "    </tr>\n",
              "  </thead>\n",
              "  <tbody>\n",
              "    <tr>\n",
              "      <th>0</th>\n",
              "      <td>923</td>\n",
              "      <td>0</td>\n",
              "      <td>3</td>\n",
              "      <td>12-08-2014</td>\n",
              "      <td>the food snack select popular greek dish the a...</td>\n",
              "      <td>-1</td>\n",
              "    </tr>\n",
              "    <tr>\n",
              "      <th>1</th>\n",
              "      <td>924</td>\n",
              "      <td>0</td>\n",
              "      <td>3</td>\n",
              "      <td>5/16/2013</td>\n",
              "      <td>thi littl place soho wonder i lamb sandwich gl...</td>\n",
              "      <td>-1</td>\n",
              "    </tr>\n",
              "    <tr>\n",
              "      <th>2</th>\n",
              "      <td>925</td>\n",
              "      <td>0</td>\n",
              "      <td>4</td>\n",
              "      <td>07-01-2013</td>\n",
              "      <td>order lunch snack last friday â on time noth m...</td>\n",
              "      <td>-1</td>\n",
              "    </tr>\n",
              "    <tr>\n",
              "      <th>3</th>\n",
              "      <td>926</td>\n",
              "      <td>0</td>\n",
              "      <td>4</td>\n",
              "      <td>7/28/2011</td>\n",
              "      <td>thi beauti quaint littl restaur pretti street ...</td>\n",
              "      <td>-1</td>\n",
              "    </tr>\n",
              "    <tr>\n",
              "      <th>4</th>\n",
              "      <td>927</td>\n",
              "      <td>0</td>\n",
              "      <td>4</td>\n",
              "      <td>11-01-2010</td>\n",
              "      <td>snack great place â casual sit lunch- especi c...</td>\n",
              "      <td>-1</td>\n",
              "    </tr>\n",
              "  </tbody>\n",
              "</table>\n",
              "</div>\n",
              "      <button class=\"colab-df-convert\" onclick=\"convertToInteractive('df-ad10e055-04e4-4aa4-84e7-b5f5a730b52a')\"\n",
              "              title=\"Convert this dataframe to an interactive table.\"\n",
              "              style=\"display:none;\">\n",
              "        \n",
              "  <svg xmlns=\"http://www.w3.org/2000/svg\" height=\"24px\"viewBox=\"0 0 24 24\"\n",
              "       width=\"24px\">\n",
              "    <path d=\"M0 0h24v24H0V0z\" fill=\"none\"/>\n",
              "    <path d=\"M18.56 5.44l.94 2.06.94-2.06 2.06-.94-2.06-.94-.94-2.06-.94 2.06-2.06.94zm-11 1L8.5 8.5l.94-2.06 2.06-.94-2.06-.94L8.5 2.5l-.94 2.06-2.06.94zm10 10l.94 2.06.94-2.06 2.06-.94-2.06-.94-.94-2.06-.94 2.06-2.06.94z\"/><path d=\"M17.41 7.96l-1.37-1.37c-.4-.4-.92-.59-1.43-.59-.52 0-1.04.2-1.43.59L10.3 9.45l-7.72 7.72c-.78.78-.78 2.05 0 2.83L4 21.41c.39.39.9.59 1.41.59.51 0 1.02-.2 1.41-.59l7.78-7.78 2.81-2.81c.8-.78.8-2.07 0-2.86zM5.41 20L4 18.59l7.72-7.72 1.47 1.35L5.41 20z\"/>\n",
              "  </svg>\n",
              "      </button>\n",
              "      \n",
              "  <style>\n",
              "    .colab-df-container {\n",
              "      display:flex;\n",
              "      flex-wrap:wrap;\n",
              "      gap: 12px;\n",
              "    }\n",
              "\n",
              "    .colab-df-convert {\n",
              "      background-color: #E8F0FE;\n",
              "      border: none;\n",
              "      border-radius: 50%;\n",
              "      cursor: pointer;\n",
              "      display: none;\n",
              "      fill: #1967D2;\n",
              "      height: 32px;\n",
              "      padding: 0 0 0 0;\n",
              "      width: 32px;\n",
              "    }\n",
              "\n",
              "    .colab-df-convert:hover {\n",
              "      background-color: #E2EBFA;\n",
              "      box-shadow: 0px 1px 2px rgba(60, 64, 67, 0.3), 0px 1px 3px 1px rgba(60, 64, 67, 0.15);\n",
              "      fill: #174EA6;\n",
              "    }\n",
              "\n",
              "    [theme=dark] .colab-df-convert {\n",
              "      background-color: #3B4455;\n",
              "      fill: #D2E3FC;\n",
              "    }\n",
              "\n",
              "    [theme=dark] .colab-df-convert:hover {\n",
              "      background-color: #434B5C;\n",
              "      box-shadow: 0px 1px 3px 1px rgba(0, 0, 0, 0.15);\n",
              "      filter: drop-shadow(0px 1px 2px rgba(0, 0, 0, 0.3));\n",
              "      fill: #FFFFFF;\n",
              "    }\n",
              "  </style>\n",
              "\n",
              "      <script>\n",
              "        const buttonEl =\n",
              "          document.querySelector('#df-ad10e055-04e4-4aa4-84e7-b5f5a730b52a button.colab-df-convert');\n",
              "        buttonEl.style.display =\n",
              "          google.colab.kernel.accessAllowed ? 'block' : 'none';\n",
              "\n",
              "        async function convertToInteractive(key) {\n",
              "          const element = document.querySelector('#df-ad10e055-04e4-4aa4-84e7-b5f5a730b52a');\n",
              "          const dataTable =\n",
              "            await google.colab.kernel.invokeFunction('convertToInteractive',\n",
              "                                                     [key], {});\n",
              "          if (!dataTable) return;\n",
              "\n",
              "          const docLinkHtml = 'Like what you see? Visit the ' +\n",
              "            '<a target=\"_blank\" href=https://colab.research.google.com/notebooks/data_table.ipynb>data table notebook</a>'\n",
              "            + ' to learn more about interactive tables.';\n",
              "          element.innerHTML = '';\n",
              "          dataTable['output_type'] = 'display_data';\n",
              "          await google.colab.output.renderOutput(dataTable, element);\n",
              "          const docLink = document.createElement('div');\n",
              "          docLink.innerHTML = docLinkHtml;\n",
              "          element.appendChild(docLink);\n",
              "        }\n",
              "      </script>\n",
              "    </div>\n",
              "  </div>\n",
              "  "
            ]
          },
          "metadata": {},
          "execution_count": 30
        }
      ]
    },
    {
      "cell_type": "code",
      "source": [
        "df.dropna(inplace=True)\n"
      ],
      "metadata": {
        "id": "vLHZlas5TqPq"
      },
      "execution_count": null,
      "outputs": []
    },
    {
      "cell_type": "code",
      "source": [
        "df['length'] = df['Review'].apply(len)"
      ],
      "metadata": {
        "id": "L8Cd-C9ZTsQ0"
      },
      "execution_count": null,
      "outputs": []
    },
    {
      "cell_type": "code",
      "source": [
        "df.info()"
      ],
      "metadata": {
        "id": "V1faNxbJTuQD"
      },
      "execution_count": null,
      "outputs": []
    },
    {
      "cell_type": "code",
      "source": [
        "df.groupby('Label').describe()"
      ],
      "metadata": {
        "id": "ou7rhgCpTv-r",
        "colab": {
          "base_uri": "https://localhost:8080/",
          "height": 268
        },
        "outputId": "fe781c1b-5a59-4808-9b79-65e0f089c14b"
      },
      "execution_count": null,
      "outputs": [
        {
          "output_type": "execute_result",
          "data": {
            "text/plain": [
              "      User_id                                                            \\\n",
              "        count         mean         std    min      25%     50%      75%   \n",
              "Label                                                                     \n",
              "-1      102.0  1255.441176  190.717020  923.0  1144.25  1169.5  1454.75   \n",
              " 1      830.0  1402.138554  272.364784  937.0  1184.25  1399.5  1643.75   \n",
              "\n",
              "              Product_id            ... Rating      length              \\\n",
              "          max      count      mean  ...    75%  max  count        mean   \n",
              "Label                               ...                                  \n",
              "-1     1480.0      102.0  2.127451  ...    5.0  5.0  102.0  295.764706   \n",
              " 1     1851.0      830.0  2.232530  ...    5.0  5.0  830.0  315.507229   \n",
              "\n",
              "                                                       \n",
              "              std   min     25%    50%    75%     max  \n",
              "Label                                                  \n",
              "-1     489.058424   5.0  108.75  184.5  354.0  4669.0  \n",
              " 1     249.767413  13.0  139.25  249.5  414.5  1751.0  \n",
              "\n",
              "[2 rows x 32 columns]"
            ],
            "text/html": [
              "\n",
              "  <div id=\"df-9aeddd92-07de-4294-b0ab-6d660443a741\">\n",
              "    <div class=\"colab-df-container\">\n",
              "      <div>\n",
              "<style scoped>\n",
              "    .dataframe tbody tr th:only-of-type {\n",
              "        vertical-align: middle;\n",
              "    }\n",
              "\n",
              "    .dataframe tbody tr th {\n",
              "        vertical-align: top;\n",
              "    }\n",
              "\n",
              "    .dataframe thead tr th {\n",
              "        text-align: left;\n",
              "    }\n",
              "\n",
              "    .dataframe thead tr:last-of-type th {\n",
              "        text-align: right;\n",
              "    }\n",
              "</style>\n",
              "<table border=\"1\" class=\"dataframe\">\n",
              "  <thead>\n",
              "    <tr>\n",
              "      <th></th>\n",
              "      <th colspan=\"8\" halign=\"left\">User_id</th>\n",
              "      <th colspan=\"2\" halign=\"left\">Product_id</th>\n",
              "      <th>...</th>\n",
              "      <th colspan=\"2\" halign=\"left\">Rating</th>\n",
              "      <th colspan=\"8\" halign=\"left\">length</th>\n",
              "    </tr>\n",
              "    <tr>\n",
              "      <th></th>\n",
              "      <th>count</th>\n",
              "      <th>mean</th>\n",
              "      <th>std</th>\n",
              "      <th>min</th>\n",
              "      <th>25%</th>\n",
              "      <th>50%</th>\n",
              "      <th>75%</th>\n",
              "      <th>max</th>\n",
              "      <th>count</th>\n",
              "      <th>mean</th>\n",
              "      <th>...</th>\n",
              "      <th>75%</th>\n",
              "      <th>max</th>\n",
              "      <th>count</th>\n",
              "      <th>mean</th>\n",
              "      <th>std</th>\n",
              "      <th>min</th>\n",
              "      <th>25%</th>\n",
              "      <th>50%</th>\n",
              "      <th>75%</th>\n",
              "      <th>max</th>\n",
              "    </tr>\n",
              "    <tr>\n",
              "      <th>Label</th>\n",
              "      <th></th>\n",
              "      <th></th>\n",
              "      <th></th>\n",
              "      <th></th>\n",
              "      <th></th>\n",
              "      <th></th>\n",
              "      <th></th>\n",
              "      <th></th>\n",
              "      <th></th>\n",
              "      <th></th>\n",
              "      <th></th>\n",
              "      <th></th>\n",
              "      <th></th>\n",
              "      <th></th>\n",
              "      <th></th>\n",
              "      <th></th>\n",
              "      <th></th>\n",
              "      <th></th>\n",
              "      <th></th>\n",
              "      <th></th>\n",
              "      <th></th>\n",
              "    </tr>\n",
              "  </thead>\n",
              "  <tbody>\n",
              "    <tr>\n",
              "      <th>-1</th>\n",
              "      <td>102.0</td>\n",
              "      <td>1255.441176</td>\n",
              "      <td>190.717020</td>\n",
              "      <td>923.0</td>\n",
              "      <td>1144.25</td>\n",
              "      <td>1169.5</td>\n",
              "      <td>1454.75</td>\n",
              "      <td>1480.0</td>\n",
              "      <td>102.0</td>\n",
              "      <td>2.127451</td>\n",
              "      <td>...</td>\n",
              "      <td>5.0</td>\n",
              "      <td>5.0</td>\n",
              "      <td>102.0</td>\n",
              "      <td>295.764706</td>\n",
              "      <td>489.058424</td>\n",
              "      <td>5.0</td>\n",
              "      <td>108.75</td>\n",
              "      <td>184.5</td>\n",
              "      <td>354.0</td>\n",
              "      <td>4669.0</td>\n",
              "    </tr>\n",
              "    <tr>\n",
              "      <th>1</th>\n",
              "      <td>830.0</td>\n",
              "      <td>1402.138554</td>\n",
              "      <td>272.364784</td>\n",
              "      <td>937.0</td>\n",
              "      <td>1184.25</td>\n",
              "      <td>1399.5</td>\n",
              "      <td>1643.75</td>\n",
              "      <td>1851.0</td>\n",
              "      <td>830.0</td>\n",
              "      <td>2.232530</td>\n",
              "      <td>...</td>\n",
              "      <td>5.0</td>\n",
              "      <td>5.0</td>\n",
              "      <td>830.0</td>\n",
              "      <td>315.507229</td>\n",
              "      <td>249.767413</td>\n",
              "      <td>13.0</td>\n",
              "      <td>139.25</td>\n",
              "      <td>249.5</td>\n",
              "      <td>414.5</td>\n",
              "      <td>1751.0</td>\n",
              "    </tr>\n",
              "  </tbody>\n",
              "</table>\n",
              "<p>2 rows × 32 columns</p>\n",
              "</div>\n",
              "      <button class=\"colab-df-convert\" onclick=\"convertToInteractive('df-9aeddd92-07de-4294-b0ab-6d660443a741')\"\n",
              "              title=\"Convert this dataframe to an interactive table.\"\n",
              "              style=\"display:none;\">\n",
              "        \n",
              "  <svg xmlns=\"http://www.w3.org/2000/svg\" height=\"24px\"viewBox=\"0 0 24 24\"\n",
              "       width=\"24px\">\n",
              "    <path d=\"M0 0h24v24H0V0z\" fill=\"none\"/>\n",
              "    <path d=\"M18.56 5.44l.94 2.06.94-2.06 2.06-.94-2.06-.94-.94-2.06-.94 2.06-2.06.94zm-11 1L8.5 8.5l.94-2.06 2.06-.94-2.06-.94L8.5 2.5l-.94 2.06-2.06.94zm10 10l.94 2.06.94-2.06 2.06-.94-2.06-.94-.94-2.06-.94 2.06-2.06.94z\"/><path d=\"M17.41 7.96l-1.37-1.37c-.4-.4-.92-.59-1.43-.59-.52 0-1.04.2-1.43.59L10.3 9.45l-7.72 7.72c-.78.78-.78 2.05 0 2.83L4 21.41c.39.39.9.59 1.41.59.51 0 1.02-.2 1.41-.59l7.78-7.78 2.81-2.81c.8-.78.8-2.07 0-2.86zM5.41 20L4 18.59l7.72-7.72 1.47 1.35L5.41 20z\"/>\n",
              "  </svg>\n",
              "      </button>\n",
              "      \n",
              "  <style>\n",
              "    .colab-df-container {\n",
              "      display:flex;\n",
              "      flex-wrap:wrap;\n",
              "      gap: 12px;\n",
              "    }\n",
              "\n",
              "    .colab-df-convert {\n",
              "      background-color: #E8F0FE;\n",
              "      border: none;\n",
              "      border-radius: 50%;\n",
              "      cursor: pointer;\n",
              "      display: none;\n",
              "      fill: #1967D2;\n",
              "      height: 32px;\n",
              "      padding: 0 0 0 0;\n",
              "      width: 32px;\n",
              "    }\n",
              "\n",
              "    .colab-df-convert:hover {\n",
              "      background-color: #E2EBFA;\n",
              "      box-shadow: 0px 1px 2px rgba(60, 64, 67, 0.3), 0px 1px 3px 1px rgba(60, 64, 67, 0.15);\n",
              "      fill: #174EA6;\n",
              "    }\n",
              "\n",
              "    [theme=dark] .colab-df-convert {\n",
              "      background-color: #3B4455;\n",
              "      fill: #D2E3FC;\n",
              "    }\n",
              "\n",
              "    [theme=dark] .colab-df-convert:hover {\n",
              "      background-color: #434B5C;\n",
              "      box-shadow: 0px 1px 3px 1px rgba(0, 0, 0, 0.15);\n",
              "      filter: drop-shadow(0px 1px 2px rgba(0, 0, 0, 0.3));\n",
              "      fill: #FFFFFF;\n",
              "    }\n",
              "  </style>\n",
              "\n",
              "      <script>\n",
              "        const buttonEl =\n",
              "          document.querySelector('#df-9aeddd92-07de-4294-b0ab-6d660443a741 button.colab-df-convert');\n",
              "        buttonEl.style.display =\n",
              "          google.colab.kernel.accessAllowed ? 'block' : 'none';\n",
              "\n",
              "        async function convertToInteractive(key) {\n",
              "          const element = document.querySelector('#df-9aeddd92-07de-4294-b0ab-6d660443a741');\n",
              "          const dataTable =\n",
              "            await google.colab.kernel.invokeFunction('convertToInteractive',\n",
              "                                                     [key], {});\n",
              "          if (!dataTable) return;\n",
              "\n",
              "          const docLinkHtml = 'Like what you see? Visit the ' +\n",
              "            '<a target=\"_blank\" href=https://colab.research.google.com/notebooks/data_table.ipynb>data table notebook</a>'\n",
              "            + ' to learn more about interactive tables.';\n",
              "          element.innerHTML = '';\n",
              "          dataTable['output_type'] = 'display_data';\n",
              "          await google.colab.output.renderOutput(dataTable, element);\n",
              "          const docLink = document.createElement('div');\n",
              "          docLink.innerHTML = docLinkHtml;\n",
              "          element.appendChild(docLink);\n",
              "        }\n",
              "      </script>\n",
              "    </div>\n",
              "  </div>\n",
              "  "
            ]
          },
          "metadata": {},
          "execution_count": 35
        }
      ]
    },
    {
      "cell_type": "code",
      "source": [
        "df.length.describe()"
      ],
      "metadata": {
        "id": "Nf3s9QZrTyK6",
        "colab": {
          "base_uri": "https://localhost:8080/"
        },
        "outputId": "ed4768db-fda5-4d88-d428-a713439517ca"
      },
      "execution_count": null,
      "outputs": [
        {
          "output_type": "execute_result",
          "data": {
            "text/plain": [
              "count     932.000000\n",
              "mean      313.346567\n",
              "std       285.542307\n",
              "min         5.000000\n",
              "25%       137.000000\n",
              "50%       242.000000\n",
              "75%       406.750000\n",
              "max      4669.000000\n",
              "Name: length, dtype: float64"
            ]
          },
          "metadata": {},
          "execution_count": 36
        }
      ]
    },
    {
      "cell_type": "code",
      "source": [
        "def text_process(review):\n",
        "    nopunc = [char for char in review if char not in string.punctuation]\n",
        "    nopunc = ''.join(nopunc)\n",
        "    return [word for word in nopunc.split() if word.lower() not in stopwords.words('english')]"
      ],
      "metadata": {
        "id": "zlHy5ZFTT0gC"
      },
      "execution_count": null,
      "outputs": []
    },
    {
      "cell_type": "code",
      "source": [
        "bow_transformer = CountVectorizer(analyzer=text_process)\n",
        "bow_transformer"
      ],
      "metadata": {
        "id": "6dZfCf-fT23E",
        "colab": {
          "base_uri": "https://localhost:8080/"
        },
        "outputId": "e856fcfa-ce90-4dee-8f3d-6231700c4e32"
      },
      "execution_count": null,
      "outputs": [
        {
          "output_type": "execute_result",
          "data": {
            "text/plain": [
              "CountVectorizer(analyzer=<function text_process at 0x7ff0463f30d0>)"
            ]
          },
          "metadata": {},
          "execution_count": 38
        }
      ]
    },
    {
      "cell_type": "code",
      "source": [
        "# (this process took time)\n",
        "bow_transformer.fit(df['Review'])\n",
        "print(\"Total Vocabulary:\",len(bow_transformer.vocabulary_))"
      ],
      "metadata": {
        "id": "vkw9Cm7CT5kg",
        "colab": {
          "base_uri": "https://localhost:8080/"
        },
        "outputId": "441f7b70-0697-4010-d6e3-26a58ba6da7f"
      },
      "execution_count": null,
      "outputs": [
        {
          "output_type": "stream",
          "name": "stdout",
          "text": [
            "Total Vocabulary: 4696\n"
          ]
        }
      ]
    },
    {
      "cell_type": "code",
      "source": [
        "review4 = df['Review'][3]\n",
        "review4"
      ],
      "metadata": {
        "id": "VAbp-fSyT7iu",
        "colab": {
          "base_uri": "https://localhost:8080/",
          "height": 70
        },
        "outputId": "ab495278-6f69-4afd-d3ed-5336a0cb7903"
      },
      "execution_count": null,
      "outputs": [
        {
          "output_type": "execute_result",
          "data": {
            "text/plain": [
              "\"thi beauti quaint littl restaur pretti street â if 're stroll soho around lunchtim would great place stop bite i heard review lamb sandwich i tri i 'm happi everi singl ingredi bread onion tomato lamb sauc delici these four star well deserv tasti sandwich great ambianc â i would recommend place anyon\""
            ],
            "application/vnd.google.colaboratory.intrinsic+json": {
              "type": "string"
            }
          },
          "metadata": {},
          "execution_count": 40
        }
      ]
    },
    {
      "cell_type": "code",
      "source": [
        "bow_msg4 = bow_transformer.transform([review4])\n",
        "print(bow_msg4)\n",
        "print(bow_msg4.shape)"
      ],
      "metadata": {
        "id": "c3AC-RpTT9Sp",
        "colab": {
          "base_uri": "https://localhost:8080/"
        },
        "outputId": "0e10e2fc-d523-4d52-aaad-756704bc1b1f"
      },
      "execution_count": null,
      "outputs": [
        {
          "output_type": "stream",
          "name": "stdout",
          "text": [
            "  (0, 252)\t1\n",
            "  (0, 295)\t1\n",
            "  (0, 331)\t1\n",
            "  (0, 460)\t1\n",
            "  (0, 544)\t1\n",
            "  (0, 627)\t1\n",
            "  (0, 1183)\t1\n",
            "  (0, 1210)\t1\n",
            "  (0, 1503)\t1\n",
            "  (0, 1710)\t1\n",
            "  (0, 1916)\t2\n",
            "  (0, 1993)\t1\n",
            "  (0, 2025)\t1\n",
            "  (0, 2210)\t1\n",
            "  (0, 2361)\t2\n",
            "  (0, 2451)\t1\n",
            "  (0, 2497)\t1\n",
            "  (0, 2931)\t1\n",
            "  (0, 3164)\t2\n",
            "  (0, 3252)\t1\n",
            "  (0, 3334)\t1\n",
            "  (0, 3405)\t1\n",
            "  (0, 3475)\t1\n",
            "  (0, 3489)\t1\n",
            "  (0, 3589)\t2\n",
            "  (0, 3603)\t1\n",
            "  (0, 3755)\t1\n",
            "  (0, 3832)\t1\n",
            "  (0, 3945)\t1\n",
            "  (0, 3981)\t1\n",
            "  (0, 3994)\t1\n",
            "  (0, 4000)\t1\n",
            "  (0, 4121)\t1\n",
            "  (0, 4166)\t1\n",
            "  (0, 4227)\t1\n",
            "  (0, 4271)\t1\n",
            "  (0, 4528)\t1\n",
            "  (0, 4620)\t2\n",
            "  (0, 4689)\t2\n",
            "(1, 4696)\n"
          ]
        }
      ]
    },
    {
      "cell_type": "code",
      "source": [
        "print(bow_transformer.get_feature_names()[3994])\n",
        "print(bow_transformer.get_feature_names()[4620])"
      ],
      "metadata": {
        "id": "qL0kIqSTT_YN",
        "colab": {
          "base_uri": "https://localhost:8080/"
        },
        "outputId": "9a1d8f73-e6bf-4e79-bda6-cf315a2c90d9"
      },
      "execution_count": null,
      "outputs": [
        {
          "output_type": "stream",
          "name": "stdout",
          "text": [
            "street\n",
            "would\n"
          ]
        }
      ]
    },
    {
      "cell_type": "code",
      "source": [
        "# transforming the review - (this process took time)\n",
        "bow_reviews = bow_transformer.transform(df['Review'])"
      ],
      "metadata": {
        "id": "eDJvG3ZNUBlW"
      },
      "execution_count": null,
      "outputs": []
    },
    {
      "cell_type": "code",
      "source": [
        "print(\"Shape of Bag of Words Transformer for the entire reviews corpus:\",bow_reviews.shape)\n",
        "print(\"Amount of non zero values in the bag of words model:\",bow_reviews.nnz)"
      ],
      "metadata": {
        "id": "kTcrLnEhUDm4",
        "colab": {
          "base_uri": "https://localhost:8080/"
        },
        "outputId": "fef3af4b-b559-4941-fb1f-9ee8367344e6"
      },
      "execution_count": null,
      "outputs": [
        {
          "output_type": "stream",
          "name": "stdout",
          "text": [
            "Shape of Bag of Words Transformer for the entire reviews corpus: (932, 4696)\n",
            "Amount of non zero values in the bag of words model: 38291\n"
          ]
        }
      ]
    },
    {
      "cell_type": "code",
      "source": [
        "print(\"Sparsity:\",np.round((bow_reviews.nnz/(bow_reviews.shape[0]*bow_reviews.shape[1]))*100,2))"
      ],
      "metadata": {
        "id": "T8g3F3b6UGX5",
        "colab": {
          "base_uri": "https://localhost:8080/"
        },
        "outputId": "7bfa6e77-89a0-4979-8b77-3b85abf432a4"
      },
      "execution_count": null,
      "outputs": [
        {
          "output_type": "stream",
          "name": "stdout",
          "text": [
            "Sparsity: 0.87\n"
          ]
        }
      ]
    },
    {
      "cell_type": "code",
      "source": [
        "tfidf_transformer = TfidfTransformer().fit(bow_reviews)\n",
        "tfidf_rev4 = tfidf_transformer.transform(bow_msg4)\n",
        "print(bow_msg4)"
      ],
      "metadata": {
        "id": "8pS9QRdWUIcj",
        "colab": {
          "base_uri": "https://localhost:8080/"
        },
        "outputId": "573282da-84e5-4bba-e8dc-2751ab9fdfc1"
      },
      "execution_count": null,
      "outputs": [
        {
          "output_type": "stream",
          "name": "stdout",
          "text": [
            "  (0, 252)\t1\n",
            "  (0, 295)\t1\n",
            "  (0, 331)\t1\n",
            "  (0, 460)\t1\n",
            "  (0, 544)\t1\n",
            "  (0, 627)\t1\n",
            "  (0, 1183)\t1\n",
            "  (0, 1210)\t1\n",
            "  (0, 1503)\t1\n",
            "  (0, 1710)\t1\n",
            "  (0, 1916)\t2\n",
            "  (0, 1993)\t1\n",
            "  (0, 2025)\t1\n",
            "  (0, 2210)\t1\n",
            "  (0, 2361)\t2\n",
            "  (0, 2451)\t1\n",
            "  (0, 2497)\t1\n",
            "  (0, 2931)\t1\n",
            "  (0, 3164)\t2\n",
            "  (0, 3252)\t1\n",
            "  (0, 3334)\t1\n",
            "  (0, 3405)\t1\n",
            "  (0, 3475)\t1\n",
            "  (0, 3489)\t1\n",
            "  (0, 3589)\t2\n",
            "  (0, 3603)\t1\n",
            "  (0, 3755)\t1\n",
            "  (0, 3832)\t1\n",
            "  (0, 3945)\t1\n",
            "  (0, 3981)\t1\n",
            "  (0, 3994)\t1\n",
            "  (0, 4000)\t1\n",
            "  (0, 4121)\t1\n",
            "  (0, 4166)\t1\n",
            "  (0, 4227)\t1\n",
            "  (0, 4271)\t1\n",
            "  (0, 4528)\t1\n",
            "  (0, 4620)\t2\n",
            "  (0, 4689)\t2\n"
          ]
        }
      ]
    },
    {
      "cell_type": "code",
      "source": [
        "print(tfidf_transformer.idf_[bow_transformer.vocabulary_['street']])\n",
        "print(tfidf_transformer.idf_[bow_transformer.vocabulary_['would']])"
      ],
      "metadata": {
        "id": "FEOl9kM6UKWW",
        "colab": {
          "base_uri": "https://localhost:8080/"
        },
        "outputId": "9df50223-43c3-4ceb-b088-db6e08a3d77b"
      },
      "execution_count": null,
      "outputs": [
        {
          "output_type": "stream",
          "name": "stdout",
          "text": [
            "4.893966221680904\n",
            "2.656621650555259\n"
          ]
        }
      ]
    },
    {
      "cell_type": "code",
      "source": [
        "tfidf_reviews = tfidf_transformer.transform(bow_reviews)\n",
        "print(\"Shape:\",tfidf_reviews.shape)\n",
        "print(\"No. of Dimensions:\",tfidf_reviews.ndim)\n",
        "\n",
        "# process of feature extraction ended"
      ],
      "metadata": {
        "id": "WoPlYwLdUNA_",
        "colab": {
          "base_uri": "https://localhost:8080/"
        },
        "outputId": "7ef78bda-2de1-4feb-8031-5ec0b71ee536"
      },
      "execution_count": null,
      "outputs": [
        {
          "output_type": "stream",
          "name": "stdout",
          "text": [
            "Shape: (932, 4696)\n",
            "No. of Dimensions: 2\n"
          ]
        }
      ]
    },
    {
      "cell_type": "code",
      "source": [
        "#training and testing data\n",
        "review_train, review_test, label_train, label_test = train_test_split(df['Review'],df['Label'],test_size=0.35)"
      ],
      "metadata": {
        "id": "Q0M3od2dURdk"
      },
      "execution_count": null,
      "outputs": []
    },
    {
      "cell_type": "code",
      "source": [
        "pipeline = Pipeline([\n",
        "    ('bow',CountVectorizer(analyzer=text_process)),\n",
        "    ('tfidf',TfidfTransformer()),\n",
        "    ('classifier',MultinomialNB())\n",
        "])"
      ],
      "metadata": {
        "id": "TEgsavTjUTyQ"
      },
      "execution_count": null,
      "outputs": []
    },
    {
      "cell_type": "code",
      "source": [
        "pipeline.fit(review_train,label_train)\n",
        "# this took time"
      ],
      "metadata": {
        "id": "BJ3u1FLRUVpQ",
        "colab": {
          "base_uri": "https://localhost:8080/"
        },
        "outputId": "6bd1cba6-c6de-4b2f-8da5-ab2fc56b73f5"
      },
      "execution_count": null,
      "outputs": [
        {
          "output_type": "execute_result",
          "data": {
            "text/plain": [
              "Pipeline(steps=[('bow',\n",
              "                 CountVectorizer(analyzer=<function text_process at 0x7ff0463f30d0>)),\n",
              "                ('tfidf', TfidfTransformer()),\n",
              "                ('classifier', MultinomialNB())])"
            ]
          },
          "metadata": {},
          "execution_count": 58
        }
      ]
    },
    {
      "cell_type": "code",
      "source": [
        "predictions = pipeline.predict(review_test)\n",
        "predictions\n",
        "#"
      ],
      "metadata": {
        "id": "pt3rGsXFUXV_"
      },
      "execution_count": null,
      "outputs": []
    },
    {
      "cell_type": "code",
      "source": [
        "print('Classification Report:',classification_report(label_test,predictions))\n",
        "print('Confusion Matrix:',confusion_matrix(label_test,predictions))\n",
        "print('Accuracy Score:',accuracy_score(label_test,predictions))"
      ],
      "metadata": {
        "id": "Ps3pQigrUZ-r",
        "colab": {
          "base_uri": "https://localhost:8080/"
        },
        "outputId": "59b50118-e99a-4358-a495-b3d051817306"
      },
      "execution_count": null,
      "outputs": [
        {
          "output_type": "stream",
          "name": "stdout",
          "text": [
            "Classification Report:               precision    recall  f1-score   support\n",
            "\n",
            "          -1       0.00      0.00      0.00        39\n",
            "           1       0.88      1.00      0.94       288\n",
            "\n",
            "    accuracy                           0.88       327\n",
            "   macro avg       0.44      0.50      0.47       327\n",
            "weighted avg       0.78      0.88      0.82       327\n",
            "\n",
            "Confusion Matrix: [[  0  39]\n",
            " [  0 288]]\n",
            "Accuracy Score: 0.8807339449541285\n"
          ]
        }
      ]
    },
    {
      "cell_type": "code",
      "source": [
        "print('Model Prediction Accuracy:',str(np.round(accuracy_score(label_test,predictions)*100,2)) + '%')"
      ],
      "metadata": {
        "id": "nEYxtusLUdQO",
        "colab": {
          "base_uri": "https://localhost:8080/"
        },
        "outputId": "e3ba91aa-79b1-4b97-8342-4458da280415"
      },
      "execution_count": null,
      "outputs": [
        {
          "output_type": "stream",
          "name": "stdout",
          "text": [
            "Model Prediction Accuracy: 88.07%\n"
          ]
        }
      ]
    },
    {
      "cell_type": "code",
      "source": [
        "pipeline = Pipeline([\n",
        "    ('bow',CountVectorizer(analyzer=text_process)),\n",
        "    ('tfidf',TfidfTransformer()),\n",
        "    ('classifier',RandomForestClassifier())\n",
        "])"
      ],
      "metadata": {
        "id": "rb7uY2sEUfMV"
      },
      "execution_count": null,
      "outputs": []
    },
    {
      "cell_type": "code",
      "source": [
        "pipeline.fit(review_train,label_train)\n",
        "#"
      ],
      "metadata": {
        "id": "C1GTGCinUhOS"
      },
      "execution_count": null,
      "outputs": []
    },
    {
      "cell_type": "code",
      "source": [
        "rfc_pred = pipeline.predict(review_test)\n",
        "rfc_pred\n",
        "# took 1m36s"
      ],
      "metadata": {
        "id": "Ds2a8hDbUjby"
      },
      "execution_count": null,
      "outputs": []
    },
    {
      "cell_type": "code",
      "source": [
        "print('Classification Report:',classification_report(label_test,rfc_pred))\n",
        "print('Confusion Matrix:',confusion_matrix(label_test,rfc_pred))\n",
        "print('Accuracy Score:',accuracy_score(label_test,rfc_pred))\n",
        "print('Model Prediction Accuracy:',str(np.round(accuracy_score(label_test,rfc_pred)*100,2)) + '%')"
      ],
      "metadata": {
        "id": "mX3kxH-MUmmR",
        "colab": {
          "base_uri": "https://localhost:8080/"
        },
        "outputId": "1ed48a80-6cbb-43bb-982b-08777f53b499"
      },
      "execution_count": null,
      "outputs": [
        {
          "output_type": "stream",
          "name": "stdout",
          "text": [
            "Classification Report:               precision    recall  f1-score   support\n",
            "\n",
            "          -1       0.00      0.00      0.00        39\n",
            "           1       0.88      1.00      0.94       288\n",
            "\n",
            "    accuracy                           0.88       327\n",
            "   macro avg       0.44      0.50      0.47       327\n",
            "weighted avg       0.78      0.88      0.82       327\n",
            "\n",
            "Confusion Matrix: [[  0  39]\n",
            " [  0 288]]\n",
            "Accuracy Score: 0.8807339449541285\n",
            "Model Prediction Accuracy: 88.07%\n"
          ]
        }
      ]
    },
    {
      "cell_type": "code",
      "source": [
        "pipeline = Pipeline([\n",
        "    ('bow',CountVectorizer(analyzer=text_process)),\n",
        "    ('tfidf',TfidfTransformer()),\n",
        "    ('classifier',DecisionTreeClassifier())\n",
        "])"
      ],
      "metadata": {
        "id": "tpXgUWU7UpTC"
      },
      "execution_count": null,
      "outputs": []
    },
    {
      "cell_type": "code",
      "source": [
        "pipeline.fit(review_train,label_train)\n",
        "#2m11s"
      ],
      "metadata": {
        "id": "bZhgro91UrbT"
      },
      "execution_count": null,
      "outputs": []
    },
    {
      "cell_type": "code",
      "source": [
        "dtree_pred = pipeline.predict(review_test)\n",
        "dtree_pred"
      ],
      "metadata": {
        "id": "nl32Y7L7UteF"
      },
      "execution_count": null,
      "outputs": []
    },
    {
      "cell_type": "code",
      "source": [
        "print('Classification Report:',classification_report(label_test,dtree_pred))\n",
        "print('Confusion Matrix:',confusion_matrix(label_test,dtree_pred))\n",
        "print('Accuracy Score:',accuracy_score(label_test,dtree_pred))\n",
        "print('Model Prediction Accuracy:',str(np.round(accuracy_score(label_test,dtree_pred)*100,2)) + '%')"
      ],
      "metadata": {
        "id": "KClYcIasUxbn",
        "colab": {
          "base_uri": "https://localhost:8080/"
        },
        "outputId": "f075db6c-10e0-4bd6-b537-37a7f66517c6"
      },
      "execution_count": null,
      "outputs": [
        {
          "output_type": "stream",
          "name": "stdout",
          "text": [
            "Classification Report:               precision    recall  f1-score   support\n",
            "\n",
            "          -1       0.09      0.10      0.09        39\n",
            "           1       0.88      0.85      0.86       288\n",
            "\n",
            "    accuracy                           0.76       327\n",
            "   macro avg       0.48      0.48      0.48       327\n",
            "weighted avg       0.78      0.76      0.77       327\n",
            "\n",
            "Confusion Matrix: [[  4  35]\n",
            " [ 42 246]]\n",
            "Accuracy Score: 0.764525993883792\n",
            "Model Prediction Accuracy: 76.45%\n"
          ]
        }
      ]
    },
    {
      "cell_type": "code",
      "source": [
        "pipeline = Pipeline([\n",
        "    ('bow',CountVectorizer(analyzer=text_process)),\n",
        "    ('tfidf',TfidfTransformer()),\n",
        "    ('classifier',KNeighborsClassifier(n_neighbors=2))\n",
        "])"
      ],
      "metadata": {
        "id": "Ojd6sBS4UzXu"
      },
      "execution_count": null,
      "outputs": []
    },
    {
      "cell_type": "code",
      "source": [
        "pipeline.fit(review_train,label_train)\n",
        "#1m57s"
      ],
      "metadata": {
        "id": "xO_NhqpOU1OI"
      },
      "execution_count": null,
      "outputs": []
    },
    {
      "cell_type": "code",
      "source": [
        "knn_pred = pipeline.predict(review_test)\n",
        "knn_pred"
      ],
      "metadata": {
        "id": "Ts4kvSu2U3Ce"
      },
      "execution_count": null,
      "outputs": []
    },
    {
      "cell_type": "code",
      "source": [
        "print('Classification Report:',classification_report(label_test,knn_pred))\n",
        "print('Confusion Matrix:',confusion_matrix(label_test,knn_pred))\n",
        "print('Accuracy Score:',accuracy_score(label_test,knn_pred))\n",
        "print('Model Prediction Accuracy:',str(np.round(accuracy_score(label_test,knn_pred)*100,2)) + '%')"
      ],
      "metadata": {
        "id": "kmf0xbOeU5c_",
        "colab": {
          "base_uri": "https://localhost:8080/"
        },
        "outputId": "ece62c43-d30f-4fba-9014-fab60561cd26"
      },
      "execution_count": null,
      "outputs": [
        {
          "output_type": "stream",
          "name": "stdout",
          "text": [
            "Classification Report:               precision    recall  f1-score   support\n",
            "\n",
            "          -1       0.10      0.18      0.13        39\n",
            "           1       0.88      0.79      0.83       288\n",
            "\n",
            "    accuracy                           0.72       327\n",
            "   macro avg       0.49      0.49      0.48       327\n",
            "weighted avg       0.78      0.72      0.75       327\n",
            "\n",
            "Confusion Matrix: [[  7  32]\n",
            " [ 60 228]]\n",
            "Accuracy Score: 0.7186544342507645\n",
            "Model Prediction Accuracy: 71.87%\n"
          ]
        }
      ]
    },
    {
      "cell_type": "code",
      "source": [
        "pipeline = Pipeline([\n",
        "    ('bow',CountVectorizer(analyzer=text_process)),\n",
        "    ('tfidf',TfidfTransformer()),\n",
        "    ('classifier',SVC())\n",
        "])"
      ],
      "metadata": {
        "id": "0Rtf6rkvU7a2"
      },
      "execution_count": null,
      "outputs": []
    },
    {
      "cell_type": "code",
      "source": [
        "pipeline.fit(review_train,label_train)\n",
        "#9m"
      ],
      "metadata": {
        "id": "tRphSwj8U9L4"
      },
      "execution_count": null,
      "outputs": []
    },
    {
      "cell_type": "code",
      "source": [
        "svc_pred = pipeline.predict(review_test)\n",
        "svc_pred"
      ],
      "metadata": {
        "id": "5IwdnjO-U_LE"
      },
      "execution_count": null,
      "outputs": []
    },
    {
      "cell_type": "code",
      "source": [
        "print('Classification Report:',classification_report(label_test,svc_pred))\n",
        "print('Confusion Matrix:',confusion_matrix(label_test,svc_pred))\n",
        "print('Accuracy Score:',accuracy_score(label_test,svc_pred))\n",
        "print('Model Prediction Accuracy:',str(np.round(accuracy_score(label_test,svc_pred)*100,2)) + '%')"
      ],
      "metadata": {
        "id": "1gtpVOBbVCGP",
        "colab": {
          "base_uri": "https://localhost:8080/"
        },
        "outputId": "ec9f19e1-235f-4f1a-b861-3e47ed7879f1"
      },
      "execution_count": null,
      "outputs": [
        {
          "output_type": "stream",
          "name": "stdout",
          "text": [
            "Classification Report:               precision    recall  f1-score   support\n",
            "\n",
            "          -1       0.00      0.00      0.00        39\n",
            "           1       0.88      1.00      0.94       288\n",
            "\n",
            "    accuracy                           0.88       327\n",
            "   macro avg       0.44      0.50      0.47       327\n",
            "weighted avg       0.78      0.88      0.82       327\n",
            "\n",
            "Confusion Matrix: [[  0  39]\n",
            " [  0 288]]\n",
            "Accuracy Score: 0.8807339449541285\n",
            "Model Prediction Accuracy: 88.07%\n"
          ]
        }
      ]
    },
    {
      "cell_type": "code",
      "source": [
        "pipeline = Pipeline([\n",
        "    ('bow',CountVectorizer(analyzer=text_process)),\n",
        "    ('tfidf',TfidfTransformer()),\n",
        "    ('classifier',LogisticRegression())\n",
        "])"
      ],
      "metadata": {
        "id": "oWG4WLKfVEEw"
      },
      "execution_count": null,
      "outputs": []
    },
    {
      "cell_type": "code",
      "source": [
        "pipeline.fit(review_train,label_train)"
      ],
      "metadata": {
        "id": "Z3wXstVEVF7O"
      },
      "execution_count": null,
      "outputs": []
    },
    {
      "cell_type": "code",
      "source": [
        "lr_pred = pipeline.predict(review_test)\n",
        "lr_pred"
      ],
      "metadata": {
        "id": "Z-O4KtLEVHpB"
      },
      "execution_count": null,
      "outputs": []
    },
    {
      "cell_type": "code",
      "source": [
        "print('Classification Report:',classification_report(label_test,lr_pred))\n",
        "print('Confusion Matrix:',confusion_matrix(label_test,lr_pred))\n",
        "print('Accuracy Score:',accuracy_score(label_test,lr_pred))\n",
        "print('Model Prediction Accuracy:',str(np.round(accuracy_score(label_test,lr_pred)*100,2)) + '%')"
      ],
      "metadata": {
        "id": "HRWeyRw8VKC1",
        "colab": {
          "base_uri": "https://localhost:8080/"
        },
        "outputId": "8301f4c2-9715-41e4-aaf2-724d57c1ee58"
      },
      "execution_count": null,
      "outputs": [
        {
          "output_type": "stream",
          "name": "stdout",
          "text": [
            "Classification Report:               precision    recall  f1-score   support\n",
            "\n",
            "          -1       0.00      0.00      0.00        39\n",
            "           1       0.88      1.00      0.94       288\n",
            "\n",
            "    accuracy                           0.88       327\n",
            "   macro avg       0.44      0.50      0.47       327\n",
            "weighted avg       0.78      0.88      0.82       327\n",
            "\n",
            "Confusion Matrix: [[  0  39]\n",
            " [  0 288]]\n",
            "Accuracy Score: 0.8807339449541285\n",
            "Model Prediction Accuracy: 88.07%\n"
          ]
        }
      ]
    },
    {
      "cell_type": "code",
      "source": [
        "#final output\n",
        "print('Performance of various ML models:')\n",
        "print('\\n')\n",
        "print('Logistic Regression Prediction Accuracy:',str(np.round(accuracy_score(label_test,lr_pred)*100,2)) + '%')\n",
        "print('K Nearest Neighbors Prediction Accuracy:',str(np.round(accuracy_score(label_test,knn_pred)*100,2)) + '%')\n",
        "print('Decision Tree Classifier Prediction Accuracy:',str(np.round(accuracy_score(label_test,dtree_pred)*100,2)) + '%')\n",
        "print('Random Forests Classifier Prediction Accuracy:',str(np.round(accuracy_score(label_test,rfc_pred)*100,2)) + '%')\n",
        "print('Support Vector Machines Prediction Accuracy:',str(np.round(accuracy_score(label_test,svc_pred)*100,2)) + '%')\n",
        "print('Multinomial Naive Bayes Prediction Accuracy:',str(np.round(accuracy_score(label_test,predictions)*100,2)) + '%')"
      ],
      "metadata": {
        "id": "Jx2g5L2bVNAO",
        "colab": {
          "base_uri": "https://localhost:8080/"
        },
        "outputId": "7c952689-b53e-4ca8-88ac-c6e8eddee151"
      },
      "execution_count": null,
      "outputs": [
        {
          "output_type": "stream",
          "name": "stdout",
          "text": [
            "Performance of various ML models:\n",
            "\n",
            "\n",
            "Logistic Regression Prediction Accuracy: 88.07%\n",
            "K Nearest Neighbors Prediction Accuracy: 71.87%\n",
            "Decision Tree Classifier Prediction Accuracy: 76.45%\n",
            "Random Forests Classifier Prediction Accuracy: 88.07%\n",
            "Support Vector Machines Prediction Accuracy: 88.07%\n",
            "Multinomial Naive Bayes Prediction Accuracy: 88.07%\n"
          ]
        }
      ]
    }
  ]
}