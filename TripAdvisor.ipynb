{
  "nbformat": 4,
  "nbformat_minor": 0,
  "metadata": {
    "colab": {
      "provenance": []
    },
    "kernelspec": {
      "name": "python3",
      "display_name": "Python 3"
    },
    "language_info": {
      "name": "python"
    }
  },
  "cells": [
    {
      "cell_type": "code",
      "execution_count": null,
      "metadata": {
        "id": "nD9qeJLkRqhh"
      },
      "outputs": [],
      "source": []
    },
    {
      "cell_type": "code",
      "execution_count": null,
      "metadata": {
        "colab": {
          "base_uri": "https://localhost:8080/"
        },
        "id": "X-CBiqIghrkL",
        "outputId": "2e9eabc5-a920-4e73-d28f-21280fbadb0a"
      },
      "outputs": [
        {
          "output_type": "stream",
          "name": "stderr",
          "text": [
            "[nltk_data] Downloading package wordnet to /root/nltk_data...\n"
          ]
        },
        {
          "output_type": "execute_result",
          "data": {
            "text/plain": [
              "True"
            ]
          },
          "metadata": {},
          "execution_count": 1
        }
      ],
      "source": [
        "import numpy as np\n",
        "import pandas as pd\n",
        "import seaborn as sns\n",
        "import matplotlib.pyplot as plt\n",
        "%matplotlib inline\n",
        "import warnings\n",
        "warnings.filterwarnings('ignore')\n",
        "from nltk.corpus import stopwords\n",
        "from sklearn.feature_extraction.text import TfidfTransformer, CountVectorizer\n",
        "from sklearn.metrics import classification_report, confusion_matrix\n",
        "from sklearn.model_selection import train_test_split\n",
        "import string, nltk\n",
        "from nltk import word_tokenize\n",
        "from nltk.stem import PorterStemmer\n",
        "from nltk.stem import WordNetLemmatizer\n",
        "nltk.download('wordnet')"
      ]
    },
    {
      "cell_type": "code",
      "source": [
        "nltk.download('omw-1.4')\n",
        "\n",
        "df = pd.read_csv('dataset3.txt')\n",
        "df.head()"
      ],
      "metadata": {
        "colab": {
          "base_uri": "https://localhost:8080/",
          "height": 224
        },
        "id": "scj4SStLiMvf",
        "outputId": "8f3e78b7-563b-46d2-af6e-9d15a9d928b9"
      },
      "execution_count": null,
      "outputs": [
        {
          "output_type": "stream",
          "name": "stderr",
          "text": [
            "[nltk_data] Downloading package omw-1.4 to /root/nltk_data...\n"
          ]
        },
        {
          "output_type": "execute_result",
          "data": {
            "text/plain": [
              "  deceptive   hotel  polarity       source  \\\n",
              "0  truthful  conrad  positive  TripAdvisor   \n",
              "1  truthful   hyatt  positive  TripAdvisor   \n",
              "2  truthful   hyatt  positive  TripAdvisor   \n",
              "3  truthful    omni  positive  TripAdvisor   \n",
              "4  truthful   hyatt  positive  TripAdvisor   \n",
              "\n",
              "                                                text  \n",
              "0  We stayed for a one night getaway with family ...  \n",
              "1  Triple A rate with upgrade to view room was le...  \n",
              "2  This comes a little late as I'm finally catchi...  \n",
              "3  The Omni Chicago really delivers on all fronts...  \n",
              "4  I asked for a high floor away from the elevato...  "
            ],
            "text/html": [
              "\n",
              "  <div id=\"df-b85e859a-4f2f-40c5-be55-f1f16487efdc\">\n",
              "    <div class=\"colab-df-container\">\n",
              "      <div>\n",
              "<style scoped>\n",
              "    .dataframe tbody tr th:only-of-type {\n",
              "        vertical-align: middle;\n",
              "    }\n",
              "\n",
              "    .dataframe tbody tr th {\n",
              "        vertical-align: top;\n",
              "    }\n",
              "\n",
              "    .dataframe thead th {\n",
              "        text-align: right;\n",
              "    }\n",
              "</style>\n",
              "<table border=\"1\" class=\"dataframe\">\n",
              "  <thead>\n",
              "    <tr style=\"text-align: right;\">\n",
              "      <th></th>\n",
              "      <th>deceptive</th>\n",
              "      <th>hotel</th>\n",
              "      <th>polarity</th>\n",
              "      <th>source</th>\n",
              "      <th>text</th>\n",
              "    </tr>\n",
              "  </thead>\n",
              "  <tbody>\n",
              "    <tr>\n",
              "      <th>0</th>\n",
              "      <td>truthful</td>\n",
              "      <td>conrad</td>\n",
              "      <td>positive</td>\n",
              "      <td>TripAdvisor</td>\n",
              "      <td>We stayed for a one night getaway with family ...</td>\n",
              "    </tr>\n",
              "    <tr>\n",
              "      <th>1</th>\n",
              "      <td>truthful</td>\n",
              "      <td>hyatt</td>\n",
              "      <td>positive</td>\n",
              "      <td>TripAdvisor</td>\n",
              "      <td>Triple A rate with upgrade to view room was le...</td>\n",
              "    </tr>\n",
              "    <tr>\n",
              "      <th>2</th>\n",
              "      <td>truthful</td>\n",
              "      <td>hyatt</td>\n",
              "      <td>positive</td>\n",
              "      <td>TripAdvisor</td>\n",
              "      <td>This comes a little late as I'm finally catchi...</td>\n",
              "    </tr>\n",
              "    <tr>\n",
              "      <th>3</th>\n",
              "      <td>truthful</td>\n",
              "      <td>omni</td>\n",
              "      <td>positive</td>\n",
              "      <td>TripAdvisor</td>\n",
              "      <td>The Omni Chicago really delivers on all fronts...</td>\n",
              "    </tr>\n",
              "    <tr>\n",
              "      <th>4</th>\n",
              "      <td>truthful</td>\n",
              "      <td>hyatt</td>\n",
              "      <td>positive</td>\n",
              "      <td>TripAdvisor</td>\n",
              "      <td>I asked for a high floor away from the elevato...</td>\n",
              "    </tr>\n",
              "  </tbody>\n",
              "</table>\n",
              "</div>\n",
              "      <button class=\"colab-df-convert\" onclick=\"convertToInteractive('df-b85e859a-4f2f-40c5-be55-f1f16487efdc')\"\n",
              "              title=\"Convert this dataframe to an interactive table.\"\n",
              "              style=\"display:none;\">\n",
              "        \n",
              "  <svg xmlns=\"http://www.w3.org/2000/svg\" height=\"24px\"viewBox=\"0 0 24 24\"\n",
              "       width=\"24px\">\n",
              "    <path d=\"M0 0h24v24H0V0z\" fill=\"none\"/>\n",
              "    <path d=\"M18.56 5.44l.94 2.06.94-2.06 2.06-.94-2.06-.94-.94-2.06-.94 2.06-2.06.94zm-11 1L8.5 8.5l.94-2.06 2.06-.94-2.06-.94L8.5 2.5l-.94 2.06-2.06.94zm10 10l.94 2.06.94-2.06 2.06-.94-2.06-.94-.94-2.06-.94 2.06-2.06.94z\"/><path d=\"M17.41 7.96l-1.37-1.37c-.4-.4-.92-.59-1.43-.59-.52 0-1.04.2-1.43.59L10.3 9.45l-7.72 7.72c-.78.78-.78 2.05 0 2.83L4 21.41c.39.39.9.59 1.41.59.51 0 1.02-.2 1.41-.59l7.78-7.78 2.81-2.81c.8-.78.8-2.07 0-2.86zM5.41 20L4 18.59l7.72-7.72 1.47 1.35L5.41 20z\"/>\n",
              "  </svg>\n",
              "      </button>\n",
              "      \n",
              "  <style>\n",
              "    .colab-df-container {\n",
              "      display:flex;\n",
              "      flex-wrap:wrap;\n",
              "      gap: 12px;\n",
              "    }\n",
              "\n",
              "    .colab-df-convert {\n",
              "      background-color: #E8F0FE;\n",
              "      border: none;\n",
              "      border-radius: 50%;\n",
              "      cursor: pointer;\n",
              "      display: none;\n",
              "      fill: #1967D2;\n",
              "      height: 32px;\n",
              "      padding: 0 0 0 0;\n",
              "      width: 32px;\n",
              "    }\n",
              "\n",
              "    .colab-df-convert:hover {\n",
              "      background-color: #E2EBFA;\n",
              "      box-shadow: 0px 1px 2px rgba(60, 64, 67, 0.3), 0px 1px 3px 1px rgba(60, 64, 67, 0.15);\n",
              "      fill: #174EA6;\n",
              "    }\n",
              "\n",
              "    [theme=dark] .colab-df-convert {\n",
              "      background-color: #3B4455;\n",
              "      fill: #D2E3FC;\n",
              "    }\n",
              "\n",
              "    [theme=dark] .colab-df-convert:hover {\n",
              "      background-color: #434B5C;\n",
              "      box-shadow: 0px 1px 3px 1px rgba(0, 0, 0, 0.15);\n",
              "      filter: drop-shadow(0px 1px 2px rgba(0, 0, 0, 0.3));\n",
              "      fill: #FFFFFF;\n",
              "    }\n",
              "  </style>\n",
              "\n",
              "      <script>\n",
              "        const buttonEl =\n",
              "          document.querySelector('#df-b85e859a-4f2f-40c5-be55-f1f16487efdc button.colab-df-convert');\n",
              "        buttonEl.style.display =\n",
              "          google.colab.kernel.accessAllowed ? 'block' : 'none';\n",
              "\n",
              "        async function convertToInteractive(key) {\n",
              "          const element = document.querySelector('#df-b85e859a-4f2f-40c5-be55-f1f16487efdc');\n",
              "          const dataTable =\n",
              "            await google.colab.kernel.invokeFunction('convertToInteractive',\n",
              "                                                     [key], {});\n",
              "          if (!dataTable) return;\n",
              "\n",
              "          const docLinkHtml = 'Like what you see? Visit the ' +\n",
              "            '<a target=\"_blank\" href=https://colab.research.google.com/notebooks/data_table.ipynb>data table notebook</a>'\n",
              "            + ' to learn more about interactive tables.';\n",
              "          element.innerHTML = '';\n",
              "          dataTable['output_type'] = 'display_data';\n",
              "          await google.colab.output.renderOutput(dataTable, element);\n",
              "          const docLink = document.createElement('div');\n",
              "          docLink.innerHTML = docLinkHtml;\n",
              "          element.appendChild(docLink);\n",
              "        }\n",
              "      </script>\n",
              "    </div>\n",
              "  </div>\n",
              "  "
            ]
          },
          "metadata": {},
          "execution_count": 2
        }
      ]
    },
    {
      "cell_type": "code",
      "source": [
        "df.isnull().sum()"
      ],
      "metadata": {
        "colab": {
          "base_uri": "https://localhost:8080/"
        },
        "id": "gPqxkmrtnzdl",
        "outputId": "4e2edede-20d1-44ea-d805-87282f4bd41b"
      },
      "execution_count": null,
      "outputs": [
        {
          "output_type": "execute_result",
          "data": {
            "text/plain": [
              "deceptive    0\n",
              "hotel        0\n",
              "polarity     0\n",
              "source       0\n",
              "text         0\n",
              "dtype: int64"
            ]
          },
          "metadata": {},
          "execution_count": 3
        }
      ]
    },
    {
      "cell_type": "code",
      "source": [
        "df.info()"
      ],
      "metadata": {
        "colab": {
          "base_uri": "https://localhost:8080/"
        },
        "id": "enxvXzypn4yh",
        "outputId": "999d356e-ab6a-4bc7-9899-d14a30fed601"
      },
      "execution_count": null,
      "outputs": [
        {
          "output_type": "stream",
          "name": "stdout",
          "text": [
            "<class 'pandas.core.frame.DataFrame'>\n",
            "RangeIndex: 1600 entries, 0 to 1599\n",
            "Data columns (total 5 columns):\n",
            " #   Column     Non-Null Count  Dtype \n",
            "---  ------     --------------  ----- \n",
            " 0   deceptive  1600 non-null   object\n",
            " 1   hotel      1600 non-null   object\n",
            " 2   polarity   1600 non-null   object\n",
            " 3   source     1600 non-null   object\n",
            " 4   text       1600 non-null   object\n",
            "dtypes: object(5)\n",
            "memory usage: 62.6+ KB\n"
          ]
        }
      ]
    },
    {
      "cell_type": "code",
      "source": [
        "df.describe()"
      ],
      "metadata": {
        "colab": {
          "base_uri": "https://localhost:8080/",
          "height": 175
        },
        "id": "PaZvj3vyn45n",
        "outputId": "a9ada7c6-bc00-43a8-c691-8b92a5b25221"
      },
      "execution_count": null,
      "outputs": [
        {
          "output_type": "execute_result",
          "data": {
            "text/plain": [
              "       deceptive   hotel  polarity source  \\\n",
              "count       1600    1600      1600   1600   \n",
              "unique         2      20         2      3   \n",
              "top     truthful  conrad  positive  MTurk   \n",
              "freq         800      80       800    800   \n",
              "\n",
              "                                                     text  \n",
              "count                                                1600  \n",
              "unique                                               1596  \n",
              "top     The Omni was chosen for it's location whichwor...  \n",
              "freq                                                    2  "
            ],
            "text/html": [
              "\n",
              "  <div id=\"df-7cda7a32-d577-4ea7-804f-a73bf76a1664\">\n",
              "    <div class=\"colab-df-container\">\n",
              "      <div>\n",
              "<style scoped>\n",
              "    .dataframe tbody tr th:only-of-type {\n",
              "        vertical-align: middle;\n",
              "    }\n",
              "\n",
              "    .dataframe tbody tr th {\n",
              "        vertical-align: top;\n",
              "    }\n",
              "\n",
              "    .dataframe thead th {\n",
              "        text-align: right;\n",
              "    }\n",
              "</style>\n",
              "<table border=\"1\" class=\"dataframe\">\n",
              "  <thead>\n",
              "    <tr style=\"text-align: right;\">\n",
              "      <th></th>\n",
              "      <th>deceptive</th>\n",
              "      <th>hotel</th>\n",
              "      <th>polarity</th>\n",
              "      <th>source</th>\n",
              "      <th>text</th>\n",
              "    </tr>\n",
              "  </thead>\n",
              "  <tbody>\n",
              "    <tr>\n",
              "      <th>count</th>\n",
              "      <td>1600</td>\n",
              "      <td>1600</td>\n",
              "      <td>1600</td>\n",
              "      <td>1600</td>\n",
              "      <td>1600</td>\n",
              "    </tr>\n",
              "    <tr>\n",
              "      <th>unique</th>\n",
              "      <td>2</td>\n",
              "      <td>20</td>\n",
              "      <td>2</td>\n",
              "      <td>3</td>\n",
              "      <td>1596</td>\n",
              "    </tr>\n",
              "    <tr>\n",
              "      <th>top</th>\n",
              "      <td>truthful</td>\n",
              "      <td>conrad</td>\n",
              "      <td>positive</td>\n",
              "      <td>MTurk</td>\n",
              "      <td>The Omni was chosen for it's location whichwor...</td>\n",
              "    </tr>\n",
              "    <tr>\n",
              "      <th>freq</th>\n",
              "      <td>800</td>\n",
              "      <td>80</td>\n",
              "      <td>800</td>\n",
              "      <td>800</td>\n",
              "      <td>2</td>\n",
              "    </tr>\n",
              "  </tbody>\n",
              "</table>\n",
              "</div>\n",
              "      <button class=\"colab-df-convert\" onclick=\"convertToInteractive('df-7cda7a32-d577-4ea7-804f-a73bf76a1664')\"\n",
              "              title=\"Convert this dataframe to an interactive table.\"\n",
              "              style=\"display:none;\">\n",
              "        \n",
              "  <svg xmlns=\"http://www.w3.org/2000/svg\" height=\"24px\"viewBox=\"0 0 24 24\"\n",
              "       width=\"24px\">\n",
              "    <path d=\"M0 0h24v24H0V0z\" fill=\"none\"/>\n",
              "    <path d=\"M18.56 5.44l.94 2.06.94-2.06 2.06-.94-2.06-.94-.94-2.06-.94 2.06-2.06.94zm-11 1L8.5 8.5l.94-2.06 2.06-.94-2.06-.94L8.5 2.5l-.94 2.06-2.06.94zm10 10l.94 2.06.94-2.06 2.06-.94-2.06-.94-.94-2.06-.94 2.06-2.06.94z\"/><path d=\"M17.41 7.96l-1.37-1.37c-.4-.4-.92-.59-1.43-.59-.52 0-1.04.2-1.43.59L10.3 9.45l-7.72 7.72c-.78.78-.78 2.05 0 2.83L4 21.41c.39.39.9.59 1.41.59.51 0 1.02-.2 1.41-.59l7.78-7.78 2.81-2.81c.8-.78.8-2.07 0-2.86zM5.41 20L4 18.59l7.72-7.72 1.47 1.35L5.41 20z\"/>\n",
              "  </svg>\n",
              "      </button>\n",
              "      \n",
              "  <style>\n",
              "    .colab-df-container {\n",
              "      display:flex;\n",
              "      flex-wrap:wrap;\n",
              "      gap: 12px;\n",
              "    }\n",
              "\n",
              "    .colab-df-convert {\n",
              "      background-color: #E8F0FE;\n",
              "      border: none;\n",
              "      border-radius: 50%;\n",
              "      cursor: pointer;\n",
              "      display: none;\n",
              "      fill: #1967D2;\n",
              "      height: 32px;\n",
              "      padding: 0 0 0 0;\n",
              "      width: 32px;\n",
              "    }\n",
              "\n",
              "    .colab-df-convert:hover {\n",
              "      background-color: #E2EBFA;\n",
              "      box-shadow: 0px 1px 2px rgba(60, 64, 67, 0.3), 0px 1px 3px 1px rgba(60, 64, 67, 0.15);\n",
              "      fill: #174EA6;\n",
              "    }\n",
              "\n",
              "    [theme=dark] .colab-df-convert {\n",
              "      background-color: #3B4455;\n",
              "      fill: #D2E3FC;\n",
              "    }\n",
              "\n",
              "    [theme=dark] .colab-df-convert:hover {\n",
              "      background-color: #434B5C;\n",
              "      box-shadow: 0px 1px 3px 1px rgba(0, 0, 0, 0.15);\n",
              "      filter: drop-shadow(0px 1px 2px rgba(0, 0, 0, 0.3));\n",
              "      fill: #FFFFFF;\n",
              "    }\n",
              "  </style>\n",
              "\n",
              "      <script>\n",
              "        const buttonEl =\n",
              "          document.querySelector('#df-7cda7a32-d577-4ea7-804f-a73bf76a1664 button.colab-df-convert');\n",
              "        buttonEl.style.display =\n",
              "          google.colab.kernel.accessAllowed ? 'block' : 'none';\n",
              "\n",
              "        async function convertToInteractive(key) {\n",
              "          const element = document.querySelector('#df-7cda7a32-d577-4ea7-804f-a73bf76a1664');\n",
              "          const dataTable =\n",
              "            await google.colab.kernel.invokeFunction('convertToInteractive',\n",
              "                                                     [key], {});\n",
              "          if (!dataTable) return;\n",
              "\n",
              "          const docLinkHtml = 'Like what you see? Visit the ' +\n",
              "            '<a target=\"_blank\" href=https://colab.research.google.com/notebooks/data_table.ipynb>data table notebook</a>'\n",
              "            + ' to learn more about interactive tables.';\n",
              "          element.innerHTML = '';\n",
              "          dataTable['output_type'] = 'display_data';\n",
              "          await google.colab.output.renderOutput(dataTable, element);\n",
              "          const docLink = document.createElement('div');\n",
              "          docLink.innerHTML = docLinkHtml;\n",
              "          element.appendChild(docLink);\n",
              "        }\n",
              "      </script>\n",
              "    </div>\n",
              "  </div>\n",
              "  "
            ]
          },
          "metadata": {},
          "execution_count": 5
        }
      ]
    },
    {
      "cell_type": "code",
      "source": [
        "df['deceptive'].value_counts()"
      ],
      "metadata": {
        "colab": {
          "base_uri": "https://localhost:8080/"
        },
        "id": "0tRKJU9Xn4_4",
        "outputId": "fa05a921-ae75-4788-86b9-de355dc587f7"
      },
      "execution_count": null,
      "outputs": [
        {
          "output_type": "execute_result",
          "data": {
            "text/plain": [
              "truthful     800\n",
              "deceptive    800\n",
              "Name: deceptive, dtype: int64"
            ]
          },
          "metadata": {},
          "execution_count": 7
        }
      ]
    },
    {
      "cell_type": "code",
      "source": [
        "plt.figure(figsize=(15,8))\n",
        "labels = df['polarity'].value_counts().keys()\n",
        "values = df['polarity'].value_counts().values\n",
        "explode = (0.1,0,0,0,0)\n",
        "plt.pie(values,labels=labels,explode=explode,shadow=True,autopct='%1.1f%%')\n",
        "plt.title('Proportion of each rating',fontweight='bold',fontsize=25,pad=20,color='crimson')\n",
        "plt.show()"
      ],
      "metadata": {
        "colab": {
          "base_uri": "https://localhost:8080/",
          "height": 877
        },
        "id": "o1sPH4T4n5Cr",
        "outputId": "860669e7-97b1-40c5-be84-6d041bf150b5"
      },
      "execution_count": null,
      "outputs": [
        {
          "output_type": "error",
          "ename": "ValueError",
          "evalue": "ignored",
          "traceback": [
            "\u001b[0;31m---------------------------------------------------------------------------\u001b[0m",
            "\u001b[0;31mValueError\u001b[0m                                Traceback (most recent call last)",
            "\u001b[0;32m<ipython-input-8-8e23fe67dc27>\u001b[0m in \u001b[0;36m<module>\u001b[0;34m\u001b[0m\n\u001b[1;32m      3\u001b[0m \u001b[0mvalues\u001b[0m \u001b[0;34m=\u001b[0m \u001b[0mdf\u001b[0m\u001b[0;34m[\u001b[0m\u001b[0;34m'polarity'\u001b[0m\u001b[0;34m]\u001b[0m\u001b[0;34m.\u001b[0m\u001b[0mvalue_counts\u001b[0m\u001b[0;34m(\u001b[0m\u001b[0;34m)\u001b[0m\u001b[0;34m.\u001b[0m\u001b[0mvalues\u001b[0m\u001b[0;34m\u001b[0m\u001b[0;34m\u001b[0m\u001b[0m\n\u001b[1;32m      4\u001b[0m \u001b[0mexplode\u001b[0m \u001b[0;34m=\u001b[0m \u001b[0;34m(\u001b[0m\u001b[0;36m0.1\u001b[0m\u001b[0;34m,\u001b[0m\u001b[0;36m0\u001b[0m\u001b[0;34m,\u001b[0m\u001b[0;36m0\u001b[0m\u001b[0;34m,\u001b[0m\u001b[0;36m0\u001b[0m\u001b[0;34m,\u001b[0m\u001b[0;36m0\u001b[0m\u001b[0;34m)\u001b[0m\u001b[0;34m\u001b[0m\u001b[0;34m\u001b[0m\u001b[0m\n\u001b[0;32m----> 5\u001b[0;31m \u001b[0mplt\u001b[0m\u001b[0;34m.\u001b[0m\u001b[0mpie\u001b[0m\u001b[0;34m(\u001b[0m\u001b[0mvalues\u001b[0m\u001b[0;34m,\u001b[0m\u001b[0mlabels\u001b[0m\u001b[0;34m=\u001b[0m\u001b[0mlabels\u001b[0m\u001b[0;34m,\u001b[0m\u001b[0mexplode\u001b[0m\u001b[0;34m=\u001b[0m\u001b[0mexplode\u001b[0m\u001b[0;34m,\u001b[0m\u001b[0mshadow\u001b[0m\u001b[0;34m=\u001b[0m\u001b[0;32mTrue\u001b[0m\u001b[0;34m,\u001b[0m\u001b[0mautopct\u001b[0m\u001b[0;34m=\u001b[0m\u001b[0;34m'%1.1f%%'\u001b[0m\u001b[0;34m)\u001b[0m\u001b[0;34m\u001b[0m\u001b[0;34m\u001b[0m\u001b[0m\n\u001b[0m\u001b[1;32m      6\u001b[0m \u001b[0mplt\u001b[0m\u001b[0;34m.\u001b[0m\u001b[0mtitle\u001b[0m\u001b[0;34m(\u001b[0m\u001b[0;34m'Proportion of each rating'\u001b[0m\u001b[0;34m,\u001b[0m\u001b[0mfontweight\u001b[0m\u001b[0;34m=\u001b[0m\u001b[0;34m'bold'\u001b[0m\u001b[0;34m,\u001b[0m\u001b[0mfontsize\u001b[0m\u001b[0;34m=\u001b[0m\u001b[0;36m25\u001b[0m\u001b[0;34m,\u001b[0m\u001b[0mpad\u001b[0m\u001b[0;34m=\u001b[0m\u001b[0;36m20\u001b[0m\u001b[0;34m,\u001b[0m\u001b[0mcolor\u001b[0m\u001b[0;34m=\u001b[0m\u001b[0;34m'crimson'\u001b[0m\u001b[0;34m)\u001b[0m\u001b[0;34m\u001b[0m\u001b[0;34m\u001b[0m\u001b[0m\n\u001b[1;32m      7\u001b[0m \u001b[0mplt\u001b[0m\u001b[0;34m.\u001b[0m\u001b[0mshow\u001b[0m\u001b[0;34m(\u001b[0m\u001b[0;34m)\u001b[0m\u001b[0;34m\u001b[0m\u001b[0;34m\u001b[0m\u001b[0m\n",
            "\u001b[0;32m/usr/local/lib/python3.7/dist-packages/matplotlib/pyplot.py\u001b[0m in \u001b[0;36mpie\u001b[0;34m(x, explode, labels, colors, autopct, pctdistance, shadow, labeldistance, startangle, radius, counterclock, wedgeprops, textprops, center, frame, rotatelabels, data)\u001b[0m\n\u001b[1;32m   2753\u001b[0m         \u001b[0mwedgeprops\u001b[0m\u001b[0;34m=\u001b[0m\u001b[0mwedgeprops\u001b[0m\u001b[0;34m,\u001b[0m \u001b[0mtextprops\u001b[0m\u001b[0;34m=\u001b[0m\u001b[0mtextprops\u001b[0m\u001b[0;34m,\u001b[0m \u001b[0mcenter\u001b[0m\u001b[0;34m=\u001b[0m\u001b[0mcenter\u001b[0m\u001b[0;34m,\u001b[0m\u001b[0;34m\u001b[0m\u001b[0;34m\u001b[0m\u001b[0m\n\u001b[1;32m   2754\u001b[0m         frame=frame, rotatelabels=rotatelabels, **({\"data\": data} if\n\u001b[0;32m-> 2755\u001b[0;31m         data is not None else {}))\n\u001b[0m\u001b[1;32m   2756\u001b[0m \u001b[0;34m\u001b[0m\u001b[0m\n\u001b[1;32m   2757\u001b[0m \u001b[0;34m\u001b[0m\u001b[0m\n",
            "\u001b[0;32m/usr/local/lib/python3.7/dist-packages/matplotlib/__init__.py\u001b[0m in \u001b[0;36minner\u001b[0;34m(ax, data, *args, **kwargs)\u001b[0m\n\u001b[1;32m   1563\u001b[0m     \u001b[0;32mdef\u001b[0m \u001b[0minner\u001b[0m\u001b[0;34m(\u001b[0m\u001b[0max\u001b[0m\u001b[0;34m,\u001b[0m \u001b[0;34m*\u001b[0m\u001b[0margs\u001b[0m\u001b[0;34m,\u001b[0m \u001b[0mdata\u001b[0m\u001b[0;34m=\u001b[0m\u001b[0;32mNone\u001b[0m\u001b[0;34m,\u001b[0m \u001b[0;34m**\u001b[0m\u001b[0mkwargs\u001b[0m\u001b[0;34m)\u001b[0m\u001b[0;34m:\u001b[0m\u001b[0;34m\u001b[0m\u001b[0;34m\u001b[0m\u001b[0m\n\u001b[1;32m   1564\u001b[0m         \u001b[0;32mif\u001b[0m \u001b[0mdata\u001b[0m \u001b[0;32mis\u001b[0m \u001b[0;32mNone\u001b[0m\u001b[0;34m:\u001b[0m\u001b[0;34m\u001b[0m\u001b[0;34m\u001b[0m\u001b[0m\n\u001b[0;32m-> 1565\u001b[0;31m             \u001b[0;32mreturn\u001b[0m \u001b[0mfunc\u001b[0m\u001b[0;34m(\u001b[0m\u001b[0max\u001b[0m\u001b[0;34m,\u001b[0m \u001b[0;34m*\u001b[0m\u001b[0mmap\u001b[0m\u001b[0;34m(\u001b[0m\u001b[0msanitize_sequence\u001b[0m\u001b[0;34m,\u001b[0m \u001b[0margs\u001b[0m\u001b[0;34m)\u001b[0m\u001b[0;34m,\u001b[0m \u001b[0;34m**\u001b[0m\u001b[0mkwargs\u001b[0m\u001b[0;34m)\u001b[0m\u001b[0;34m\u001b[0m\u001b[0;34m\u001b[0m\u001b[0m\n\u001b[0m\u001b[1;32m   1566\u001b[0m \u001b[0;34m\u001b[0m\u001b[0m\n\u001b[1;32m   1567\u001b[0m         \u001b[0mbound\u001b[0m \u001b[0;34m=\u001b[0m \u001b[0mnew_sig\u001b[0m\u001b[0;34m.\u001b[0m\u001b[0mbind\u001b[0m\u001b[0;34m(\u001b[0m\u001b[0max\u001b[0m\u001b[0;34m,\u001b[0m \u001b[0;34m*\u001b[0m\u001b[0margs\u001b[0m\u001b[0;34m,\u001b[0m \u001b[0;34m**\u001b[0m\u001b[0mkwargs\u001b[0m\u001b[0;34m)\u001b[0m\u001b[0;34m\u001b[0m\u001b[0;34m\u001b[0m\u001b[0m\n",
            "\u001b[0;32m/usr/local/lib/python3.7/dist-packages/matplotlib/axes/_axes.py\u001b[0m in \u001b[0;36mpie\u001b[0;34m(self, x, explode, labels, colors, autopct, pctdistance, shadow, labeldistance, startangle, radius, counterclock, wedgeprops, textprops, center, frame, rotatelabels)\u001b[0m\n\u001b[1;32m   2929\u001b[0m             \u001b[0;32mraise\u001b[0m \u001b[0mValueError\u001b[0m\u001b[0;34m(\u001b[0m\u001b[0;34m\"'label' must be of length 'x'\"\u001b[0m\u001b[0;34m)\u001b[0m\u001b[0;34m\u001b[0m\u001b[0;34m\u001b[0m\u001b[0m\n\u001b[1;32m   2930\u001b[0m         \u001b[0;32mif\u001b[0m \u001b[0mlen\u001b[0m\u001b[0;34m(\u001b[0m\u001b[0mx\u001b[0m\u001b[0;34m)\u001b[0m \u001b[0;34m!=\u001b[0m \u001b[0mlen\u001b[0m\u001b[0;34m(\u001b[0m\u001b[0mexplode\u001b[0m\u001b[0;34m)\u001b[0m\u001b[0;34m:\u001b[0m\u001b[0;34m\u001b[0m\u001b[0;34m\u001b[0m\u001b[0m\n\u001b[0;32m-> 2931\u001b[0;31m             \u001b[0;32mraise\u001b[0m \u001b[0mValueError\u001b[0m\u001b[0;34m(\u001b[0m\u001b[0;34m\"'explode' must be of length 'x'\"\u001b[0m\u001b[0;34m)\u001b[0m\u001b[0;34m\u001b[0m\u001b[0;34m\u001b[0m\u001b[0m\n\u001b[0m\u001b[1;32m   2932\u001b[0m         \u001b[0;32mif\u001b[0m \u001b[0mcolors\u001b[0m \u001b[0;32mis\u001b[0m \u001b[0;32mNone\u001b[0m\u001b[0;34m:\u001b[0m\u001b[0;34m\u001b[0m\u001b[0;34m\u001b[0m\u001b[0m\n\u001b[1;32m   2933\u001b[0m             \u001b[0mget_next_color\u001b[0m \u001b[0;34m=\u001b[0m \u001b[0mself\u001b[0m\u001b[0;34m.\u001b[0m\u001b[0m_get_patches_for_fill\u001b[0m\u001b[0;34m.\u001b[0m\u001b[0mget_next_color\u001b[0m\u001b[0;34m\u001b[0m\u001b[0;34m\u001b[0m\u001b[0m\n",
            "\u001b[0;31mValueError\u001b[0m: 'explode' must be of length 'x'"
          ]
        },
        {
          "output_type": "display_data",
          "data": {
            "text/plain": [
              "<Figure size 1080x576 with 1 Axes>"
            ],
            "image/png": "[encoded data removed]"
          },
          "metadata": {
            "needs_background": "light"
          }
        }
      ]
    },
    {
      "cell_type": "code",
      "source": [
        "def clean_text(text):\n",
        "    nopunc = [w for w in text if w not in string.punctuation]\n",
        "    nopunc = ''.join(nopunc)\n",
        "    return  ' '.join([word for word in nopunc.split() if word.lower() not in stopwords.words('english')])"
      ],
      "metadata": {
        "id": "i_eTUIZzn5Fg"
      },
      "execution_count": null,
      "outputs": []
    },
    {
      "cell_type": "code",
      "source": [
        "import nltk\n",
        "nltk.download('stopwords')"
      ],
      "metadata": {
        "colab": {
          "base_uri": "https://localhost:8080/"
        },
        "id": "Tpv5XHANrRkI",
        "outputId": "264dedef-9cb1-4264-9253-e06c928ce665"
      },
      "execution_count": null,
      "outputs": [
        {
          "output_type": "stream",
          "name": "stderr",
          "text": [
            "[nltk_data] Downloading package stopwords to /root/nltk_data...\n",
            "[nltk_data]   Unzipping corpora/stopwords.zip.\n"
          ]
        },
        {
          "output_type": "execute_result",
          "data": {
            "text/plain": [
              "True"
            ]
          },
          "metadata": {},
          "execution_count": 11
        }
      ]
    },
    {
      "cell_type": "code",
      "source": [
        "df['text'][0], clean_text(df['text'][0])"
      ],
      "metadata": {
        "colab": {
          "base_uri": "https://localhost:8080/"
        },
        "id": "Ucv4U0t5n5H5",
        "outputId": "7413eaca-6187-48c4-f1dc-12a8ee2efd97"
      },
      "execution_count": null,
      "outputs": [
        {
          "output_type": "execute_result",
          "data": {
            "text/plain": [
              "('We stayed for a one night getaway with family on a thursday. Triple AAA rate of 173 was a steal. 7th floor room complete with 44in plasma TV bose stereo, voss and evian water, and gorgeous bathroom(no tub but was fine for us) Concierge was very helpful. You cannot beat this location... Only flaw was breakfast was pricey and service was very very slow(2hours for four kids and four adults on a friday morning) even though there were only two other tables in the restaurant. Food was very good so it was worth the wait. I would return in a heartbeat. A gem in chicago... \\n',\n",
              " 'stayed one night getaway family thursday Triple AAA rate 173 steal 7th floor room complete 44in plasma TV bose stereo voss evian water gorgeous bathroomno tub fine us Concierge helpful cannot beat location flaw breakfast pricey service slow2hours four kids four adults friday morning even though two tables restaurant Food good worth wait would return heartbeat gem chicago')"
            ]
          },
          "metadata": {},
          "execution_count": 13
        }
      ]
    },
    {
      "cell_type": "code",
      "source": [
        "df['text'].head().apply(clean_text)"
      ],
      "metadata": {
        "colab": {
          "base_uri": "https://localhost:8080/"
        },
        "id": "wLRVXDq0n5Kd",
        "outputId": "573ca4cd-c4ce-4b7c-9c84-2db1bc472bc4"
      },
      "execution_count": null,
      "outputs": [
        {
          "output_type": "execute_result",
          "data": {
            "text/plain": [
              "0    stayed one night getaway family thursday Tripl...\n",
              "1    Triple rate upgrade view room less 200 also in...\n",
              "2    comes little late Im finally catching reviews ...\n",
              "3    Omni Chicago really delivers fronts spaciousne...\n",
              "4    asked high floor away elevator got room pleasa...\n",
              "Name: text, dtype: object"
            ]
          },
          "metadata": {},
          "execution_count": 14
        }
      ]
    },
    {
      "cell_type": "code",
      "source": [
        "df.shape"
      ],
      "metadata": {
        "colab": {
          "base_uri": "https://localhost:8080/"
        },
        "id": "uiJY3S6hpCUl",
        "outputId": "6813c1b9-ad68-4aaa-c681-310c42df2431"
      },
      "execution_count": null,
      "outputs": [
        {
          "output_type": "execute_result",
          "data": {
            "text/plain": [
              "(1600, 5)"
            ]
          },
          "metadata": {},
          "execution_count": 15
        }
      ]
    },
    {
      "cell_type": "code",
      "source": [
        "df['text'] = df['text'].astype(str)"
      ],
      "metadata": {
        "id": "sGL0DjfSpCVR"
      },
      "execution_count": null,
      "outputs": []
    },
    {
      "cell_type": "code",
      "source": [
        "def preprocess(text):\n",
        "    return ' '.join([word for word in word_tokenize(text) if word not in stopwords.words('english') and not word.isdigit() and word not in string.punctuation])"
      ],
      "metadata": {
        "id": "XQMK1QrapCYj"
      },
      "execution_count": null,
      "outputs": []
    },
    {
      "cell_type": "code",
      "source": [
        "import nltk\n",
        "nltk.download('punkt')"
      ],
      "metadata": {
        "colab": {
          "base_uri": "https://localhost:8080/"
        },
        "id": "WpUJX_O9rhMS",
        "outputId": "da91de54-9ded-4f18-aa8c-6a848f47b002"
      },
      "execution_count": null,
      "outputs": [
        {
          "output_type": "stream",
          "name": "stderr",
          "text": [
            "[nltk_data] Downloading package punkt to /root/nltk_data...\n",
            "[nltk_data]   Unzipping tokenizers/punkt.zip.\n"
          ]
        },
        {
          "output_type": "execute_result",
          "data": {
            "text/plain": [
              "True"
            ]
          },
          "metadata": {},
          "execution_count": 18
        }
      ]
    },
    {
      "cell_type": "code",
      "source": [
        "preprocess(df['text'][4])"
      ],
      "metadata": {
        "colab": {
          "base_uri": "https://localhost:8080/",
          "height": 71
        },
        "id": "lnrIW0UxpCbb",
        "outputId": "e7241ee4-dc6a-411a-bdba-94e19e0b13fd"
      },
      "execution_count": null,
      "outputs": [
        {
          "output_type": "execute_result",
          "data": {
            "text/plain": [
              "\"I asked high floor away elevator I got The room pleasantly decorated functional clean I n't need whole lot service I pleasant prompt I used fitness center well equipped everything working order It great location one end Michigan Avenue shopping district\""
            ],
            "application/vnd.google.colaboratory.intrinsic+json": {
              "type": "string"
            }
          },
          "metadata": {},
          "execution_count": 20
        }
      ]
    },
    {
      "cell_type": "code",
      "source": [
        "df['text'][:1600] = df['text'][:1600].apply(preprocess)"
      ],
      "metadata": {
        "id": "7TXaLWvWpCeT"
      },
      "execution_count": null,
      "outputs": []
    },
    {
      "cell_type": "code",
      "source": [
        "# no commands\n",
        "df['text_'][10001:20000] = df['text_'][10001:20000].apply(preprocess)"
      ],
      "metadata": {
        "id": "zLVb1bn7pCg4"
      },
      "execution_count": null,
      "outputs": []
    },
    {
      "cell_type": "code",
      "source": [
        "df['text_'][20001:30000] = df['text_'][20001:30000].apply(preprocess)"
      ],
      "metadata": {
        "id": "igHBd0C5sPiT"
      },
      "execution_count": null,
      "outputs": []
    },
    {
      "cell_type": "code",
      "source": [
        "df['text_'][30001:40000] = df['text_'][30001:40000].apply(preprocess)\n",
        "df['text_'][40001:40432] = df['text_'][40001:40432].apply(preprocess)"
      ],
      "metadata": {
        "id": "EILNr0WGsSdp"
      },
      "execution_count": null,
      "outputs": []
    },
    {
      "cell_type": "code",
      "source": [
        "df['text'] = df['text'].str.lower()"
      ],
      "metadata": {
        "id": "uSfElqSEsSni"
      },
      "execution_count": null,
      "outputs": []
    },
    {
      "cell_type": "code",
      "source": [
        "stemmer = PorterStemmer()\n",
        "def stem_words(text):\n",
        "    return ' '.join([stemmer.stem(word) for word in text.split()])\n",
        "df['text'] = df['text'].apply(lambda x: stem_words(x))"
      ],
      "metadata": {
        "id": "LpRIkK85sSqK"
      },
      "execution_count": null,
      "outputs": []
    },
    {
      "cell_type": "code",
      "source": [
        "lemmatizer = WordNetLemmatizer()\n",
        "def lemmatize_words(text):\n",
        "    return ' '.join([lemmatizer.lemmatize(word) for word in text.split()])\n",
        "df[\"text\"] = df[\"text\"].apply(lambda text: lemmatize_words(text))"
      ],
      "metadata": {
        "id": "lNpTcf7GsSsv"
      },
      "execution_count": null,
      "outputs": []
    },
    {
      "cell_type": "code",
      "source": [
        "df['text'].head()"
      ],
      "metadata": {
        "colab": {
          "base_uri": "https://localhost:8080/"
        },
        "id": "ba8diCDasSvE",
        "outputId": "69adef87-4d81-4c54-f05b-34cba64bb88c"
      },
      "execution_count": null,
      "outputs": [
        {
          "output_type": "execute_result",
          "data": {
            "text/plain": [
              "0    we stay one night getaway famili thursday trip...\n",
              "1    tripl a rate upgrad view room le also includ b...\n",
              "2    thi come littl late i 'm final catch review pa...\n",
              "3    the omni chicago realli deliv front spacious r...\n",
              "4    i ask high floor away elev i got the room plea...\n",
              "Name: text, dtype: object"
            ]
          },
          "metadata": {},
          "execution_count": 26
        }
      ]
    },
    {
      "cell_type": "code",
      "source": [
        "df.to_csv('Preprocessed Fake Reviews Detection Dataset.csv')\n",
        "\n",
        "# Preprocessing of data completed here"
      ],
      "metadata": {
        "id": "f62OTw9OsfJ5"
      },
      "execution_count": null,
      "outputs": []
    },
    {
      "cell_type": "code",
      "source": [
        "import numpy as np\n",
        "import pandas as pd\n",
        "import seaborn as sns\n",
        "import matplotlib.pyplot as plt\n",
        "%matplotlib inline\n",
        "import warnings, string\n",
        "warnings.filterwarnings('ignore')\n",
        "from sklearn.model_selection import train_test_split, GridSearchCV\n",
        "from sklearn.metrics import classification_report, confusion_matrix, accuracy_score\n",
        "import nltk\n",
        "from nltk.corpus import stopwords\n",
        "from sklearn.feature_extraction.text import CountVectorizer, TfidfTransformer\n",
        "from sklearn.naive_bayes import MultinomialNB\n",
        "from sklearn.pipeline import Pipeline\n",
        "from sklearn.ensemble import RandomForestClassifier\n",
        "from sklearn.tree import DecisionTreeClassifier\n",
        "from sklearn.neighbors import KNeighborsClassifier\n",
        "from sklearn.svm import SVC\n",
        "from sklearn.linear_model import LogisticRegression"
      ],
      "metadata": {
        "id": "QkNI2w36s5GV"
      },
      "execution_count": null,
      "outputs": []
    },
    {
      "cell_type": "code",
      "source": [
        "df = pd.read_csv('Preprocessed Fake Reviews Detection Dataset.csv')\n",
        "df.head()"
      ],
      "metadata": {
        "colab": {
          "base_uri": "https://localhost:8080/",
          "height": 206
        },
        "id": "UYazdUqQs5Nd",
        "outputId": "9863ca5d-9fc5-4cc3-acaa-dd5bb8a99ec5"
      },
      "execution_count": null,
      "outputs": [
        {
          "output_type": "execute_result",
          "data": {
            "text/plain": [
              "   Unnamed: 0 deceptive   hotel  polarity       source  \\\n",
              "0           0  truthful  conrad  positive  TripAdvisor   \n",
              "1           1  truthful   hyatt  positive  TripAdvisor   \n",
              "2           2  truthful   hyatt  positive  TripAdvisor   \n",
              "3           3  truthful    omni  positive  TripAdvisor   \n",
              "4           4  truthful   hyatt  positive  TripAdvisor   \n",
              "\n",
              "                                                text  \n",
              "0  we stay one night getaway famili thursday trip...  \n",
              "1  tripl a rate upgrad view room le also includ b...  \n",
              "2  thi come littl late i 'm final catch review pa...  \n",
              "3  the omni chicago realli deliv front spacious r...  \n",
              "4  i ask high floor away elev i got the room plea...  "
            ],
            "text/html": [
              "\n",
              "  <div id=\"df-d60960bb-94c9-4cbe-8195-1764ecf97dbc\">\n",
              "    <div class=\"colab-df-container\">\n",
              "      <div>\n",
              "<style scoped>\n",
              "    .dataframe tbody tr th:only-of-type {\n",
              "        vertical-align: middle;\n",
              "    }\n",
              "\n",
              "    .dataframe tbody tr th {\n",
              "        vertical-align: top;\n",
              "    }\n",
              "\n",
              "    .dataframe thead th {\n",
              "        text-align: right;\n",
              "    }\n",
              "</style>\n",
              "<table border=\"1\" class=\"dataframe\">\n",
              "  <thead>\n",
              "    <tr style=\"text-align: right;\">\n",
              "      <th></th>\n",
              "      <th>Unnamed: 0</th>\n",
              "      <th>deceptive</th>\n",
              "      <th>hotel</th>\n",
              "      <th>polarity</th>\n",
              "      <th>source</th>\n",
              "      <th>text</th>\n",
              "    </tr>\n",
              "  </thead>\n",
              "  <tbody>\n",
              "    <tr>\n",
              "      <th>0</th>\n",
              "      <td>0</td>\n",
              "      <td>truthful</td>\n",
              "      <td>conrad</td>\n",
              "      <td>positive</td>\n",
              "      <td>TripAdvisor</td>\n",
              "      <td>we stay one night getaway famili thursday trip...</td>\n",
              "    </tr>\n",
              "    <tr>\n",
              "      <th>1</th>\n",
              "      <td>1</td>\n",
              "      <td>truthful</td>\n",
              "      <td>hyatt</td>\n",
              "      <td>positive</td>\n",
              "      <td>TripAdvisor</td>\n",
              "      <td>tripl a rate upgrad view room le also includ b...</td>\n",
              "    </tr>\n",
              "    <tr>\n",
              "      <th>2</th>\n",
              "      <td>2</td>\n",
              "      <td>truthful</td>\n",
              "      <td>hyatt</td>\n",
              "      <td>positive</td>\n",
              "      <td>TripAdvisor</td>\n",
              "      <td>thi come littl late i 'm final catch review pa...</td>\n",
              "    </tr>\n",
              "    <tr>\n",
              "      <th>3</th>\n",
              "      <td>3</td>\n",
              "      <td>truthful</td>\n",
              "      <td>omni</td>\n",
              "      <td>positive</td>\n",
              "      <td>TripAdvisor</td>\n",
              "      <td>the omni chicago realli deliv front spacious r...</td>\n",
              "    </tr>\n",
              "    <tr>\n",
              "      <th>4</th>\n",
              "      <td>4</td>\n",
              "      <td>truthful</td>\n",
              "      <td>hyatt</td>\n",
              "      <td>positive</td>\n",
              "      <td>TripAdvisor</td>\n",
              "      <td>i ask high floor away elev i got the room plea...</td>\n",
              "    </tr>\n",
              "  </tbody>\n",
              "</table>\n",
              "</div>\n",
              "      <button class=\"colab-df-convert\" onclick=\"convertToInteractive('df-d60960bb-94c9-4cbe-8195-1764ecf97dbc')\"\n",
              "              title=\"Convert this dataframe to an interactive table.\"\n",
              "              style=\"display:none;\">\n",
              "        \n",
              "  <svg xmlns=\"http://www.w3.org/2000/svg\" height=\"24px\"viewBox=\"0 0 24 24\"\n",
              "       width=\"24px\">\n",
              "    <path d=\"M0 0h24v24H0V0z\" fill=\"none\"/>\n",
              "    <path d=\"M18.56 5.44l.94 2.06.94-2.06 2.06-.94-2.06-.94-.94-2.06-.94 2.06-2.06.94zm-11 1L8.5 8.5l.94-2.06 2.06-.94-2.06-.94L8.5 2.5l-.94 2.06-2.06.94zm10 10l.94 2.06.94-2.06 2.06-.94-2.06-.94-.94-2.06-.94 2.06-2.06.94z\"/><path d=\"M17.41 7.96l-1.37-1.37c-.4-.4-.92-.59-1.43-.59-.52 0-1.04.2-1.43.59L10.3 9.45l-7.72 7.72c-.78.78-.78 2.05 0 2.83L4 21.41c.39.39.9.59 1.41.59.51 0 1.02-.2 1.41-.59l7.78-7.78 2.81-2.81c.8-.78.8-2.07 0-2.86zM5.41 20L4 18.59l7.72-7.72 1.47 1.35L5.41 20z\"/>\n",
              "  </svg>\n",
              "      </button>\n",
              "      \n",
              "  <style>\n",
              "    .colab-df-container {\n",
              "      display:flex;\n",
              "      flex-wrap:wrap;\n",
              "      gap: 12px;\n",
              "    }\n",
              "\n",
              "    .colab-df-convert {\n",
              "      background-color: #E8F0FE;\n",
              "      border: none;\n",
              "      border-radius: 50%;\n",
              "      cursor: pointer;\n",
              "      display: none;\n",
              "      fill: #1967D2;\n",
              "      height: 32px;\n",
              "      padding: 0 0 0 0;\n",
              "      width: 32px;\n",
              "    }\n",
              "\n",
              "    .colab-df-convert:hover {\n",
              "      background-color: #E2EBFA;\n",
              "      box-shadow: 0px 1px 2px rgba(60, 64, 67, 0.3), 0px 1px 3px 1px rgba(60, 64, 67, 0.15);\n",
              "      fill: #174EA6;\n",
              "    }\n",
              "\n",
              "    [theme=dark] .colab-df-convert {\n",
              "      background-color: #3B4455;\n",
              "      fill: #D2E3FC;\n",
              "    }\n",
              "\n",
              "    [theme=dark] .colab-df-convert:hover {\n",
              "      background-color: #434B5C;\n",
              "      box-shadow: 0px 1px 3px 1px rgba(0, 0, 0, 0.15);\n",
              "      filter: drop-shadow(0px 1px 2px rgba(0, 0, 0, 0.3));\n",
              "      fill: #FFFFFF;\n",
              "    }\n",
              "  </style>\n",
              "\n",
              "      <script>\n",
              "        const buttonEl =\n",
              "          document.querySelector('#df-d60960bb-94c9-4cbe-8195-1764ecf97dbc button.colab-df-convert');\n",
              "        buttonEl.style.display =\n",
              "          google.colab.kernel.accessAllowed ? 'block' : 'none';\n",
              "\n",
              "        async function convertToInteractive(key) {\n",
              "          const element = document.querySelector('#df-d60960bb-94c9-4cbe-8195-1764ecf97dbc');\n",
              "          const dataTable =\n",
              "            await google.colab.kernel.invokeFunction('convertToInteractive',\n",
              "                                                     [key], {});\n",
              "          if (!dataTable) return;\n",
              "\n",
              "          const docLinkHtml = 'Like what you see? Visit the ' +\n",
              "            '<a target=\"_blank\" href=https://colab.research.google.com/notebooks/data_table.ipynb>data table notebook</a>'\n",
              "            + ' to learn more about interactive tables.';\n",
              "          element.innerHTML = '';\n",
              "          dataTable['output_type'] = 'display_data';\n",
              "          await google.colab.output.renderOutput(dataTable, element);\n",
              "          const docLink = document.createElement('div');\n",
              "          docLink.innerHTML = docLinkHtml;\n",
              "          element.appendChild(docLink);\n",
              "        }\n",
              "      </script>\n",
              "    </div>\n",
              "  </div>\n",
              "  "
            ]
          },
          "metadata": {},
          "execution_count": 29
        }
      ]
    },
    {
      "cell_type": "code",
      "source": [
        "df.drop('Unnamed: 0',axis=1,inplace=True)\n"
      ],
      "metadata": {
        "id": "CXKBwnJHs5QD"
      },
      "execution_count": null,
      "outputs": []
    },
    {
      "cell_type": "code",
      "source": [
        "df.head()"
      ],
      "metadata": {
        "colab": {
          "base_uri": "https://localhost:8080/",
          "height": 206
        },
        "id": "jpGl1MBas5Sa",
        "outputId": "8bd9616e-f898-4bee-ec74-c566df00d5b6"
      },
      "execution_count": null,
      "outputs": [
        {
          "output_type": "execute_result",
          "data": {
            "text/plain": [
              "  deceptive   hotel  polarity       source  \\\n",
              "0  truthful  conrad  positive  TripAdvisor   \n",
              "1  truthful   hyatt  positive  TripAdvisor   \n",
              "2  truthful   hyatt  positive  TripAdvisor   \n",
              "3  truthful    omni  positive  TripAdvisor   \n",
              "4  truthful   hyatt  positive  TripAdvisor   \n",
              "\n",
              "                                                text  \n",
              "0  we stay one night getaway famili thursday trip...  \n",
              "1  tripl a rate upgrad view room le also includ b...  \n",
              "2  thi come littl late i 'm final catch review pa...  \n",
              "3  the omni chicago realli deliv front spacious r...  \n",
              "4  i ask high floor away elev i got the room plea...  "
            ],
            "text/html": [
              "\n",
              "  <div id=\"df-aa13e8d9-cbbc-4d39-8087-f601a357e396\">\n",
              "    <div class=\"colab-df-container\">\n",
              "      <div>\n",
              "<style scoped>\n",
              "    .dataframe tbody tr th:only-of-type {\n",
              "        vertical-align: middle;\n",
              "    }\n",
              "\n",
              "    .dataframe tbody tr th {\n",
              "        vertical-align: top;\n",
              "    }\n",
              "\n",
              "    .dataframe thead th {\n",
              "        text-align: right;\n",
              "    }\n",
              "</style>\n",
              "<table border=\"1\" class=\"dataframe\">\n",
              "  <thead>\n",
              "    <tr style=\"text-align: right;\">\n",
              "      <th></th>\n",
              "      <th>deceptive</th>\n",
              "      <th>hotel</th>\n",
              "      <th>polarity</th>\n",
              "      <th>source</th>\n",
              "      <th>text</th>\n",
              "    </tr>\n",
              "  </thead>\n",
              "  <tbody>\n",
              "    <tr>\n",
              "      <th>0</th>\n",
              "      <td>truthful</td>\n",
              "      <td>conrad</td>\n",
              "      <td>positive</td>\n",
              "      <td>TripAdvisor</td>\n",
              "      <td>we stay one night getaway famili thursday trip...</td>\n",
              "    </tr>\n",
              "    <tr>\n",
              "      <th>1</th>\n",
              "      <td>truthful</td>\n",
              "      <td>hyatt</td>\n",
              "      <td>positive</td>\n",
              "      <td>TripAdvisor</td>\n",
              "      <td>tripl a rate upgrad view room le also includ b...</td>\n",
              "    </tr>\n",
              "    <tr>\n",
              "      <th>2</th>\n",
              "      <td>truthful</td>\n",
              "      <td>hyatt</td>\n",
              "      <td>positive</td>\n",
              "      <td>TripAdvisor</td>\n",
              "      <td>thi come littl late i 'm final catch review pa...</td>\n",
              "    </tr>\n",
              "    <tr>\n",
              "      <th>3</th>\n",
              "      <td>truthful</td>\n",
              "      <td>omni</td>\n",
              "      <td>positive</td>\n",
              "      <td>TripAdvisor</td>\n",
              "      <td>the omni chicago realli deliv front spacious r...</td>\n",
              "    </tr>\n",
              "    <tr>\n",
              "      <th>4</th>\n",
              "      <td>truthful</td>\n",
              "      <td>hyatt</td>\n",
              "      <td>positive</td>\n",
              "      <td>TripAdvisor</td>\n",
              "      <td>i ask high floor away elev i got the room plea...</td>\n",
              "    </tr>\n",
              "  </tbody>\n",
              "</table>\n",
              "</div>\n",
              "      <button class=\"colab-df-convert\" onclick=\"convertToInteractive('df-aa13e8d9-cbbc-4d39-8087-f601a357e396')\"\n",
              "              title=\"Convert this dataframe to an interactive table.\"\n",
              "              style=\"display:none;\">\n",
              "        \n",
              "  <svg xmlns=\"http://www.w3.org/2000/svg\" height=\"24px\"viewBox=\"0 0 24 24\"\n",
              "       width=\"24px\">\n",
              "    <path d=\"M0 0h24v24H0V0z\" fill=\"none\"/>\n",
              "    <path d=\"M18.56 5.44l.94 2.06.94-2.06 2.06-.94-2.06-.94-.94-2.06-.94 2.06-2.06.94zm-11 1L8.5 8.5l.94-2.06 2.06-.94-2.06-.94L8.5 2.5l-.94 2.06-2.06.94zm10 10l.94 2.06.94-2.06 2.06-.94-2.06-.94-.94-2.06-.94 2.06-2.06.94z\"/><path d=\"M17.41 7.96l-1.37-1.37c-.4-.4-.92-.59-1.43-.59-.52 0-1.04.2-1.43.59L10.3 9.45l-7.72 7.72c-.78.78-.78 2.05 0 2.83L4 21.41c.39.39.9.59 1.41.59.51 0 1.02-.2 1.41-.59l7.78-7.78 2.81-2.81c.8-.78.8-2.07 0-2.86zM5.41 20L4 18.59l7.72-7.72 1.47 1.35L5.41 20z\"/>\n",
              "  </svg>\n",
              "      </button>\n",
              "      \n",
              "  <style>\n",
              "    .colab-df-container {\n",
              "      display:flex;\n",
              "      flex-wrap:wrap;\n",
              "      gap: 12px;\n",
              "    }\n",
              "\n",
              "    .colab-df-convert {\n",
              "      background-color: #E8F0FE;\n",
              "      border: none;\n",
              "      border-radius: 50%;\n",
              "      cursor: pointer;\n",
              "      display: none;\n",
              "      fill: #1967D2;\n",
              "      height: 32px;\n",
              "      padding: 0 0 0 0;\n",
              "      width: 32px;\n",
              "    }\n",
              "\n",
              "    .colab-df-convert:hover {\n",
              "      background-color: #E2EBFA;\n",
              "      box-shadow: 0px 1px 2px rgba(60, 64, 67, 0.3), 0px 1px 3px 1px rgba(60, 64, 67, 0.15);\n",
              "      fill: #174EA6;\n",
              "    }\n",
              "\n",
              "    [theme=dark] .colab-df-convert {\n",
              "      background-color: #3B4455;\n",
              "      fill: #D2E3FC;\n",
              "    }\n",
              "\n",
              "    [theme=dark] .colab-df-convert:hover {\n",
              "      background-color: #434B5C;\n",
              "      box-shadow: 0px 1px 3px 1px rgba(0, 0, 0, 0.15);\n",
              "      filter: drop-shadow(0px 1px 2px rgba(0, 0, 0, 0.3));\n",
              "      fill: #FFFFFF;\n",
              "    }\n",
              "  </style>\n",
              "\n",
              "      <script>\n",
              "        const buttonEl =\n",
              "          document.querySelector('#df-aa13e8d9-cbbc-4d39-8087-f601a357e396 button.colab-df-convert');\n",
              "        buttonEl.style.display =\n",
              "          google.colab.kernel.accessAllowed ? 'block' : 'none';\n",
              "\n",
              "        async function convertToInteractive(key) {\n",
              "          const element = document.querySelector('#df-aa13e8d9-cbbc-4d39-8087-f601a357e396');\n",
              "          const dataTable =\n",
              "            await google.colab.kernel.invokeFunction('convertToInteractive',\n",
              "                                                     [key], {});\n",
              "          if (!dataTable) return;\n",
              "\n",
              "          const docLinkHtml = 'Like what you see? Visit the ' +\n",
              "            '<a target=\"_blank\" href=https://colab.research.google.com/notebooks/data_table.ipynb>data table notebook</a>'\n",
              "            + ' to learn more about interactive tables.';\n",
              "          element.innerHTML = '';\n",
              "          dataTable['output_type'] = 'display_data';\n",
              "          await google.colab.output.renderOutput(dataTable, element);\n",
              "          const docLink = document.createElement('div');\n",
              "          docLink.innerHTML = docLinkHtml;\n",
              "          element.appendChild(docLink);\n",
              "        }\n",
              "      </script>\n",
              "    </div>\n",
              "  </div>\n",
              "  "
            ]
          },
          "metadata": {},
          "execution_count": 31
        }
      ]
    },
    {
      "cell_type": "code",
      "source": [
        "df.dropna(inplace=True)\n"
      ],
      "metadata": {
        "id": "9Uk84CR7s5VQ"
      },
      "execution_count": null,
      "outputs": []
    },
    {
      "cell_type": "code",
      "source": [
        "df['length'] = df['text'].apply(len)\n"
      ],
      "metadata": {
        "id": "cvStLtt3s5Xm"
      },
      "execution_count": null,
      "outputs": []
    },
    {
      "cell_type": "code",
      "source": [
        "df.info()"
      ],
      "metadata": {
        "colab": {
          "base_uri": "https://localhost:8080/"
        },
        "id": "CBBbwq4kw3UR",
        "outputId": "57a07595-1833-40ef-bfa3-5898a2918e5d"
      },
      "execution_count": null,
      "outputs": [
        {
          "output_type": "stream",
          "name": "stdout",
          "text": [
            "<class 'pandas.core.frame.DataFrame'>\n",
            "Int64Index: 1600 entries, 0 to 1599\n",
            "Data columns (total 6 columns):\n",
            " #   Column     Non-Null Count  Dtype \n",
            "---  ------     --------------  ----- \n",
            " 0   deceptive  1600 non-null   object\n",
            " 1   hotel      1600 non-null   object\n",
            " 2   polarity   1600 non-null   object\n",
            " 3   source     1600 non-null   object\n",
            " 4   text       1600 non-null   object\n",
            " 5   length     1600 non-null   int64 \n",
            "dtypes: int64(1), object(5)\n",
            "memory usage: 87.5+ KB\n"
          ]
        }
      ]
    },
    {
      "cell_type": "code",
      "source": [
        "df.groupby('polarity').describe()"
      ],
      "metadata": {
        "colab": {
          "base_uri": "https://localhost:8080/",
          "height": 175
        },
        "id": "ZUcgNJrJzMUl",
        "outputId": "d21470cf-e1f7-42ce-9c05-dd3f033ece15"
      },
      "execution_count": null,
      "outputs": [
        {
          "output_type": "execute_result",
          "data": {
            "text/plain": [
              "         length                                                         \n",
              "          count     mean         std   min     25%    50%    75%     max\n",
              "polarity                                                                \n",
              "negative  800.0  556.225  303.692832  98.0  350.00  495.5  673.5  2505.0\n",
              "positive  800.0  397.905  211.286431  86.0  252.75  351.0  481.5  1552.0"
            ],
            "text/html": [
              "\n",
              "  <div id=\"df-8baf6d2a-8dfe-48e8-b79a-59787774dfa1\">\n",
              "    <div class=\"colab-df-container\">\n",
              "      <div>\n",
              "<style scoped>\n",
              "    .dataframe tbody tr th:only-of-type {\n",
              "        vertical-align: middle;\n",
              "    }\n",
              "\n",
              "    .dataframe tbody tr th {\n",
              "        vertical-align: top;\n",
              "    }\n",
              "\n",
              "    .dataframe thead tr th {\n",
              "        text-align: left;\n",
              "    }\n",
              "\n",
              "    .dataframe thead tr:last-of-type th {\n",
              "        text-align: right;\n",
              "    }\n",
              "</style>\n",
              "<table border=\"1\" class=\"dataframe\">\n",
              "  <thead>\n",
              "    <tr>\n",
              "      <th></th>\n",
              "      <th colspan=\"8\" halign=\"left\">length</th>\n",
              "    </tr>\n",
              "    <tr>\n",
              "      <th></th>\n",
              "      <th>count</th>\n",
              "      <th>mean</th>\n",
              "      <th>std</th>\n",
              "      <th>min</th>\n",
              "      <th>25%</th>\n",
              "      <th>50%</th>\n",
              "      <th>75%</th>\n",
              "      <th>max</th>\n",
              "    </tr>\n",
              "    <tr>\n",
              "      <th>polarity</th>\n",
              "      <th></th>\n",
              "      <th></th>\n",
              "      <th></th>\n",
              "      <th></th>\n",
              "      <th></th>\n",
              "      <th></th>\n",
              "      <th></th>\n",
              "      <th></th>\n",
              "    </tr>\n",
              "  </thead>\n",
              "  <tbody>\n",
              "    <tr>\n",
              "      <th>negative</th>\n",
              "      <td>800.0</td>\n",
              "      <td>556.225</td>\n",
              "      <td>303.692832</td>\n",
              "      <td>98.0</td>\n",
              "      <td>350.00</td>\n",
              "      <td>495.5</td>\n",
              "      <td>673.5</td>\n",
              "      <td>2505.0</td>\n",
              "    </tr>\n",
              "    <tr>\n",
              "      <th>positive</th>\n",
              "      <td>800.0</td>\n",
              "      <td>397.905</td>\n",
              "      <td>211.286431</td>\n",
              "      <td>86.0</td>\n",
              "      <td>252.75</td>\n",
              "      <td>351.0</td>\n",
              "      <td>481.5</td>\n",
              "      <td>1552.0</td>\n",
              "    </tr>\n",
              "  </tbody>\n",
              "</table>\n",
              "</div>\n",
              "      <button class=\"colab-df-convert\" onclick=\"convertToInteractive('df-8baf6d2a-8dfe-48e8-b79a-59787774dfa1')\"\n",
              "              title=\"Convert this dataframe to an interactive table.\"\n",
              "              style=\"display:none;\">\n",
              "        \n",
              "  <svg xmlns=\"http://www.w3.org/2000/svg\" height=\"24px\"viewBox=\"0 0 24 24\"\n",
              "       width=\"24px\">\n",
              "    <path d=\"M0 0h24v24H0V0z\" fill=\"none\"/>\n",
              "    <path d=\"M18.56 5.44l.94 2.06.94-2.06 2.06-.94-2.06-.94-.94-2.06-.94 2.06-2.06.94zm-11 1L8.5 8.5l.94-2.06 2.06-.94-2.06-.94L8.5 2.5l-.94 2.06-2.06.94zm10 10l.94 2.06.94-2.06 2.06-.94-2.06-.94-.94-2.06-.94 2.06-2.06.94z\"/><path d=\"M17.41 7.96l-1.37-1.37c-.4-.4-.92-.59-1.43-.59-.52 0-1.04.2-1.43.59L10.3 9.45l-7.72 7.72c-.78.78-.78 2.05 0 2.83L4 21.41c.39.39.9.59 1.41.59.51 0 1.02-.2 1.41-.59l7.78-7.78 2.81-2.81c.8-.78.8-2.07 0-2.86zM5.41 20L4 18.59l7.72-7.72 1.47 1.35L5.41 20z\"/>\n",
              "  </svg>\n",
              "      </button>\n",
              "      \n",
              "  <style>\n",
              "    .colab-df-container {\n",
              "      display:flex;\n",
              "      flex-wrap:wrap;\n",
              "      gap: 12px;\n",
              "    }\n",
              "\n",
              "    .colab-df-convert {\n",
              "      background-color: #E8F0FE;\n",
              "      border: none;\n",
              "      border-radius: 50%;\n",
              "      cursor: pointer;\n",
              "      display: none;\n",
              "      fill: #1967D2;\n",
              "      height: 32px;\n",
              "      padding: 0 0 0 0;\n",
              "      width: 32px;\n",
              "    }\n",
              "\n",
              "    .colab-df-convert:hover {\n",
              "      background-color: #E2EBFA;\n",
              "      box-shadow: 0px 1px 2px rgba(60, 64, 67, 0.3), 0px 1px 3px 1px rgba(60, 64, 67, 0.15);\n",
              "      fill: #174EA6;\n",
              "    }\n",
              "\n",
              "    [theme=dark] .colab-df-convert {\n",
              "      background-color: #3B4455;\n",
              "      fill: #D2E3FC;\n",
              "    }\n",
              "\n",
              "    [theme=dark] .colab-df-convert:hover {\n",
              "      background-color: #434B5C;\n",
              "      box-shadow: 0px 1px 3px 1px rgba(0, 0, 0, 0.15);\n",
              "      filter: drop-shadow(0px 1px 2px rgba(0, 0, 0, 0.3));\n",
              "      fill: #FFFFFF;\n",
              "    }\n",
              "  </style>\n",
              "\n",
              "      <script>\n",
              "        const buttonEl =\n",
              "          document.querySelector('#df-8baf6d2a-8dfe-48e8-b79a-59787774dfa1 button.colab-df-convert');\n",
              "        buttonEl.style.display =\n",
              "          google.colab.kernel.accessAllowed ? 'block' : 'none';\n",
              "\n",
              "        async function convertToInteractive(key) {\n",
              "          const element = document.querySelector('#df-8baf6d2a-8dfe-48e8-b79a-59787774dfa1');\n",
              "          const dataTable =\n",
              "            await google.colab.kernel.invokeFunction('convertToInteractive',\n",
              "                                                     [key], {});\n",
              "          if (!dataTable) return;\n",
              "\n",
              "          const docLinkHtml = 'Like what you see? Visit the ' +\n",
              "            '<a target=\"_blank\" href=https://colab.research.google.com/notebooks/data_table.ipynb>data table notebook</a>'\n",
              "            + ' to learn more about interactive tables.';\n",
              "          element.innerHTML = '';\n",
              "          dataTable['output_type'] = 'display_data';\n",
              "          await google.colab.output.renderOutput(dataTable, element);\n",
              "          const docLink = document.createElement('div');\n",
              "          docLink.innerHTML = docLinkHtml;\n",
              "          element.appendChild(docLink);\n",
              "        }\n",
              "      </script>\n",
              "    </div>\n",
              "  </div>\n",
              "  "
            ]
          },
          "metadata": {},
          "execution_count": 36
        }
      ]
    },
    {
      "cell_type": "code",
      "source": [
        "df.length.describe()"
      ],
      "metadata": {
        "colab": {
          "base_uri": "https://localhost:8080/"
        },
        "id": "nlSbEfoP3hXL",
        "outputId": "199dd4a9-037b-458e-bdba-deb1523b5a15"
      },
      "execution_count": null,
      "outputs": [
        {
          "output_type": "execute_result",
          "data": {
            "text/plain": [
              "count    1600.000000\n",
              "mean      477.065000\n",
              "std       273.245442\n",
              "min        86.000000\n",
              "25%       295.000000\n",
              "50%       415.000000\n",
              "75%       586.250000\n",
              "max      2505.000000\n",
              "Name: length, dtype: float64"
            ]
          },
          "metadata": {},
          "execution_count": 37
        }
      ]
    },
    {
      "cell_type": "code",
      "source": [
        "def text_process(review):\n",
        "    nopunc = [char for char in review if char not in string.punctuation]\n",
        "    nopunc = ''.join(nopunc)\n",
        "    return [word for word in nopunc.split() if word.lower() not in stopwords.words('english')]"
      ],
      "metadata": {
        "id": "UHemPFAy3hZ4"
      },
      "execution_count": null,
      "outputs": []
    },
    {
      "cell_type": "code",
      "source": [
        "bow_transformer = CountVectorizer(analyzer=text_process)\n",
        "bow_transformer\n"
      ],
      "metadata": {
        "colab": {
          "base_uri": "https://localhost:8080/"
        },
        "id": "Nz96n1Ny3hcP",
        "outputId": "2f3a26ac-695b-496c-80a7-beea2901eca6"
      },
      "execution_count": null,
      "outputs": [
        {
          "output_type": "execute_result",
          "data": {
            "text/plain": [
              "CountVectorizer(analyzer=<function text_process at 0x7f4b33d05d40>)"
            ]
          },
          "metadata": {},
          "execution_count": 39
        }
      ]
    },
    {
      "cell_type": "code",
      "source": [
        "# (this process took time)\n",
        "bow_transformer.fit(df['text'])\n",
        "print(\"Total Vocabulary:\",len(bow_transformer.vocabulary_))"
      ],
      "metadata": {
        "colab": {
          "base_uri": "https://localhost:8080/"
        },
        "id": "EyHevyYE3he1",
        "outputId": "758de7a0-5cba-45ab-9b0c-17dfac6d70b6"
      },
      "execution_count": null,
      "outputs": [
        {
          "output_type": "stream",
          "name": "stdout",
          "text": [
            "Total Vocabulary: 7171\n"
          ]
        }
      ]
    },
    {
      "cell_type": "code",
      "source": [
        "review4 = df['text'][3]\n",
        "review4"
      ],
      "metadata": {
        "colab": {
          "base_uri": "https://localhost:8080/",
          "height": 89
        },
        "id": "okv3g5YQ3hhK",
        "outputId": "64d0aba5-66a1-4f18-ef09-f31294dad9e8"
      },
      "execution_count": null,
      "outputs": [
        {
          "output_type": "execute_result",
          "data": {
            "text/plain": [
              "\"the omni chicago realli deliv front spacious room help staff prize locat michigan avenu while address chicago requir high level qualiti omni deliv check whole group peopl minut staff plenti recommend dine event room largest 'll find price rang chicago even 'standard room separ live area work desk the fit center free weight weight machin two row cardio equip i share room other feel cramp way all great properti\""
            ],
            "application/vnd.google.colaboratory.intrinsic+json": {
              "type": "string"
            }
          },
          "metadata": {},
          "execution_count": 42
        }
      ]
    },
    {
      "cell_type": "code",
      "source": [
        "bow_msg4 = bow_transformer.transform([review4])\n",
        "print(bow_msg4)\n",
        "print(bow_msg4.shape)"
      ],
      "metadata": {
        "colab": {
          "base_uri": "https://localhost:8080/"
        },
        "id": "8zxJPuKD3hjj",
        "outputId": "a957c3a1-8abe-47d3-e0ac-fb30d250aec4"
      },
      "execution_count": null,
      "outputs": [
        {
          "output_type": "stream",
          "name": "stdout",
          "text": [
            "  (0, 380)\t1\n",
            "  (0, 610)\t1\n",
            "  (0, 720)\t1\n",
            "  (0, 1192)\t1\n",
            "  (0, 1237)\t1\n",
            "  (0, 1286)\t1\n",
            "  (0, 1309)\t3\n",
            "  (0, 1672)\t1\n",
            "  (0, 1860)\t2\n",
            "  (0, 1893)\t1\n",
            "  (0, 1949)\t1\n",
            "  (0, 2308)\t1\n",
            "  (0, 2341)\t1\n",
            "  (0, 2342)\t1\n",
            "  (0, 2499)\t1\n",
            "  (0, 2537)\t1\n",
            "  (0, 2561)\t1\n",
            "  (0, 2689)\t1\n",
            "  (0, 2719)\t1\n",
            "  (0, 2916)\t1\n",
            "  (0, 2941)\t1\n",
            "  (0, 3083)\t1\n",
            "  (0, 3103)\t1\n",
            "  (0, 3617)\t1\n",
            "  (0, 3690)\t1\n",
            "  :\t:\n",
            "  (0, 4008)\t1\n",
            "  (0, 4071)\t1\n",
            "  (0, 4433)\t2\n",
            "  (0, 4660)\t1\n",
            "  (0, 4771)\t1\n",
            "  (0, 4885)\t1\n",
            "  (0, 4916)\t1\n",
            "  (0, 4953)\t1\n",
            "  (0, 5011)\t1\n",
            "  (0, 5053)\t1\n",
            "  (0, 5080)\t1\n",
            "  (0, 5105)\t1\n",
            "  (0, 5227)\t1\n",
            "  (0, 5362)\t4\n",
            "  (0, 5381)\t1\n",
            "  (0, 5570)\t1\n",
            "  (0, 5613)\t1\n",
            "  (0, 5910)\t1\n",
            "  (0, 5981)\t2\n",
            "  (0, 5993)\t1\n",
            "  (0, 6589)\t1\n",
            "  (0, 6955)\t1\n",
            "  (0, 6981)\t2\n",
            "  (0, 7041)\t1\n",
            "  (0, 7095)\t1\n",
            "(1, 7171)\n"
          ]
        }
      ]
    },
    {
      "cell_type": "code",
      "source": [
        "print(bow_transformer.get_feature_names()[1500])\n",
        "print(bow_transformer.get_feature_names()[238])"
      ],
      "metadata": {
        "colab": {
          "base_uri": "https://localhost:8080/"
        },
        "id": "f6bpViGw4S6h",
        "outputId": "98c3f71a-e447-496b-a230-4118a26fda2f"
      },
      "execution_count": null,
      "outputs": [
        {
          "output_type": "stream",
          "name": "stdout",
          "text": [
            "compliment\n",
            "57\n"
          ]
        }
      ]
    },
    {
      "cell_type": "code",
      "source": [
        "# transforming the review - (this process took time)\n",
        "bow_reviews = bow_transformer.transform(df['text'])"
      ],
      "metadata": {
        "id": "jxuF79e44S9Q"
      },
      "execution_count": null,
      "outputs": []
    },
    {
      "cell_type": "code",
      "source": [
        "print(\"Shape of Bag of Words Transformer for the entire reviews corpus:\",bow_reviews.shape)\n",
        "print(\"Amount of non zero values in the bag of words model:\",bow_reviews.nnz)"
      ],
      "metadata": {
        "colab": {
          "base_uri": "https://localhost:8080/"
        },
        "id": "4NmU05sG4S_3",
        "outputId": "9774ffe2-22ce-4cd3-f402-dab07cea8186"
      },
      "execution_count": null,
      "outputs": [
        {
          "output_type": "stream",
          "name": "stdout",
          "text": [
            "Shape of Bag of Words Transformer for the entire reviews corpus: (1600, 7171)\n",
            "Amount of non zero values in the bag of words model: 96347\n"
          ]
        }
      ]
    },
    {
      "cell_type": "code",
      "source": [
        "print(\"Sparsity:\",np.round((bow_reviews.nnz/(bow_reviews.shape[0]*bow_reviews.shape[1]))*100,2))"
      ],
      "metadata": {
        "colab": {
          "base_uri": "https://localhost:8080/"
        },
        "id": "uG3XbNwE4TCd",
        "outputId": "3d0d1cdc-fe15-4e0f-cd63-7197c8453bc3"
      },
      "execution_count": null,
      "outputs": [
        {
          "output_type": "stream",
          "name": "stdout",
          "text": [
            "Sparsity: 0.84\n"
          ]
        }
      ]
    },
    {
      "cell_type": "code",
      "source": [
        "tfidf_transformer = TfidfTransformer().fit(bow_reviews)\n",
        "tfidf_rev4 = tfidf_transformer.transform(bow_msg4)\n",
        "print(bow_msg4)"
      ],
      "metadata": {
        "colab": {
          "base_uri": "https://localhost:8080/"
        },
        "id": "oOlfUFbP4TFE",
        "outputId": "4262ba12-00f1-4cf9-eaf2-f4f78046e87a"
      },
      "execution_count": null,
      "outputs": [
        {
          "output_type": "stream",
          "name": "stdout",
          "text": [
            "  (0, 380)\t1\n",
            "  (0, 610)\t1\n",
            "  (0, 720)\t1\n",
            "  (0, 1192)\t1\n",
            "  (0, 1237)\t1\n",
            "  (0, 1286)\t1\n",
            "  (0, 1309)\t3\n",
            "  (0, 1672)\t1\n",
            "  (0, 1860)\t2\n",
            "  (0, 1893)\t1\n",
            "  (0, 1949)\t1\n",
            "  (0, 2308)\t1\n",
            "  (0, 2341)\t1\n",
            "  (0, 2342)\t1\n",
            "  (0, 2499)\t1\n",
            "  (0, 2537)\t1\n",
            "  (0, 2561)\t1\n",
            "  (0, 2689)\t1\n",
            "  (0, 2719)\t1\n",
            "  (0, 2916)\t1\n",
            "  (0, 2941)\t1\n",
            "  (0, 3083)\t1\n",
            "  (0, 3103)\t1\n",
            "  (0, 3617)\t1\n",
            "  (0, 3690)\t1\n",
            "  :\t:\n",
            "  (0, 4008)\t1\n",
            "  (0, 4071)\t1\n",
            "  (0, 4433)\t2\n",
            "  (0, 4660)\t1\n",
            "  (0, 4771)\t1\n",
            "  (0, 4885)\t1\n",
            "  (0, 4916)\t1\n",
            "  (0, 4953)\t1\n",
            "  (0, 5011)\t1\n",
            "  (0, 5053)\t1\n",
            "  (0, 5080)\t1\n",
            "  (0, 5105)\t1\n",
            "  (0, 5227)\t1\n",
            "  (0, 5362)\t4\n",
            "  (0, 5381)\t1\n",
            "  (0, 5570)\t1\n",
            "  (0, 5613)\t1\n",
            "  (0, 5910)\t1\n",
            "  (0, 5981)\t2\n",
            "  (0, 5993)\t1\n",
            "  (0, 6589)\t1\n",
            "  (0, 6955)\t1\n",
            "  (0, 6981)\t2\n",
            "  (0, 7041)\t1\n",
            "  (0, 7095)\t1\n"
          ]
        }
      ]
    },
    {
      "cell_type": "code",
      "source": [
        "print(tfidf_transformer.idf_[bow_transformer.vocabulary_['mango']])\n",
        "print(tfidf_transformer.idf_[bow_transformer.vocabulary_['book']])"
      ],
      "metadata": {
        "colab": {
          "base_uri": "https://localhost:8080/",
          "height": 187
        },
        "id": "sQXbQXdc4THg",
        "outputId": "006d9097-e4aa-4478-baba-7c1fff0141b7"
      },
      "execution_count": null,
      "outputs": [
        {
          "output_type": "error",
          "ename": "KeyError",
          "evalue": "ignored",
          "traceback": [
            "\u001b[0;31m---------------------------------------------------------------------------\u001b[0m",
            "\u001b[0;31mKeyError\u001b[0m                                  Traceback (most recent call last)",
            "\u001b[0;32m<ipython-input-49-ab67cb073c40>\u001b[0m in \u001b[0;36m<module>\u001b[0;34m\u001b[0m\n\u001b[0;32m----> 1\u001b[0;31m \u001b[0mprint\u001b[0m\u001b[0;34m(\u001b[0m\u001b[0mtfidf_transformer\u001b[0m\u001b[0;34m.\u001b[0m\u001b[0midf_\u001b[0m\u001b[0;34m[\u001b[0m\u001b[0mbow_transformer\u001b[0m\u001b[0;34m.\u001b[0m\u001b[0mvocabulary_\u001b[0m\u001b[0;34m[\u001b[0m\u001b[0;34m'mango'\u001b[0m\u001b[0;34m]\u001b[0m\u001b[0;34m]\u001b[0m\u001b[0;34m)\u001b[0m\u001b[0;34m\u001b[0m\u001b[0;34m\u001b[0m\u001b[0m\n\u001b[0m\u001b[1;32m      2\u001b[0m \u001b[0mprint\u001b[0m\u001b[0;34m(\u001b[0m\u001b[0mtfidf_transformer\u001b[0m\u001b[0;34m.\u001b[0m\u001b[0midf_\u001b[0m\u001b[0;34m[\u001b[0m\u001b[0mbow_transformer\u001b[0m\u001b[0;34m.\u001b[0m\u001b[0mvocabulary_\u001b[0m\u001b[0;34m[\u001b[0m\u001b[0;34m'book'\u001b[0m\u001b[0;34m]\u001b[0m\u001b[0;34m]\u001b[0m\u001b[0;34m)\u001b[0m\u001b[0;34m\u001b[0m\u001b[0;34m\u001b[0m\u001b[0m\n",
            "\u001b[0;31mKeyError\u001b[0m: 'mango'"
          ]
        }
      ]
    },
    {
      "cell_type": "code",
      "source": [
        "tfidf_reviews = tfidf_transformer.transform(bow_reviews)\n",
        "print(\"Shape:\",tfidf_reviews.shape)\n",
        "print(\"No. of Dimensions:\",tfidf_reviews.ndim)\n",
        "\n",
        "# process of feature extraction ended"
      ],
      "metadata": {
        "id": "CjbI861G4_F9",
        "colab": {
          "base_uri": "https://localhost:8080/"
        },
        "outputId": "aeb1cdd5-1964-44ff-9a82-0dae6e42aca1"
      },
      "execution_count": null,
      "outputs": [
        {
          "output_type": "stream",
          "name": "stdout",
          "text": [
            "Shape: (1600, 7171)\n",
            "No. of Dimensions: 2\n"
          ]
        }
      ]
    },
    {
      "cell_type": "code",
      "source": [
        "#training and testing data\n",
        "review_train, review_test, label_train, label_test = train_test_split(df['text'],df['deceptive'],test_size=0.35)\n"
      ],
      "metadata": {
        "id": "io2apTrk4_In"
      },
      "execution_count": null,
      "outputs": []
    },
    {
      "cell_type": "code",
      "source": [
        "pipeline = Pipeline([\n",
        "    ('bow',CountVectorizer(analyzer=text_process)),\n",
        "    ('tfidf',TfidfTransformer()),\n",
        "    ('classifier',MultinomialNB())\n",
        "])"
      ],
      "metadata": {
        "id": "kvsnQzNz4_K_"
      },
      "execution_count": null,
      "outputs": []
    },
    {
      "cell_type": "code",
      "source": [
        "pipeline.fit(review_train,label_train)\n",
        "# this took time"
      ],
      "metadata": {
        "colab": {
          "base_uri": "https://localhost:8080/"
        },
        "id": "v8W3aT394_NW",
        "outputId": "1e3f3f4f-9815-4d41-eb47-07fd5f93cbeb"
      },
      "execution_count": null,
      "outputs": [
        {
          "output_type": "execute_result",
          "data": {
            "text/plain": [
              "Pipeline(steps=[('bow',\n",
              "                 CountVectorizer(analyzer=<function text_process at 0x7f4b33d05d40>)),\n",
              "                ('tfidf', TfidfTransformer()),\n",
              "                ('classifier', MultinomialNB())])"
            ]
          },
          "metadata": {},
          "execution_count": 54
        }
      ]
    },
    {
      "cell_type": "code",
      "source": [
        "predictions = pipeline.predict(review_test)\n",
        "predictions\n",
        "#"
      ],
      "metadata": {
        "colab": {
          "base_uri": "https://localhost:8080/"
        },
        "id": "7qbEEWbj4_QK",
        "outputId": "726aabda-8570-43c7-8689-68ca6b58b2cc"
      },
      "execution_count": null,
      "outputs": [
        {
          "output_type": "execute_result",
          "data": {
            "text/plain": [
              "array(['deceptive', 'truthful', 'deceptive', 'truthful', 'deceptive',\n",
              "       'deceptive', 'deceptive', 'deceptive', 'truthful', 'deceptive',\n",
              "       'deceptive', 'deceptive', 'truthful', 'truthful', 'truthful',\n",
              "       'deceptive', 'deceptive', 'deceptive', 'deceptive', 'deceptive',\n",
              "       'deceptive', 'deceptive', 'deceptive', 'truthful', 'truthful',\n",
              "       'deceptive', 'deceptive', 'deceptive', 'deceptive', 'truthful',\n",
              "       'deceptive', 'deceptive', 'truthful', 'truthful', 'deceptive',\n",
              "       'truthful', 'deceptive', 'deceptive', 'truthful', 'truthful',\n",
              "       'truthful', 'truthful', 'deceptive', 'truthful', 'deceptive',\n",
              "       'deceptive', 'truthful', 'deceptive', 'truthful', 'truthful',\n",
              "       'truthful', 'truthful', 'truthful', 'deceptive', 'deceptive',\n",
              "       'truthful', 'deceptive', 'truthful', 'truthful', 'truthful',\n",
              "       'truthful', 'deceptive', 'truthful', 'deceptive', 'deceptive',\n",
              "       'deceptive', 'deceptive', 'deceptive', 'deceptive', 'deceptive',\n",
              "       'truthful', 'truthful', 'deceptive', 'deceptive', 'deceptive',\n",
              "       'deceptive', 'deceptive', 'deceptive', 'deceptive', 'truthful',\n",
              "       'deceptive', 'truthful', 'deceptive', 'truthful', 'truthful',\n",
              "       'truthful', 'deceptive', 'deceptive', 'deceptive', 'deceptive',\n",
              "       'truthful', 'truthful', 'truthful', 'deceptive', 'truthful',\n",
              "       'deceptive', 'truthful', 'deceptive', 'truthful', 'truthful',\n",
              "       'truthful', 'deceptive', 'deceptive', 'truthful', 'deceptive',\n",
              "       'deceptive', 'truthful', 'truthful', 'deceptive', 'deceptive',\n",
              "       'truthful', 'deceptive', 'truthful', 'truthful', 'truthful',\n",
              "       'deceptive', 'deceptive', 'deceptive', 'deceptive', 'truthful',\n",
              "       'deceptive', 'deceptive', 'deceptive', 'truthful', 'deceptive',\n",
              "       'truthful', 'deceptive', 'deceptive', 'deceptive', 'deceptive',\n",
              "       'deceptive', 'deceptive', 'deceptive', 'deceptive', 'truthful',\n",
              "       'deceptive', 'deceptive', 'truthful', 'truthful', 'truthful',\n",
              "       'deceptive', 'deceptive', 'truthful', 'deceptive', 'deceptive',\n",
              "       'truthful', 'truthful', 'deceptive', 'truthful', 'deceptive',\n",
              "       'deceptive', 'deceptive', 'deceptive', 'truthful', 'deceptive',\n",
              "       'deceptive', 'deceptive', 'truthful', 'deceptive', 'deceptive',\n",
              "       'deceptive', 'deceptive', 'deceptive', 'deceptive', 'truthful',\n",
              "       'truthful', 'deceptive', 'truthful', 'deceptive', 'truthful',\n",
              "       'deceptive', 'truthful', 'deceptive', 'deceptive', 'truthful',\n",
              "       'truthful', 'deceptive', 'deceptive', 'deceptive', 'truthful',\n",
              "       'deceptive', 'deceptive', 'deceptive', 'deceptive', 'truthful',\n",
              "       'deceptive', 'truthful', 'truthful', 'deceptive', 'deceptive',\n",
              "       'truthful', 'truthful', 'truthful', 'deceptive', 'truthful',\n",
              "       'truthful', 'deceptive', 'truthful', 'truthful', 'truthful',\n",
              "       'deceptive', 'deceptive', 'truthful', 'deceptive', 'deceptive',\n",
              "       'truthful', 'truthful', 'truthful', 'deceptive', 'deceptive',\n",
              "       'deceptive', 'deceptive', 'deceptive', 'deceptive', 'deceptive',\n",
              "       'deceptive', 'deceptive', 'deceptive', 'truthful', 'truthful',\n",
              "       'truthful', 'truthful', 'deceptive', 'deceptive', 'deceptive',\n",
              "       'deceptive', 'deceptive', 'deceptive', 'deceptive', 'truthful',\n",
              "       'truthful', 'deceptive', 'deceptive', 'deceptive', 'truthful',\n",
              "       'deceptive', 'deceptive', 'truthful', 'deceptive', 'deceptive',\n",
              "       'truthful', 'deceptive', 'deceptive', 'deceptive', 'deceptive',\n",
              "       'deceptive', 'deceptive', 'deceptive', 'truthful', 'truthful',\n",
              "       'deceptive', 'deceptive', 'truthful', 'truthful', 'truthful',\n",
              "       'truthful', 'deceptive', 'truthful', 'truthful', 'truthful',\n",
              "       'truthful', 'truthful', 'deceptive', 'deceptive', 'deceptive',\n",
              "       'deceptive', 'truthful', 'deceptive', 'deceptive', 'truthful',\n",
              "       'deceptive', 'truthful', 'truthful', 'deceptive', 'truthful',\n",
              "       'truthful', 'deceptive', 'truthful', 'truthful', 'deceptive',\n",
              "       'truthful', 'truthful', 'deceptive', 'truthful', 'truthful',\n",
              "       'deceptive', 'truthful', 'truthful', 'deceptive', 'truthful',\n",
              "       'truthful', 'deceptive', 'truthful', 'truthful', 'truthful',\n",
              "       'truthful', 'deceptive', 'deceptive', 'truthful', 'deceptive',\n",
              "       'truthful', 'truthful', 'deceptive', 'truthful', 'truthful',\n",
              "       'truthful', 'deceptive', 'truthful', 'deceptive', 'deceptive',\n",
              "       'deceptive', 'truthful', 'deceptive', 'deceptive', 'deceptive',\n",
              "       'truthful', 'deceptive', 'deceptive', 'deceptive', 'truthful',\n",
              "       'deceptive', 'truthful', 'deceptive', 'deceptive', 'truthful',\n",
              "       'deceptive', 'deceptive', 'deceptive', 'deceptive', 'deceptive',\n",
              "       'deceptive', 'truthful', 'deceptive', 'deceptive', 'deceptive',\n",
              "       'deceptive', 'deceptive', 'deceptive', 'truthful', 'deceptive',\n",
              "       'deceptive', 'deceptive', 'truthful', 'deceptive', 'deceptive',\n",
              "       'truthful', 'deceptive', 'deceptive', 'truthful', 'deceptive',\n",
              "       'truthful', 'deceptive', 'truthful', 'deceptive', 'deceptive',\n",
              "       'deceptive', 'deceptive', 'truthful', 'truthful', 'deceptive',\n",
              "       'deceptive', 'truthful', 'deceptive', 'truthful', 'truthful',\n",
              "       'truthful', 'deceptive', 'truthful', 'deceptive', 'truthful',\n",
              "       'deceptive', 'deceptive', 'truthful', 'deceptive', 'deceptive',\n",
              "       'truthful', 'deceptive', 'deceptive', 'deceptive', 'deceptive',\n",
              "       'truthful', 'deceptive', 'truthful', 'deceptive', 'deceptive',\n",
              "       'deceptive', 'truthful', 'truthful', 'truthful', 'deceptive',\n",
              "       'truthful', 'deceptive', 'truthful', 'deceptive', 'deceptive',\n",
              "       'deceptive', 'deceptive', 'deceptive', 'deceptive', 'deceptive',\n",
              "       'deceptive', 'deceptive', 'deceptive', 'deceptive', 'deceptive',\n",
              "       'deceptive', 'deceptive', 'deceptive', 'deceptive', 'deceptive',\n",
              "       'truthful', 'deceptive', 'truthful', 'truthful', 'deceptive',\n",
              "       'deceptive', 'deceptive', 'truthful', 'deceptive', 'truthful',\n",
              "       'deceptive', 'truthful', 'deceptive', 'deceptive', 'truthful',\n",
              "       'deceptive', 'deceptive', 'truthful', 'deceptive', 'deceptive',\n",
              "       'truthful', 'truthful', 'truthful', 'deceptive', 'deceptive',\n",
              "       'deceptive', 'deceptive', 'deceptive', 'deceptive', 'deceptive',\n",
              "       'deceptive', 'truthful', 'truthful', 'deceptive', 'truthful',\n",
              "       'truthful', 'deceptive', 'deceptive', 'deceptive', 'truthful',\n",
              "       'deceptive', 'truthful', 'truthful', 'truthful', 'deceptive',\n",
              "       'deceptive', 'deceptive', 'deceptive', 'deceptive', 'deceptive',\n",
              "       'truthful', 'truthful', 'truthful', 'deceptive', 'truthful',\n",
              "       'deceptive', 'deceptive', 'deceptive', 'truthful', 'deceptive',\n",
              "       'truthful', 'deceptive', 'truthful', 'deceptive', 'deceptive',\n",
              "       'deceptive', 'truthful', 'deceptive', 'deceptive', 'deceptive',\n",
              "       'truthful', 'deceptive', 'truthful', 'truthful', 'truthful',\n",
              "       'truthful', 'deceptive', 'deceptive', 'deceptive', 'deceptive',\n",
              "       'deceptive', 'deceptive', 'truthful', 'truthful', 'deceptive',\n",
              "       'truthful', 'deceptive', 'deceptive', 'truthful', 'deceptive',\n",
              "       'truthful', 'deceptive', 'deceptive', 'truthful', 'truthful',\n",
              "       'deceptive', 'deceptive', 'deceptive', 'truthful', 'deceptive',\n",
              "       'truthful', 'truthful', 'deceptive', 'truthful', 'truthful',\n",
              "       'deceptive', 'truthful', 'truthful', 'truthful', 'truthful',\n",
              "       'deceptive', 'deceptive', 'deceptive', 'truthful', 'deceptive',\n",
              "       'truthful', 'deceptive', 'truthful', 'deceptive', 'deceptive',\n",
              "       'deceptive', 'truthful', 'truthful', 'deceptive', 'truthful',\n",
              "       'deceptive', 'deceptive', 'deceptive', 'truthful', 'deceptive',\n",
              "       'deceptive', 'deceptive', 'deceptive', 'deceptive', 'deceptive',\n",
              "       'deceptive', 'truthful', 'deceptive', 'deceptive', 'truthful',\n",
              "       'truthful', 'truthful', 'deceptive', 'deceptive', 'deceptive',\n",
              "       'truthful', 'deceptive', 'deceptive', 'truthful', 'deceptive'],\n",
              "      dtype='<U9')"
            ]
          },
          "metadata": {},
          "execution_count": 55
        }
      ]
    },
    {
      "cell_type": "code",
      "source": [
        "print('Classification Report:',classification_report(label_test,predictions))\n",
        "print('Confusion Matrix:',confusion_matrix(label_test,predictions))\n",
        "print('Accuracy Score:',accuracy_score(label_test,predictions))"
      ],
      "metadata": {
        "colab": {
          "base_uri": "https://localhost:8080/"
        },
        "id": "mGmEh_1R4_Sx",
        "outputId": "c6abd297-f907-4364-e840-53caa4a42efb"
      },
      "execution_count": null,
      "outputs": [
        {
          "output_type": "stream",
          "name": "stdout",
          "text": [
            "Classification Report:               precision    recall  f1-score   support\n",
            "\n",
            "   deceptive       0.79      0.94      0.86       281\n",
            "    truthful       0.93      0.75      0.83       279\n",
            "\n",
            "    accuracy                           0.84       560\n",
            "   macro avg       0.86      0.84      0.84       560\n",
            "weighted avg       0.86      0.84      0.84       560\n",
            "\n",
            "Confusion Matrix: [[265  16]\n",
            " [ 71 208]]\n",
            "Accuracy Score: 0.8446428571428571\n"
          ]
        }
      ]
    },
    {
      "cell_type": "code",
      "source": [
        "print('Model Prediction Accuracy:',str(np.round(accuracy_score(label_test,predictions)*100,2)) + '%')"
      ],
      "metadata": {
        "colab": {
          "base_uri": "https://localhost:8080/"
        },
        "id": "0uvxBRaM4_Va",
        "outputId": "4e53f66a-9bfe-4da7-b2bc-f9593ab7b9b4"
      },
      "execution_count": null,
      "outputs": [
        {
          "output_type": "stream",
          "name": "stdout",
          "text": [
            "Model Prediction Accuracy: 84.46%\n"
          ]
        }
      ]
    },
    {
      "cell_type": "code",
      "source": [
        "pipeline = Pipeline([\n",
        "    ('bow',CountVectorizer(analyzer=text_process)),\n",
        "    ('tfidf',TfidfTransformer()),\n",
        "    ('classifier',RandomForestClassifier())\n",
        "])"
      ],
      "metadata": {
        "id": "wlklDrpx4_YA"
      },
      "execution_count": null,
      "outputs": []
    },
    {
      "cell_type": "code",
      "source": [
        "pipeline.fit(review_train,label_train)\n",
        "#"
      ],
      "metadata": {
        "colab": {
          "base_uri": "https://localhost:8080/"
        },
        "id": "KlHaDJAN4_aW",
        "outputId": "2c510901-a64c-4760-cb17-14c7bbecf6c5"
      },
      "execution_count": null,
      "outputs": [
        {
          "output_type": "execute_result",
          "data": {
            "text/plain": [
              "Pipeline(steps=[('bow',\n",
              "                 CountVectorizer(analyzer=<function text_process at 0x7f4b33d05d40>)),\n",
              "                ('tfidf', TfidfTransformer()),\n",
              "                ('classifier', RandomForestClassifier())])"
            ]
          },
          "metadata": {},
          "execution_count": 59
        }
      ]
    },
    {
      "cell_type": "code",
      "source": [
        "rfc_pred = pipeline.predict(review_test)\n",
        "rfc_pred\n",
        "# took 1m36s"
      ],
      "metadata": {
        "colab": {
          "base_uri": "https://localhost:8080/"
        },
        "id": "c2fWfx4g5mUw",
        "outputId": "740ef011-9cc7-4c40-a78a-ae64563d1751"
      },
      "execution_count": null,
      "outputs": [
        {
          "output_type": "execute_result",
          "data": {
            "text/plain": [
              "array(['deceptive', 'truthful', 'deceptive', 'truthful', 'deceptive',\n",
              "       'deceptive', 'deceptive', 'deceptive', 'truthful', 'deceptive',\n",
              "       'deceptive', 'deceptive', 'truthful', 'deceptive', 'truthful',\n",
              "       'deceptive', 'truthful', 'truthful', 'deceptive', 'deceptive',\n",
              "       'deceptive', 'deceptive', 'deceptive', 'truthful', 'truthful',\n",
              "       'deceptive', 'deceptive', 'deceptive', 'deceptive', 'truthful',\n",
              "       'deceptive', 'truthful', 'truthful', 'truthful', 'deceptive',\n",
              "       'truthful', 'deceptive', 'deceptive', 'truthful', 'deceptive',\n",
              "       'truthful', 'deceptive', 'deceptive', 'truthful', 'deceptive',\n",
              "       'truthful', 'truthful', 'deceptive', 'deceptive', 'truthful',\n",
              "       'truthful', 'truthful', 'truthful', 'deceptive', 'deceptive',\n",
              "       'truthful', 'deceptive', 'truthful', 'truthful', 'truthful',\n",
              "       'deceptive', 'truthful', 'deceptive', 'deceptive', 'deceptive',\n",
              "       'deceptive', 'deceptive', 'deceptive', 'deceptive', 'truthful',\n",
              "       'truthful', 'truthful', 'deceptive', 'deceptive', 'deceptive',\n",
              "       'deceptive', 'deceptive', 'truthful', 'deceptive', 'deceptive',\n",
              "       'deceptive', 'deceptive', 'truthful', 'truthful', 'truthful',\n",
              "       'truthful', 'deceptive', 'truthful', 'deceptive', 'deceptive',\n",
              "       'deceptive', 'truthful', 'truthful', 'deceptive', 'truthful',\n",
              "       'deceptive', 'truthful', 'deceptive', 'truthful', 'truthful',\n",
              "       'deceptive', 'deceptive', 'deceptive', 'truthful', 'deceptive',\n",
              "       'deceptive', 'deceptive', 'truthful', 'deceptive', 'deceptive',\n",
              "       'deceptive', 'deceptive', 'deceptive', 'truthful', 'truthful',\n",
              "       'deceptive', 'truthful', 'deceptive', 'deceptive', 'truthful',\n",
              "       'deceptive', 'truthful', 'deceptive', 'truthful', 'truthful',\n",
              "       'truthful', 'deceptive', 'deceptive', 'deceptive', 'deceptive',\n",
              "       'deceptive', 'deceptive', 'deceptive', 'truthful', 'truthful',\n",
              "       'deceptive', 'truthful', 'truthful', 'truthful', 'truthful',\n",
              "       'deceptive', 'truthful', 'truthful', 'deceptive', 'deceptive',\n",
              "       'truthful', 'truthful', 'deceptive', 'truthful', 'truthful',\n",
              "       'deceptive', 'deceptive', 'truthful', 'truthful', 'truthful',\n",
              "       'deceptive', 'truthful', 'truthful', 'truthful', 'deceptive',\n",
              "       'truthful', 'deceptive', 'deceptive', 'deceptive', 'truthful',\n",
              "       'truthful', 'deceptive', 'truthful', 'truthful', 'truthful',\n",
              "       'truthful', 'truthful', 'deceptive', 'deceptive', 'truthful',\n",
              "       'truthful', 'deceptive', 'deceptive', 'deceptive', 'truthful',\n",
              "       'deceptive', 'truthful', 'deceptive', 'deceptive', 'truthful',\n",
              "       'deceptive', 'truthful', 'truthful', 'deceptive', 'deceptive',\n",
              "       'truthful', 'truthful', 'truthful', 'deceptive', 'truthful',\n",
              "       'deceptive', 'deceptive', 'truthful', 'truthful', 'truthful',\n",
              "       'deceptive', 'truthful', 'truthful', 'truthful', 'truthful',\n",
              "       'truthful', 'truthful', 'truthful', 'deceptive', 'truthful',\n",
              "       'deceptive', 'deceptive', 'truthful', 'deceptive', 'deceptive',\n",
              "       'deceptive', 'deceptive', 'truthful', 'truthful', 'truthful',\n",
              "       'truthful', 'deceptive', 'deceptive', 'deceptive', 'deceptive',\n",
              "       'deceptive', 'deceptive', 'truthful', 'deceptive', 'truthful',\n",
              "       'truthful', 'deceptive', 'truthful', 'deceptive', 'truthful',\n",
              "       'deceptive', 'deceptive', 'truthful', 'deceptive', 'deceptive',\n",
              "       'truthful', 'deceptive', 'deceptive', 'deceptive', 'deceptive',\n",
              "       'deceptive', 'deceptive', 'truthful', 'truthful', 'truthful',\n",
              "       'deceptive', 'deceptive', 'truthful', 'truthful', 'deceptive',\n",
              "       'truthful', 'deceptive', 'truthful', 'truthful', 'truthful',\n",
              "       'deceptive', 'truthful', 'deceptive', 'deceptive', 'deceptive',\n",
              "       'deceptive', 'truthful', 'deceptive', 'deceptive', 'truthful',\n",
              "       'truthful', 'truthful', 'truthful', 'deceptive', 'truthful',\n",
              "       'truthful', 'deceptive', 'truthful', 'truthful', 'deceptive',\n",
              "       'truthful', 'deceptive', 'deceptive', 'truthful', 'truthful',\n",
              "       'deceptive', 'deceptive', 'truthful', 'truthful', 'truthful',\n",
              "       'truthful', 'deceptive', 'deceptive', 'truthful', 'deceptive',\n",
              "       'truthful', 'deceptive', 'deceptive', 'truthful', 'deceptive',\n",
              "       'truthful', 'truthful', 'deceptive', 'truthful', 'truthful',\n",
              "       'truthful', 'deceptive', 'truthful', 'deceptive', 'deceptive',\n",
              "       'deceptive', 'truthful', 'deceptive', 'deceptive', 'deceptive',\n",
              "       'deceptive', 'deceptive', 'deceptive', 'truthful', 'truthful',\n",
              "       'truthful', 'deceptive', 'deceptive', 'deceptive', 'truthful',\n",
              "       'deceptive', 'truthful', 'deceptive', 'deceptive', 'deceptive',\n",
              "       'deceptive', 'deceptive', 'deceptive', 'deceptive', 'truthful',\n",
              "       'deceptive', 'deceptive', 'deceptive', 'deceptive', 'deceptive',\n",
              "       'deceptive', 'deceptive', 'truthful', 'deceptive', 'deceptive',\n",
              "       'truthful', 'deceptive', 'deceptive', 'truthful', 'deceptive',\n",
              "       'truthful', 'deceptive', 'truthful', 'deceptive', 'deceptive',\n",
              "       'truthful', 'deceptive', 'truthful', 'truthful', 'deceptive',\n",
              "       'deceptive', 'truthful', 'deceptive', 'truthful', 'deceptive',\n",
              "       'truthful', 'deceptive', 'truthful', 'deceptive', 'deceptive',\n",
              "       'truthful', 'deceptive', 'truthful', 'deceptive', 'deceptive',\n",
              "       'truthful', 'deceptive', 'truthful', 'deceptive', 'deceptive',\n",
              "       'deceptive', 'deceptive', 'truthful', 'deceptive', 'deceptive',\n",
              "       'deceptive', 'deceptive', 'deceptive', 'truthful', 'deceptive',\n",
              "       'truthful', 'deceptive', 'truthful', 'deceptive', 'deceptive',\n",
              "       'deceptive', 'deceptive', 'truthful', 'truthful', 'deceptive',\n",
              "       'truthful', 'deceptive', 'deceptive', 'truthful', 'deceptive',\n",
              "       'truthful', 'deceptive', 'deceptive', 'deceptive', 'truthful',\n",
              "       'deceptive', 'deceptive', 'truthful', 'truthful', 'deceptive',\n",
              "       'truthful', 'deceptive', 'truthful', 'deceptive', 'truthful',\n",
              "       'deceptive', 'truthful', 'deceptive', 'deceptive', 'truthful',\n",
              "       'deceptive', 'deceptive', 'truthful', 'deceptive', 'truthful',\n",
              "       'truthful', 'truthful', 'truthful', 'deceptive', 'truthful',\n",
              "       'truthful', 'deceptive', 'deceptive', 'deceptive', 'deceptive',\n",
              "       'deceptive', 'deceptive', 'truthful', 'deceptive', 'truthful',\n",
              "       'truthful', 'truthful', 'deceptive', 'deceptive', 'truthful',\n",
              "       'deceptive', 'truthful', 'truthful', 'truthful', 'truthful',\n",
              "       'deceptive', 'deceptive', 'deceptive', 'deceptive', 'deceptive',\n",
              "       'truthful', 'truthful', 'truthful', 'deceptive', 'truthful',\n",
              "       'deceptive', 'deceptive', 'deceptive', 'truthful', 'deceptive',\n",
              "       'truthful', 'deceptive', 'truthful', 'deceptive', 'deceptive',\n",
              "       'deceptive', 'truthful', 'deceptive', 'deceptive', 'deceptive',\n",
              "       'truthful', 'deceptive', 'truthful', 'deceptive', 'truthful',\n",
              "       'truthful', 'truthful', 'deceptive', 'deceptive', 'deceptive',\n",
              "       'deceptive', 'deceptive', 'truthful', 'truthful', 'deceptive',\n",
              "       'truthful', 'deceptive', 'deceptive', 'truthful', 'truthful',\n",
              "       'truthful', 'deceptive', 'deceptive', 'truthful', 'truthful',\n",
              "       'deceptive', 'deceptive', 'deceptive', 'truthful', 'truthful',\n",
              "       'truthful', 'truthful', 'truthful', 'truthful', 'truthful',\n",
              "       'deceptive', 'truthful', 'deceptive', 'truthful', 'truthful',\n",
              "       'deceptive', 'deceptive', 'deceptive', 'truthful', 'deceptive',\n",
              "       'truthful', 'deceptive', 'truthful', 'deceptive', 'deceptive',\n",
              "       'deceptive', 'truthful', 'truthful', 'deceptive', 'deceptive',\n",
              "       'truthful', 'deceptive', 'deceptive', 'truthful', 'deceptive',\n",
              "       'deceptive', 'deceptive', 'deceptive', 'deceptive', 'deceptive',\n",
              "       'deceptive', 'truthful', 'truthful', 'deceptive', 'truthful',\n",
              "       'truthful', 'truthful', 'deceptive', 'deceptive', 'deceptive',\n",
              "       'truthful', 'deceptive', 'deceptive', 'truthful', 'deceptive'],\n",
              "      dtype=object)"
            ]
          },
          "metadata": {},
          "execution_count": 60
        }
      ]
    },
    {
      "cell_type": "code",
      "source": [
        "print('Classification Report:',classification_report(label_test,rfc_pred))\n",
        "print('Confusion Matrix:',confusion_matrix(label_test,rfc_pred))\n",
        "print('Accuracy Score:',accuracy_score(label_test,rfc_pred))\n",
        "print('Model Prediction Accuracy:',str(np.round(accuracy_score(label_test,rfc_pred)*100,2)) + '%')\n"
      ],
      "metadata": {
        "colab": {
          "base_uri": "https://localhost:8080/"
        },
        "id": "MwIW-FE35mXF",
        "outputId": "d683771c-8498-49c8-d5b9-08901b3654c9"
      },
      "execution_count": null,
      "outputs": [
        {
          "output_type": "stream",
          "name": "stdout",
          "text": [
            "Classification Report:               precision    recall  f1-score   support\n",
            "\n",
            "   deceptive       0.78      0.86      0.82       281\n",
            "    truthful       0.85      0.76      0.80       279\n",
            "\n",
            "    accuracy                           0.81       560\n",
            "   macro avg       0.81      0.81      0.81       560\n",
            "weighted avg       0.81      0.81      0.81       560\n",
            "\n",
            "Confusion Matrix: [[243  38]\n",
            " [ 68 211]]\n",
            "Accuracy Score: 0.8107142857142857\n",
            "Model Prediction Accuracy: 81.07%\n"
          ]
        }
      ]
    },
    {
      "cell_type": "code",
      "source": [
        "pipeline = Pipeline([\n",
        "    ('bow',CountVectorizer(analyzer=text_process)),\n",
        "    ('tfidf',TfidfTransformer()),\n",
        "    ('classifier',DecisionTreeClassifier())\n",
        "])"
      ],
      "metadata": {
        "id": "ODeTkFey5mZs"
      },
      "execution_count": null,
      "outputs": []
    },
    {
      "cell_type": "code",
      "source": [
        "pipeline.fit(review_train,label_train)\n",
        "#2m11s"
      ],
      "metadata": {
        "colab": {
          "base_uri": "https://localhost:8080/"
        },
        "id": "m7tpO-EQ5mcR",
        "outputId": "78a38437-2f69-4996-d214-c1070d7b9a51"
      },
      "execution_count": null,
      "outputs": [
        {
          "output_type": "execute_result",
          "data": {
            "text/plain": [
              "Pipeline(steps=[('bow',\n",
              "                 CountVectorizer(analyzer=<function text_process at 0x7f4b33d05d40>)),\n",
              "                ('tfidf', TfidfTransformer()),\n",
              "                ('classifier', DecisionTreeClassifier())])"
            ]
          },
          "metadata": {},
          "execution_count": 63
        }
      ]
    },
    {
      "cell_type": "code",
      "source": [
        "dtree_pred = pipeline.predict(review_test)\n",
        "dtree_pred"
      ],
      "metadata": {
        "colab": {
          "base_uri": "https://localhost:8080/"
        },
        "id": "9vanhMWe5meo",
        "outputId": "2f1770fe-14b0-4871-a667-3d4a2cae232e"
      },
      "execution_count": null,
      "outputs": [
        {
          "output_type": "execute_result",
          "data": {
            "text/plain": [
              "array(['truthful', 'deceptive', 'deceptive', 'truthful', 'deceptive',\n",
              "       'deceptive', 'deceptive', 'truthful', 'truthful', 'deceptive',\n",
              "       'deceptive', 'truthful', 'truthful', 'truthful', 'truthful',\n",
              "       'deceptive', 'truthful', 'truthful', 'deceptive', 'truthful',\n",
              "       'deceptive', 'deceptive', 'deceptive', 'truthful', 'truthful',\n",
              "       'deceptive', 'deceptive', 'deceptive', 'deceptive', 'truthful',\n",
              "       'truthful', 'truthful', 'truthful', 'truthful', 'truthful',\n",
              "       'deceptive', 'truthful', 'truthful', 'truthful', 'deceptive',\n",
              "       'deceptive', 'deceptive', 'deceptive', 'truthful', 'deceptive',\n",
              "       'deceptive', 'deceptive', 'truthful', 'deceptive', 'truthful',\n",
              "       'truthful', 'truthful', 'truthful', 'truthful', 'deceptive',\n",
              "       'truthful', 'deceptive', 'truthful', 'truthful', 'truthful',\n",
              "       'deceptive', 'truthful', 'truthful', 'deceptive', 'truthful',\n",
              "       'truthful', 'truthful', 'deceptive', 'deceptive', 'truthful',\n",
              "       'truthful', 'truthful', 'deceptive', 'deceptive', 'deceptive',\n",
              "       'deceptive', 'truthful', 'truthful', 'deceptive', 'truthful',\n",
              "       'truthful', 'deceptive', 'deceptive', 'truthful', 'deceptive',\n",
              "       'truthful', 'deceptive', 'truthful', 'deceptive', 'deceptive',\n",
              "       'truthful', 'truthful', 'truthful', 'truthful', 'truthful',\n",
              "       'truthful', 'truthful', 'truthful', 'truthful', 'truthful',\n",
              "       'deceptive', 'deceptive', 'deceptive', 'truthful', 'truthful',\n",
              "       'truthful', 'deceptive', 'deceptive', 'deceptive', 'deceptive',\n",
              "       'truthful', 'truthful', 'deceptive', 'deceptive', 'deceptive',\n",
              "       'deceptive', 'truthful', 'deceptive', 'truthful', 'deceptive',\n",
              "       'deceptive', 'deceptive', 'deceptive', 'deceptive', 'deceptive',\n",
              "       'truthful', 'deceptive', 'deceptive', 'truthful', 'deceptive',\n",
              "       'deceptive', 'truthful', 'deceptive', 'truthful', 'deceptive',\n",
              "       'truthful', 'deceptive', 'deceptive', 'deceptive', 'deceptive',\n",
              "       'deceptive', 'deceptive', 'truthful', 'deceptive', 'truthful',\n",
              "       'truthful', 'truthful', 'deceptive', 'truthful', 'truthful',\n",
              "       'deceptive', 'deceptive', 'truthful', 'deceptive', 'deceptive',\n",
              "       'deceptive', 'truthful', 'truthful', 'deceptive', 'deceptive',\n",
              "       'deceptive', 'deceptive', 'deceptive', 'truthful', 'truthful',\n",
              "       'truthful', 'deceptive', 'truthful', 'deceptive', 'deceptive',\n",
              "       'truthful', 'deceptive', 'deceptive', 'deceptive', 'deceptive',\n",
              "       'truthful', 'truthful', 'deceptive', 'deceptive', 'deceptive',\n",
              "       'deceptive', 'deceptive', 'truthful', 'truthful', 'deceptive',\n",
              "       'deceptive', 'truthful', 'deceptive', 'deceptive', 'deceptive',\n",
              "       'truthful', 'truthful', 'truthful', 'truthful', 'truthful',\n",
              "       'truthful', 'deceptive', 'truthful', 'truthful', 'truthful',\n",
              "       'deceptive', 'deceptive', 'truthful', 'truthful', 'truthful',\n",
              "       'truthful', 'truthful', 'truthful', 'deceptive', 'deceptive',\n",
              "       'deceptive', 'deceptive', 'truthful', 'truthful', 'deceptive',\n",
              "       'deceptive', 'truthful', 'deceptive', 'truthful', 'truthful',\n",
              "       'truthful', 'deceptive', 'deceptive', 'deceptive', 'deceptive',\n",
              "       'deceptive', 'truthful', 'deceptive', 'deceptive', 'truthful',\n",
              "       'truthful', 'deceptive', 'truthful', 'deceptive', 'deceptive',\n",
              "       'truthful', 'deceptive', 'truthful', 'truthful', 'deceptive',\n",
              "       'deceptive', 'truthful', 'truthful', 'deceptive', 'deceptive',\n",
              "       'deceptive', 'deceptive', 'truthful', 'truthful', 'truthful',\n",
              "       'deceptive', 'deceptive', 'deceptive', 'deceptive', 'deceptive',\n",
              "       'deceptive', 'deceptive', 'truthful', 'truthful', 'truthful',\n",
              "       'deceptive', 'truthful', 'deceptive', 'deceptive', 'deceptive',\n",
              "       'deceptive', 'truthful', 'truthful', 'deceptive', 'truthful',\n",
              "       'truthful', 'truthful', 'truthful', 'truthful', 'truthful',\n",
              "       'truthful', 'deceptive', 'deceptive', 'truthful', 'truthful',\n",
              "       'truthful', 'deceptive', 'deceptive', 'deceptive', 'truthful',\n",
              "       'deceptive', 'deceptive', 'truthful', 'truthful', 'truthful',\n",
              "       'truthful', 'deceptive', 'deceptive', 'truthful', 'deceptive',\n",
              "       'deceptive', 'truthful', 'deceptive', 'truthful', 'deceptive',\n",
              "       'deceptive', 'truthful', 'truthful', 'truthful', 'truthful',\n",
              "       'truthful', 'deceptive', 'deceptive', 'deceptive', 'deceptive',\n",
              "       'deceptive', 'deceptive', 'deceptive', 'deceptive', 'deceptive',\n",
              "       'truthful', 'deceptive', 'deceptive', 'truthful', 'truthful',\n",
              "       'deceptive', 'truthful', 'deceptive', 'deceptive', 'truthful',\n",
              "       'deceptive', 'truthful', 'truthful', 'deceptive', 'truthful',\n",
              "       'deceptive', 'truthful', 'deceptive', 'truthful', 'deceptive',\n",
              "       'deceptive', 'deceptive', 'deceptive', 'truthful', 'deceptive',\n",
              "       'deceptive', 'deceptive', 'truthful', 'deceptive', 'deceptive',\n",
              "       'truthful', 'deceptive', 'truthful', 'truthful', 'truthful',\n",
              "       'truthful', 'truthful', 'deceptive', 'truthful', 'deceptive',\n",
              "       'truthful', 'deceptive', 'deceptive', 'truthful', 'truthful',\n",
              "       'deceptive', 'truthful', 'truthful', 'truthful', 'truthful',\n",
              "       'truthful', 'truthful', 'truthful', 'deceptive', 'truthful',\n",
              "       'truthful', 'deceptive', 'deceptive', 'deceptive', 'deceptive',\n",
              "       'truthful', 'truthful', 'deceptive', 'deceptive', 'deceptive',\n",
              "       'deceptive', 'deceptive', 'deceptive', 'truthful', 'deceptive',\n",
              "       'deceptive', 'truthful', 'deceptive', 'truthful', 'deceptive',\n",
              "       'truthful', 'deceptive', 'truthful', 'truthful', 'deceptive',\n",
              "       'truthful', 'truthful', 'deceptive', 'truthful', 'deceptive',\n",
              "       'truthful', 'deceptive', 'deceptive', 'truthful', 'truthful',\n",
              "       'truthful', 'deceptive', 'deceptive', 'deceptive', 'truthful',\n",
              "       'deceptive', 'deceptive', 'truthful', 'truthful', 'truthful',\n",
              "       'deceptive', 'deceptive', 'truthful', 'truthful', 'deceptive',\n",
              "       'deceptive', 'truthful', 'truthful', 'deceptive', 'truthful',\n",
              "       'deceptive', 'deceptive', 'truthful', 'deceptive', 'truthful',\n",
              "       'deceptive', 'truthful', 'truthful', 'deceptive', 'truthful',\n",
              "       'truthful', 'deceptive', 'truthful', 'deceptive', 'deceptive',\n",
              "       'deceptive', 'deceptive', 'truthful', 'deceptive', 'truthful',\n",
              "       'truthful', 'deceptive', 'deceptive', 'deceptive', 'truthful',\n",
              "       'truthful', 'truthful', 'truthful', 'truthful', 'deceptive',\n",
              "       'deceptive', 'deceptive', 'deceptive', 'deceptive', 'deceptive',\n",
              "       'truthful', 'truthful', 'deceptive', 'truthful', 'truthful',\n",
              "       'truthful', 'truthful', 'deceptive', 'truthful', 'truthful',\n",
              "       'deceptive', 'truthful', 'deceptive', 'deceptive', 'deceptive',\n",
              "       'deceptive', 'truthful', 'deceptive', 'deceptive', 'deceptive',\n",
              "       'truthful', 'deceptive', 'deceptive', 'truthful', 'truthful',\n",
              "       'truthful', 'truthful', 'truthful', 'truthful', 'deceptive',\n",
              "       'truthful', 'deceptive', 'truthful', 'truthful', 'truthful',\n",
              "       'truthful', 'deceptive', 'deceptive', 'truthful', 'truthful',\n",
              "       'truthful', 'deceptive', 'deceptive', 'truthful', 'truthful',\n",
              "       'truthful', 'deceptive', 'deceptive', 'truthful', 'truthful',\n",
              "       'truthful', 'deceptive', 'truthful', 'truthful', 'deceptive',\n",
              "       'deceptive', 'truthful', 'truthful', 'deceptive', 'truthful',\n",
              "       'truthful', 'deceptive', 'deceptive', 'truthful', 'deceptive',\n",
              "       'truthful', 'truthful', 'truthful', 'truthful', 'deceptive',\n",
              "       'deceptive', 'truthful', 'truthful', 'deceptive', 'deceptive',\n",
              "       'deceptive', 'deceptive', 'truthful', 'truthful', 'deceptive',\n",
              "       'deceptive', 'deceptive', 'deceptive', 'truthful', 'truthful',\n",
              "       'deceptive', 'truthful', 'truthful', 'deceptive', 'truthful',\n",
              "       'truthful', 'deceptive', 'truthful', 'truthful', 'deceptive',\n",
              "       'truthful', 'truthful', 'deceptive', 'deceptive', 'deceptive'],\n",
              "      dtype=object)"
            ]
          },
          "metadata": {},
          "execution_count": 64
        }
      ]
    },
    {
      "cell_type": "code",
      "source": [
        "print('Classification Report:',classification_report(label_test,dtree_pred))\n",
        "print('Confusion Matrix:',confusion_matrix(label_test,dtree_pred))\n",
        "print('Accuracy Score:',accuracy_score(label_test,dtree_pred))\n",
        "print('Model Prediction Accuracy:',str(np.round(accuracy_score(label_test,dtree_pred)*100,2)) + '%')"
      ],
      "metadata": {
        "colab": {
          "base_uri": "https://localhost:8080/"
        },
        "id": "H30k8CGJ5mhQ",
        "outputId": "a57cbb39-7ccc-49b9-c1a6-dd8252b99120"
      },
      "execution_count": null,
      "outputs": [
        {
          "output_type": "stream",
          "name": "stdout",
          "text": [
            "Classification Report:               precision    recall  f1-score   support\n",
            "\n",
            "   deceptive       0.67      0.68      0.67       281\n",
            "    truthful       0.67      0.67      0.67       279\n",
            "\n",
            "    accuracy                           0.67       560\n",
            "   macro avg       0.67      0.67      0.67       560\n",
            "weighted avg       0.67      0.67      0.67       560\n",
            "\n",
            "Confusion Matrix: [[190  91]\n",
            " [ 93 186]]\n",
            "Accuracy Score: 0.6714285714285714\n",
            "Model Prediction Accuracy: 67.14%\n"
          ]
        }
      ]
    },
    {
      "cell_type": "code",
      "source": [
        "pipeline = Pipeline([\n",
        "    ('bow',CountVectorizer(analyzer=text_process)),\n",
        "    ('tfidf',TfidfTransformer()),\n",
        "    ('classifier',KNeighborsClassifier(n_neighbors=2))\n",
        "])"
      ],
      "metadata": {
        "id": "KxBw_iZs5mjl"
      },
      "execution_count": null,
      "outputs": []
    },
    {
      "cell_type": "code",
      "source": [
        "pipeline.fit(review_train,label_train)\n",
        "#1m57s"
      ],
      "metadata": {
        "colab": {
          "base_uri": "https://localhost:8080/"
        },
        "id": "kSsoP5fB6Gae",
        "outputId": "dd5cfe61-2aa2-4546-df4d-e2e3d13669c4"
      },
      "execution_count": null,
      "outputs": [
        {
          "output_type": "execute_result",
          "data": {
            "text/plain": [
              "Pipeline(steps=[('bow',\n",
              "                 CountVectorizer(analyzer=<function text_process at 0x7f4b33d05d40>)),\n",
              "                ('tfidf', TfidfTransformer()),\n",
              "                ('classifier', KNeighborsClassifier(n_neighbors=2))])"
            ]
          },
          "metadata": {},
          "execution_count": 67
        }
      ]
    },
    {
      "cell_type": "code",
      "source": [
        "knn_pred = pipeline.predict(review_test)\n",
        "knn_pred"
      ],
      "metadata": {
        "colab": {
          "base_uri": "https://localhost:8080/"
        },
        "id": "fTxcIWrn6Gcv",
        "outputId": "8b0aad56-0a3a-4062-b01c-85a60dbb82aa"
      },
      "execution_count": null,
      "outputs": [
        {
          "output_type": "execute_result",
          "data": {
            "text/plain": [
              "array(['deceptive', 'truthful', 'deceptive', 'deceptive', 'deceptive',\n",
              "       'deceptive', 'deceptive', 'deceptive', 'deceptive', 'deceptive',\n",
              "       'deceptive', 'deceptive', 'deceptive', 'deceptive', 'deceptive',\n",
              "       'deceptive', 'deceptive', 'deceptive', 'deceptive', 'deceptive',\n",
              "       'deceptive', 'deceptive', 'deceptive', 'deceptive', 'deceptive',\n",
              "       'deceptive', 'deceptive', 'deceptive', 'deceptive', 'truthful',\n",
              "       'deceptive', 'deceptive', 'deceptive', 'deceptive', 'deceptive',\n",
              "       'deceptive', 'deceptive', 'deceptive', 'truthful', 'deceptive',\n",
              "       'truthful', 'truthful', 'deceptive', 'deceptive', 'deceptive',\n",
              "       'deceptive', 'truthful', 'deceptive', 'truthful', 'truthful',\n",
              "       'deceptive', 'deceptive', 'deceptive', 'deceptive', 'deceptive',\n",
              "       'truthful', 'deceptive', 'truthful', 'truthful', 'deceptive',\n",
              "       'deceptive', 'truthful', 'truthful', 'deceptive', 'truthful',\n",
              "       'deceptive', 'deceptive', 'deceptive', 'deceptive', 'truthful',\n",
              "       'deceptive', 'deceptive', 'deceptive', 'deceptive', 'deceptive',\n",
              "       'deceptive', 'deceptive', 'deceptive', 'deceptive', 'truthful',\n",
              "       'deceptive', 'deceptive', 'truthful', 'truthful', 'truthful',\n",
              "       'deceptive', 'truthful', 'deceptive', 'deceptive', 'deceptive',\n",
              "       'deceptive', 'deceptive', 'deceptive', 'deceptive', 'deceptive',\n",
              "       'deceptive', 'deceptive', 'deceptive', 'truthful', 'truthful',\n",
              "       'deceptive', 'deceptive', 'deceptive', 'deceptive', 'deceptive',\n",
              "       'deceptive', 'deceptive', 'deceptive', 'deceptive', 'deceptive',\n",
              "       'deceptive', 'deceptive', 'deceptive', 'deceptive', 'deceptive',\n",
              "       'deceptive', 'deceptive', 'deceptive', 'truthful', 'truthful',\n",
              "       'deceptive', 'deceptive', 'deceptive', 'deceptive', 'deceptive',\n",
              "       'deceptive', 'deceptive', 'deceptive', 'deceptive', 'deceptive',\n",
              "       'deceptive', 'deceptive', 'deceptive', 'deceptive', 'truthful',\n",
              "       'deceptive', 'deceptive', 'deceptive', 'deceptive', 'truthful',\n",
              "       'deceptive', 'truthful', 'deceptive', 'deceptive', 'deceptive',\n",
              "       'truthful', 'truthful', 'deceptive', 'truthful', 'deceptive',\n",
              "       'deceptive', 'truthful', 'deceptive', 'truthful', 'deceptive',\n",
              "       'deceptive', 'deceptive', 'deceptive', 'deceptive', 'truthful',\n",
              "       'deceptive', 'deceptive', 'deceptive', 'truthful', 'deceptive',\n",
              "       'deceptive', 'deceptive', 'deceptive', 'deceptive', 'deceptive',\n",
              "       'deceptive', 'deceptive', 'deceptive', 'deceptive', 'deceptive',\n",
              "       'truthful', 'deceptive', 'deceptive', 'deceptive', 'truthful',\n",
              "       'deceptive', 'deceptive', 'deceptive', 'deceptive', 'truthful',\n",
              "       'deceptive', 'deceptive', 'deceptive', 'deceptive', 'deceptive',\n",
              "       'deceptive', 'truthful', 'deceptive', 'deceptive', 'deceptive',\n",
              "       'deceptive', 'deceptive', 'deceptive', 'truthful', 'truthful',\n",
              "       'deceptive', 'deceptive', 'truthful', 'deceptive', 'deceptive',\n",
              "       'deceptive', 'deceptive', 'truthful', 'deceptive', 'deceptive',\n",
              "       'deceptive', 'deceptive', 'deceptive', 'deceptive', 'deceptive',\n",
              "       'deceptive', 'deceptive', 'deceptive', 'deceptive', 'truthful',\n",
              "       'truthful', 'deceptive', 'deceptive', 'deceptive', 'deceptive',\n",
              "       'deceptive', 'deceptive', 'deceptive', 'deceptive', 'deceptive',\n",
              "       'deceptive', 'deceptive', 'deceptive', 'deceptive', 'deceptive',\n",
              "       'deceptive', 'deceptive', 'truthful', 'deceptive', 'deceptive',\n",
              "       'truthful', 'deceptive', 'deceptive', 'deceptive', 'deceptive',\n",
              "       'deceptive', 'deceptive', 'deceptive', 'deceptive', 'truthful',\n",
              "       'deceptive', 'deceptive', 'deceptive', 'deceptive', 'deceptive',\n",
              "       'deceptive', 'deceptive', 'deceptive', 'deceptive', 'deceptive',\n",
              "       'deceptive', 'deceptive', 'truthful', 'deceptive', 'deceptive',\n",
              "       'deceptive', 'deceptive', 'deceptive', 'deceptive', 'deceptive',\n",
              "       'truthful', 'deceptive', 'truthful', 'deceptive', 'truthful',\n",
              "       'deceptive', 'deceptive', 'truthful', 'deceptive', 'deceptive',\n",
              "       'truthful', 'deceptive', 'deceptive', 'deceptive', 'deceptive',\n",
              "       'deceptive', 'deceptive', 'deceptive', 'deceptive', 'truthful',\n",
              "       'deceptive', 'deceptive', 'deceptive', 'deceptive', 'deceptive',\n",
              "       'deceptive', 'deceptive', 'deceptive', 'deceptive', 'truthful',\n",
              "       'deceptive', 'deceptive', 'deceptive', 'deceptive', 'truthful',\n",
              "       'truthful', 'deceptive', 'truthful', 'truthful', 'deceptive',\n",
              "       'deceptive', 'deceptive', 'deceptive', 'deceptive', 'deceptive',\n",
              "       'truthful', 'deceptive', 'deceptive', 'deceptive', 'truthful',\n",
              "       'deceptive', 'deceptive', 'deceptive', 'deceptive', 'truthful',\n",
              "       'truthful', 'deceptive', 'deceptive', 'deceptive', 'deceptive',\n",
              "       'deceptive', 'deceptive', 'deceptive', 'deceptive', 'deceptive',\n",
              "       'deceptive', 'deceptive', 'deceptive', 'deceptive', 'deceptive',\n",
              "       'deceptive', 'deceptive', 'deceptive', 'deceptive', 'deceptive',\n",
              "       'deceptive', 'deceptive', 'deceptive', 'truthful', 'deceptive',\n",
              "       'deceptive', 'deceptive', 'truthful', 'deceptive', 'deceptive',\n",
              "       'deceptive', 'deceptive', 'truthful', 'deceptive', 'deceptive',\n",
              "       'deceptive', 'truthful', 'deceptive', 'deceptive', 'deceptive',\n",
              "       'deceptive', 'deceptive', 'truthful', 'deceptive', 'deceptive',\n",
              "       'deceptive', 'deceptive', 'truthful', 'deceptive', 'deceptive',\n",
              "       'deceptive', 'deceptive', 'deceptive', 'deceptive', 'deceptive',\n",
              "       'truthful', 'deceptive', 'deceptive', 'truthful', 'deceptive',\n",
              "       'deceptive', 'deceptive', 'deceptive', 'deceptive', 'deceptive',\n",
              "       'deceptive', 'deceptive', 'deceptive', 'deceptive', 'deceptive',\n",
              "       'deceptive', 'deceptive', 'deceptive', 'deceptive', 'deceptive',\n",
              "       'deceptive', 'deceptive', 'deceptive', 'deceptive', 'deceptive',\n",
              "       'truthful', 'deceptive', 'deceptive', 'deceptive', 'deceptive',\n",
              "       'deceptive', 'deceptive', 'truthful', 'truthful', 'deceptive',\n",
              "       'truthful', 'deceptive', 'truthful', 'deceptive', 'truthful',\n",
              "       'deceptive', 'truthful', 'deceptive', 'deceptive', 'deceptive',\n",
              "       'deceptive', 'deceptive', 'truthful', 'deceptive', 'deceptive',\n",
              "       'deceptive', 'truthful', 'truthful', 'deceptive', 'deceptive',\n",
              "       'deceptive', 'deceptive', 'deceptive', 'deceptive', 'deceptive',\n",
              "       'deceptive', 'truthful', 'deceptive', 'deceptive', 'truthful',\n",
              "       'deceptive', 'deceptive', 'deceptive', 'deceptive', 'deceptive',\n",
              "       'deceptive', 'deceptive', 'deceptive', 'deceptive', 'truthful',\n",
              "       'deceptive', 'deceptive', 'deceptive', 'deceptive', 'deceptive',\n",
              "       'truthful', 'truthful', 'truthful', 'deceptive', 'truthful',\n",
              "       'deceptive', 'deceptive', 'deceptive', 'truthful', 'deceptive',\n",
              "       'truthful', 'deceptive', 'deceptive', 'deceptive', 'deceptive',\n",
              "       'deceptive', 'deceptive', 'deceptive', 'deceptive', 'deceptive',\n",
              "       'truthful', 'deceptive', 'deceptive', 'deceptive', 'truthful',\n",
              "       'truthful', 'truthful', 'deceptive', 'deceptive', 'deceptive',\n",
              "       'deceptive', 'deceptive', 'truthful', 'deceptive', 'deceptive',\n",
              "       'truthful', 'deceptive', 'deceptive', 'deceptive', 'deceptive',\n",
              "       'deceptive', 'deceptive', 'deceptive', 'truthful', 'deceptive',\n",
              "       'deceptive', 'deceptive', 'deceptive', 'truthful', 'deceptive',\n",
              "       'deceptive', 'deceptive', 'deceptive', 'truthful', 'truthful',\n",
              "       'deceptive', 'truthful', 'truthful', 'deceptive', 'deceptive',\n",
              "       'deceptive', 'deceptive', 'deceptive', 'truthful', 'deceptive',\n",
              "       'truthful', 'deceptive', 'truthful', 'deceptive', 'deceptive',\n",
              "       'deceptive', 'truthful', 'deceptive', 'truthful', 'truthful',\n",
              "       'deceptive', 'truthful', 'deceptive', 'truthful', 'deceptive',\n",
              "       'deceptive', 'truthful', 'deceptive', 'deceptive', 'deceptive',\n",
              "       'deceptive', 'truthful', 'deceptive', 'deceptive', 'truthful',\n",
              "       'deceptive', 'deceptive', 'deceptive', 'deceptive', 'deceptive',\n",
              "       'deceptive', 'deceptive', 'deceptive', 'deceptive', 'deceptive'],\n",
              "      dtype=object)"
            ]
          },
          "metadata": {},
          "execution_count": 68
        }
      ]
    },
    {
      "cell_type": "code",
      "source": [
        "print('Classification Report:',classification_report(label_test,knn_pred))\n",
        "print('Confusion Matrix:',confusion_matrix(label_test,knn_pred))\n",
        "print('Accuracy Score:',accuracy_score(label_test,knn_pred))\n",
        "print('Model Prediction Accuracy:',str(np.round(accuracy_score(label_test,knn_pred)*100,2)) + '%')"
      ],
      "metadata": {
        "colab": {
          "base_uri": "https://localhost:8080/"
        },
        "id": "0ooa--U56GfW",
        "outputId": "a6536bf7-69cb-4458-df91-ad4c1d84b259"
      },
      "execution_count": null,
      "outputs": [
        {
          "output_type": "stream",
          "name": "stdout",
          "text": [
            "Classification Report:               precision    recall  f1-score   support\n",
            "\n",
            "   deceptive       0.60      0.95      0.73       281\n",
            "    truthful       0.88      0.35      0.51       279\n",
            "\n",
            "    accuracy                           0.65       560\n",
            "   macro avg       0.74      0.65      0.62       560\n",
            "weighted avg       0.74      0.65      0.62       560\n",
            "\n",
            "Confusion Matrix: [[267  14]\n",
            " [180  99]]\n",
            "Accuracy Score: 0.6535714285714286\n",
            "Model Prediction Accuracy: 65.36%\n"
          ]
        }
      ]
    },
    {
      "cell_type": "code",
      "source": [
        "pipeline = Pipeline([\n",
        "    ('bow',CountVectorizer(analyzer=text_process)),\n",
        "    ('tfidf',TfidfTransformer()),\n",
        "    ('classifier',SVC())\n",
        "])"
      ],
      "metadata": {
        "id": "s_JQqH7y6Ghr"
      },
      "execution_count": null,
      "outputs": []
    },
    {
      "cell_type": "code",
      "source": [
        "pipeline.fit(review_train,label_train)\n",
        "#9m"
      ],
      "metadata": {
        "colab": {
          "base_uri": "https://localhost:8080/"
        },
        "id": "YZQ2hiZ06GkQ",
        "outputId": "2c310727-d48d-4ef5-d5de-858db042cfd2"
      },
      "execution_count": null,
      "outputs": [
        {
          "output_type": "execute_result",
          "data": {
            "text/plain": [
              "Pipeline(steps=[('bow',\n",
              "                 CountVectorizer(analyzer=<function text_process at 0x7f4b33d05d40>)),\n",
              "                ('tfidf', TfidfTransformer()), ('classifier', SVC())])"
            ]
          },
          "metadata": {},
          "execution_count": 71
        }
      ]
    },
    {
      "cell_type": "code",
      "source": [
        "svc_pred = pipeline.predict(review_test)\n",
        "svc_pred"
      ],
      "metadata": {
        "colab": {
          "base_uri": "https://localhost:8080/"
        },
        "id": "2oEAO1gx6Gmo",
        "outputId": "c34af001-7558-4760-beba-7f7b6e415946"
      },
      "execution_count": null,
      "outputs": [
        {
          "output_type": "execute_result",
          "data": {
            "text/plain": [
              "array(['deceptive', 'truthful', 'deceptive', 'truthful', 'deceptive',\n",
              "       'deceptive', 'deceptive', 'deceptive', 'truthful', 'deceptive',\n",
              "       'deceptive', 'deceptive', 'truthful', 'truthful', 'deceptive',\n",
              "       'deceptive', 'truthful', 'truthful', 'deceptive', 'deceptive',\n",
              "       'deceptive', 'deceptive', 'deceptive', 'truthful', 'truthful',\n",
              "       'deceptive', 'deceptive', 'deceptive', 'deceptive', 'truthful',\n",
              "       'deceptive', 'deceptive', 'truthful', 'truthful', 'deceptive',\n",
              "       'truthful', 'deceptive', 'deceptive', 'truthful', 'truthful',\n",
              "       'truthful', 'truthful', 'deceptive', 'truthful', 'deceptive',\n",
              "       'truthful', 'truthful', 'deceptive', 'truthful', 'truthful',\n",
              "       'truthful', 'truthful', 'truthful', 'deceptive', 'truthful',\n",
              "       'truthful', 'deceptive', 'truthful', 'truthful', 'truthful',\n",
              "       'truthful', 'truthful', 'truthful', 'deceptive', 'deceptive',\n",
              "       'truthful', 'deceptive', 'deceptive', 'deceptive', 'truthful',\n",
              "       'truthful', 'truthful', 'deceptive', 'deceptive', 'deceptive',\n",
              "       'deceptive', 'deceptive', 'deceptive', 'deceptive', 'truthful',\n",
              "       'deceptive', 'truthful', 'deceptive', 'truthful', 'truthful',\n",
              "       'truthful', 'deceptive', 'truthful', 'truthful', 'deceptive',\n",
              "       'truthful', 'truthful', 'truthful', 'deceptive', 'truthful',\n",
              "       'truthful', 'truthful', 'deceptive', 'truthful', 'truthful',\n",
              "       'deceptive', 'deceptive', 'deceptive', 'truthful', 'deceptive',\n",
              "       'deceptive', 'deceptive', 'truthful', 'deceptive', 'deceptive',\n",
              "       'truthful', 'deceptive', 'truthful', 'truthful', 'truthful',\n",
              "       'deceptive', 'truthful', 'deceptive', 'truthful', 'truthful',\n",
              "       'deceptive', 'truthful', 'deceptive', 'truthful', 'deceptive',\n",
              "       'truthful', 'deceptive', 'deceptive', 'deceptive', 'deceptive',\n",
              "       'deceptive', 'deceptive', 'deceptive', 'deceptive', 'truthful',\n",
              "       'deceptive', 'truthful', 'truthful', 'truthful', 'truthful',\n",
              "       'truthful', 'truthful', 'truthful', 'deceptive', 'deceptive',\n",
              "       'truthful', 'truthful', 'deceptive', 'truthful', 'truthful',\n",
              "       'deceptive', 'deceptive', 'truthful', 'truthful', 'truthful',\n",
              "       'deceptive', 'deceptive', 'truthful', 'truthful', 'deceptive',\n",
              "       'deceptive', 'deceptive', 'deceptive', 'deceptive', 'truthful',\n",
              "       'truthful', 'deceptive', 'truthful', 'truthful', 'truthful',\n",
              "       'truthful', 'truthful', 'deceptive', 'deceptive', 'truthful',\n",
              "       'truthful', 'deceptive', 'deceptive', 'deceptive', 'truthful',\n",
              "       'deceptive', 'truthful', 'deceptive', 'deceptive', 'truthful',\n",
              "       'deceptive', 'truthful', 'truthful', 'deceptive', 'deceptive',\n",
              "       'truthful', 'truthful', 'truthful', 'deceptive', 'truthful',\n",
              "       'truthful', 'deceptive', 'truthful', 'truthful', 'truthful',\n",
              "       'deceptive', 'truthful', 'truthful', 'deceptive', 'deceptive',\n",
              "       'truthful', 'truthful', 'truthful', 'deceptive', 'truthful',\n",
              "       'deceptive', 'deceptive', 'deceptive', 'truthful', 'deceptive',\n",
              "       'deceptive', 'deceptive', 'truthful', 'truthful', 'truthful',\n",
              "       'truthful', 'deceptive', 'deceptive', 'deceptive', 'deceptive',\n",
              "       'deceptive', 'deceptive', 'truthful', 'deceptive', 'truthful',\n",
              "       'truthful', 'deceptive', 'truthful', 'deceptive', 'truthful',\n",
              "       'deceptive', 'deceptive', 'truthful', 'deceptive', 'deceptive',\n",
              "       'truthful', 'deceptive', 'deceptive', 'deceptive', 'deceptive',\n",
              "       'deceptive', 'deceptive', 'deceptive', 'truthful', 'truthful',\n",
              "       'truthful', 'deceptive', 'truthful', 'truthful', 'truthful',\n",
              "       'truthful', 'deceptive', 'truthful', 'truthful', 'truthful',\n",
              "       'truthful', 'truthful', 'deceptive', 'deceptive', 'deceptive',\n",
              "       'deceptive', 'truthful', 'deceptive', 'deceptive', 'truthful',\n",
              "       'deceptive', 'truthful', 'truthful', 'deceptive', 'truthful',\n",
              "       'truthful', 'deceptive', 'truthful', 'truthful', 'deceptive',\n",
              "       'truthful', 'truthful', 'deceptive', 'truthful', 'truthful',\n",
              "       'deceptive', 'deceptive', 'truthful', 'truthful', 'truthful',\n",
              "       'truthful', 'deceptive', 'truthful', 'truthful', 'deceptive',\n",
              "       'truthful', 'deceptive', 'deceptive', 'truthful', 'deceptive',\n",
              "       'truthful', 'truthful', 'deceptive', 'truthful', 'truthful',\n",
              "       'truthful', 'deceptive', 'truthful', 'deceptive', 'deceptive',\n",
              "       'deceptive', 'truthful', 'deceptive', 'deceptive', 'deceptive',\n",
              "       'truthful', 'deceptive', 'deceptive', 'truthful', 'truthful',\n",
              "       'deceptive', 'truthful', 'deceptive', 'deceptive', 'truthful',\n",
              "       'truthful', 'deceptive', 'deceptive', 'truthful', 'deceptive',\n",
              "       'deceptive', 'truthful', 'deceptive', 'deceptive', 'deceptive',\n",
              "       'deceptive', 'deceptive', 'truthful', 'truthful', 'deceptive',\n",
              "       'deceptive', 'truthful', 'truthful', 'deceptive', 'deceptive',\n",
              "       'truthful', 'deceptive', 'truthful', 'truthful', 'truthful',\n",
              "       'truthful', 'deceptive', 'truthful', 'deceptive', 'deceptive',\n",
              "       'deceptive', 'deceptive', 'truthful', 'truthful', 'deceptive',\n",
              "       'deceptive', 'truthful', 'deceptive', 'truthful', 'truthful',\n",
              "       'truthful', 'deceptive', 'truthful', 'deceptive', 'truthful',\n",
              "       'truthful', 'deceptive', 'truthful', 'deceptive', 'deceptive',\n",
              "       'truthful', 'deceptive', 'deceptive', 'deceptive', 'deceptive',\n",
              "       'truthful', 'deceptive', 'truthful', 'deceptive', 'deceptive',\n",
              "       'deceptive', 'truthful', 'truthful', 'truthful', 'deceptive',\n",
              "       'truthful', 'deceptive', 'truthful', 'truthful', 'deceptive',\n",
              "       'deceptive', 'deceptive', 'deceptive', 'deceptive', 'truthful',\n",
              "       'deceptive', 'deceptive', 'deceptive', 'deceptive', 'deceptive',\n",
              "       'truthful', 'deceptive', 'deceptive', 'deceptive', 'truthful',\n",
              "       'truthful', 'deceptive', 'truthful', 'truthful', 'deceptive',\n",
              "       'truthful', 'deceptive', 'truthful', 'deceptive', 'truthful',\n",
              "       'deceptive', 'truthful', 'deceptive', 'deceptive', 'truthful',\n",
              "       'deceptive', 'deceptive', 'truthful', 'truthful', 'truthful',\n",
              "       'truthful', 'truthful', 'truthful', 'deceptive', 'deceptive',\n",
              "       'truthful', 'deceptive', 'deceptive', 'deceptive', 'deceptive',\n",
              "       'deceptive', 'truthful', 'truthful', 'deceptive', 'truthful',\n",
              "       'truthful', 'truthful', 'deceptive', 'deceptive', 'truthful',\n",
              "       'deceptive', 'truthful', 'truthful', 'truthful', 'truthful',\n",
              "       'deceptive', 'deceptive', 'deceptive', 'deceptive', 'deceptive',\n",
              "       'truthful', 'truthful', 'truthful', 'deceptive', 'truthful',\n",
              "       'truthful', 'deceptive', 'deceptive', 'truthful', 'deceptive',\n",
              "       'truthful', 'deceptive', 'truthful', 'deceptive', 'deceptive',\n",
              "       'deceptive', 'truthful', 'deceptive', 'deceptive', 'deceptive',\n",
              "       'truthful', 'deceptive', 'truthful', 'truthful', 'truthful',\n",
              "       'truthful', 'truthful', 'deceptive', 'deceptive', 'deceptive',\n",
              "       'deceptive', 'deceptive', 'truthful', 'truthful', 'deceptive',\n",
              "       'truthful', 'deceptive', 'deceptive', 'truthful', 'truthful',\n",
              "       'truthful', 'deceptive', 'deceptive', 'truthful', 'truthful',\n",
              "       'deceptive', 'deceptive', 'deceptive', 'truthful', 'truthful',\n",
              "       'truthful', 'truthful', 'deceptive', 'truthful', 'truthful',\n",
              "       'deceptive', 'truthful', 'truthful', 'truthful', 'truthful',\n",
              "       'deceptive', 'deceptive', 'deceptive', 'truthful', 'deceptive',\n",
              "       'truthful', 'deceptive', 'truthful', 'deceptive', 'deceptive',\n",
              "       'deceptive', 'truthful', 'truthful', 'deceptive', 'truthful',\n",
              "       'deceptive', 'truthful', 'deceptive', 'truthful', 'deceptive',\n",
              "       'deceptive', 'deceptive', 'deceptive', 'truthful', 'deceptive',\n",
              "       'deceptive', 'truthful', 'truthful', 'deceptive', 'truthful',\n",
              "       'truthful', 'truthful', 'truthful', 'deceptive', 'deceptive',\n",
              "       'truthful', 'truthful', 'deceptive', 'truthful', 'deceptive'],\n",
              "      dtype=object)"
            ]
          },
          "metadata": {},
          "execution_count": 72
        }
      ]
    },
    {
      "cell_type": "code",
      "source": [
        "print('Report:',classification_report(label_test,svc_pred))\n",
        "print('Confusion Matrix:',confusion_matrix(label_test,svc_pred))\n",
        "print('Accuracy Score:',accuracy_score(label_test,svc_pred))\n",
        "print('Model Prediction Accuracy:',str(np.round(accuracy_score(label_test,svc_pred)*100,2)) + '%')"
      ],
      "metadata": {
        "colab": {
          "base_uri": "https://localhost:8080/"
        },
        "id": "68PPrdoC6Go-",
        "outputId": "659bf4e0-2996-44dc-9bc7-67f7a4e9efbe"
      },
      "execution_count": null,
      "outputs": [
        {
          "output_type": "stream",
          "name": "stdout",
          "text": [
            "Report:               precision    recall  f1-score   support\n",
            "\n",
            "   deceptive       0.87      0.88      0.87       281\n",
            "    truthful       0.88      0.87      0.87       279\n",
            "\n",
            "    accuracy                           0.87       560\n",
            "   macro avg       0.87      0.87      0.87       560\n",
            "weighted avg       0.87      0.87      0.87       560\n",
            "\n",
            "Confusion Matrix: [[247  34]\n",
            " [ 37 242]]\n",
            "Accuracy Score: 0.8732142857142857\n",
            "Model Prediction Accuracy: 87.32%\n"
          ]
        }
      ]
    },
    {
      "cell_type": "code",
      "source": [
        "pipeline = Pipeline([\n",
        "    ('bow',CountVectorizer(analyzer=text_process)),\n",
        "    ('tfidf',TfidfTransformer()),\n",
        "    ('classifier',LogisticRegression())\n",
        "])"
      ],
      "metadata": {
        "id": "ShQGZqZp6UFq"
      },
      "execution_count": null,
      "outputs": []
    },
    {
      "cell_type": "code",
      "source": [
        "pipeline.fit(review_train,label_train)"
      ],
      "metadata": {
        "colab": {
          "base_uri": "https://localhost:8080/"
        },
        "id": "xK_DQZRx6UIO",
        "outputId": "833a37e0-d489-4062-d8e8-502381ed5910"
      },
      "execution_count": null,
      "outputs": [
        {
          "output_type": "execute_result",
          "data": {
            "text/plain": [
              "Pipeline(steps=[('bow',\n",
              "                 CountVectorizer(analyzer=<function text_process at 0x7f4b33d05d40>)),\n",
              "                ('tfidf', TfidfTransformer()),\n",
              "                ('classifier', LogisticRegression())])"
            ]
          },
          "metadata": {},
          "execution_count": 75
        }
      ]
    },
    {
      "cell_type": "code",
      "source": [
        "lr_pred = pipeline.predict(review_test)\n",
        "lr_pred"
      ],
      "metadata": {
        "colab": {
          "base_uri": "https://localhost:8080/"
        },
        "id": "0cuBQw2q6ULF",
        "outputId": "31647678-724c-4b81-edce-93662f36758e"
      },
      "execution_count": null,
      "outputs": [
        {
          "output_type": "execute_result",
          "data": {
            "text/plain": [
              "array(['deceptive', 'truthful', 'deceptive', 'truthful', 'deceptive',\n",
              "       'deceptive', 'deceptive', 'deceptive', 'truthful', 'deceptive',\n",
              "       'deceptive', 'deceptive', 'truthful', 'truthful', 'truthful',\n",
              "       'deceptive', 'truthful', 'truthful', 'deceptive', 'deceptive',\n",
              "       'deceptive', 'deceptive', 'deceptive', 'truthful', 'truthful',\n",
              "       'deceptive', 'deceptive', 'deceptive', 'deceptive', 'truthful',\n",
              "       'deceptive', 'deceptive', 'truthful', 'truthful', 'deceptive',\n",
              "       'truthful', 'deceptive', 'deceptive', 'truthful', 'truthful',\n",
              "       'truthful', 'truthful', 'deceptive', 'truthful', 'deceptive',\n",
              "       'truthful', 'truthful', 'deceptive', 'truthful', 'truthful',\n",
              "       'truthful', 'truthful', 'truthful', 'deceptive', 'truthful',\n",
              "       'truthful', 'deceptive', 'truthful', 'truthful', 'truthful',\n",
              "       'truthful', 'truthful', 'truthful', 'deceptive', 'deceptive',\n",
              "       'truthful', 'deceptive', 'deceptive', 'deceptive', 'truthful',\n",
              "       'truthful', 'truthful', 'deceptive', 'deceptive', 'deceptive',\n",
              "       'deceptive', 'deceptive', 'deceptive', 'deceptive', 'truthful',\n",
              "       'deceptive', 'truthful', 'deceptive', 'truthful', 'truthful',\n",
              "       'truthful', 'deceptive', 'truthful', 'truthful', 'deceptive',\n",
              "       'truthful', 'truthful', 'truthful', 'deceptive', 'truthful',\n",
              "       'truthful', 'truthful', 'deceptive', 'truthful', 'truthful',\n",
              "       'truthful', 'deceptive', 'deceptive', 'truthful', 'deceptive',\n",
              "       'deceptive', 'truthful', 'truthful', 'deceptive', 'deceptive',\n",
              "       'truthful', 'deceptive', 'truthful', 'truthful', 'truthful',\n",
              "       'deceptive', 'truthful', 'deceptive', 'truthful', 'truthful',\n",
              "       'deceptive', 'truthful', 'deceptive', 'truthful', 'deceptive',\n",
              "       'truthful', 'deceptive', 'deceptive', 'deceptive', 'deceptive',\n",
              "       'deceptive', 'deceptive', 'deceptive', 'deceptive', 'truthful',\n",
              "       'deceptive', 'truthful', 'truthful', 'truthful', 'truthful',\n",
              "       'truthful', 'truthful', 'truthful', 'deceptive', 'deceptive',\n",
              "       'truthful', 'truthful', 'deceptive', 'truthful', 'truthful',\n",
              "       'deceptive', 'deceptive', 'truthful', 'truthful', 'truthful',\n",
              "       'deceptive', 'deceptive', 'truthful', 'truthful', 'deceptive',\n",
              "       'deceptive', 'deceptive', 'deceptive', 'deceptive', 'truthful',\n",
              "       'truthful', 'deceptive', 'truthful', 'truthful', 'truthful',\n",
              "       'truthful', 'truthful', 'deceptive', 'deceptive', 'truthful',\n",
              "       'truthful', 'deceptive', 'deceptive', 'deceptive', 'truthful',\n",
              "       'deceptive', 'truthful', 'deceptive', 'deceptive', 'truthful',\n",
              "       'deceptive', 'truthful', 'truthful', 'deceptive', 'deceptive',\n",
              "       'truthful', 'truthful', 'truthful', 'deceptive', 'truthful',\n",
              "       'truthful', 'deceptive', 'truthful', 'truthful', 'truthful',\n",
              "       'deceptive', 'truthful', 'truthful', 'deceptive', 'deceptive',\n",
              "       'truthful', 'truthful', 'truthful', 'deceptive', 'truthful',\n",
              "       'deceptive', 'deceptive', 'deceptive', 'truthful', 'deceptive',\n",
              "       'deceptive', 'deceptive', 'truthful', 'truthful', 'truthful',\n",
              "       'truthful', 'deceptive', 'deceptive', 'deceptive', 'deceptive',\n",
              "       'deceptive', 'deceptive', 'truthful', 'deceptive', 'truthful',\n",
              "       'truthful', 'deceptive', 'truthful', 'deceptive', 'truthful',\n",
              "       'deceptive', 'deceptive', 'truthful', 'deceptive', 'deceptive',\n",
              "       'truthful', 'deceptive', 'deceptive', 'deceptive', 'deceptive',\n",
              "       'deceptive', 'deceptive', 'deceptive', 'truthful', 'truthful',\n",
              "       'truthful', 'deceptive', 'truthful', 'truthful', 'truthful',\n",
              "       'truthful', 'deceptive', 'truthful', 'truthful', 'truthful',\n",
              "       'truthful', 'truthful', 'deceptive', 'deceptive', 'deceptive',\n",
              "       'deceptive', 'truthful', 'deceptive', 'deceptive', 'truthful',\n",
              "       'deceptive', 'truthful', 'truthful', 'deceptive', 'truthful',\n",
              "       'truthful', 'deceptive', 'truthful', 'truthful', 'deceptive',\n",
              "       'truthful', 'truthful', 'deceptive', 'truthful', 'truthful',\n",
              "       'deceptive', 'truthful', 'truthful', 'truthful', 'truthful',\n",
              "       'truthful', 'deceptive', 'truthful', 'truthful', 'deceptive',\n",
              "       'truthful', 'deceptive', 'deceptive', 'truthful', 'deceptive',\n",
              "       'truthful', 'truthful', 'deceptive', 'truthful', 'truthful',\n",
              "       'truthful', 'deceptive', 'truthful', 'deceptive', 'deceptive',\n",
              "       'deceptive', 'truthful', 'deceptive', 'deceptive', 'deceptive',\n",
              "       'truthful', 'deceptive', 'deceptive', 'truthful', 'truthful',\n",
              "       'deceptive', 'deceptive', 'deceptive', 'deceptive', 'truthful',\n",
              "       'truthful', 'deceptive', 'deceptive', 'truthful', 'deceptive',\n",
              "       'deceptive', 'truthful', 'deceptive', 'deceptive', 'deceptive',\n",
              "       'deceptive', 'deceptive', 'truthful', 'truthful', 'deceptive',\n",
              "       'deceptive', 'truthful', 'truthful', 'deceptive', 'deceptive',\n",
              "       'truthful', 'deceptive', 'deceptive', 'truthful', 'truthful',\n",
              "       'truthful', 'deceptive', 'truthful', 'deceptive', 'deceptive',\n",
              "       'deceptive', 'deceptive', 'truthful', 'truthful', 'deceptive',\n",
              "       'deceptive', 'truthful', 'deceptive', 'truthful', 'deceptive',\n",
              "       'truthful', 'deceptive', 'truthful', 'deceptive', 'truthful',\n",
              "       'truthful', 'deceptive', 'truthful', 'deceptive', 'deceptive',\n",
              "       'truthful', 'deceptive', 'deceptive', 'deceptive', 'deceptive',\n",
              "       'truthful', 'deceptive', 'truthful', 'deceptive', 'deceptive',\n",
              "       'deceptive', 'truthful', 'truthful', 'truthful', 'deceptive',\n",
              "       'truthful', 'deceptive', 'truthful', 'truthful', 'deceptive',\n",
              "       'deceptive', 'deceptive', 'truthful', 'deceptive', 'truthful',\n",
              "       'deceptive', 'deceptive', 'deceptive', 'deceptive', 'deceptive',\n",
              "       'truthful', 'deceptive', 'deceptive', 'deceptive', 'truthful',\n",
              "       'truthful', 'deceptive', 'truthful', 'truthful', 'deceptive',\n",
              "       'truthful', 'deceptive', 'truthful', 'deceptive', 'truthful',\n",
              "       'deceptive', 'truthful', 'deceptive', 'deceptive', 'truthful',\n",
              "       'deceptive', 'deceptive', 'truthful', 'deceptive', 'truthful',\n",
              "       'truthful', 'truthful', 'truthful', 'deceptive', 'deceptive',\n",
              "       'truthful', 'deceptive', 'deceptive', 'deceptive', 'deceptive',\n",
              "       'deceptive', 'truthful', 'truthful', 'deceptive', 'truthful',\n",
              "       'truthful', 'truthful', 'deceptive', 'deceptive', 'truthful',\n",
              "       'deceptive', 'truthful', 'truthful', 'truthful', 'truthful',\n",
              "       'deceptive', 'deceptive', 'deceptive', 'truthful', 'deceptive',\n",
              "       'truthful', 'truthful', 'truthful', 'deceptive', 'truthful',\n",
              "       'truthful', 'deceptive', 'deceptive', 'truthful', 'deceptive',\n",
              "       'truthful', 'deceptive', 'truthful', 'deceptive', 'deceptive',\n",
              "       'deceptive', 'truthful', 'deceptive', 'deceptive', 'deceptive',\n",
              "       'truthful', 'deceptive', 'truthful', 'truthful', 'truthful',\n",
              "       'truthful', 'truthful', 'deceptive', 'deceptive', 'deceptive',\n",
              "       'deceptive', 'deceptive', 'truthful', 'truthful', 'deceptive',\n",
              "       'truthful', 'deceptive', 'deceptive', 'truthful', 'truthful',\n",
              "       'truthful', 'deceptive', 'deceptive', 'truthful', 'truthful',\n",
              "       'deceptive', 'deceptive', 'deceptive', 'truthful', 'truthful',\n",
              "       'truthful', 'truthful', 'deceptive', 'truthful', 'truthful',\n",
              "       'deceptive', 'truthful', 'truthful', 'truthful', 'truthful',\n",
              "       'deceptive', 'deceptive', 'deceptive', 'truthful', 'deceptive',\n",
              "       'truthful', 'deceptive', 'truthful', 'deceptive', 'deceptive',\n",
              "       'deceptive', 'truthful', 'truthful', 'deceptive', 'truthful',\n",
              "       'deceptive', 'truthful', 'deceptive', 'truthful', 'deceptive',\n",
              "       'deceptive', 'deceptive', 'deceptive', 'truthful', 'deceptive',\n",
              "       'deceptive', 'truthful', 'truthful', 'deceptive', 'truthful',\n",
              "       'truthful', 'truthful', 'truthful', 'deceptive', 'deceptive',\n",
              "       'truthful', 'truthful', 'deceptive', 'truthful', 'deceptive'],\n",
              "      dtype=object)"
            ]
          },
          "metadata": {},
          "execution_count": 76
        }
      ]
    },
    {
      "cell_type": "code",
      "source": [
        "print('Report:',classification_report(label_test,lr_pred))\n",
        "print('Confusion Matrix:',confusion_matrix(label_test,lr_pred))\n",
        "print('Accuracy Score:',accuracy_score(label_test,lr_pred))\n",
        "print('Model Prediction Accuracy:',str(np.round(accuracy_score(label_test,lr_pred)*100,2)) + '%')"
      ],
      "metadata": {
        "colab": {
          "base_uri": "https://localhost:8080/"
        },
        "id": "j3HACMEA6UNs",
        "outputId": "2058bbc0-029c-4512-cdc7-adf16f39bbeb"
      },
      "execution_count": null,
      "outputs": [
        {
          "output_type": "stream",
          "name": "stdout",
          "text": [
            "Report:               precision    recall  f1-score   support\n",
            "\n",
            "   deceptive       0.86      0.86      0.86       281\n",
            "    truthful       0.86      0.86      0.86       279\n",
            "\n",
            "    accuracy                           0.86       560\n",
            "   macro avg       0.86      0.86      0.86       560\n",
            "weighted avg       0.86      0.86      0.86       560\n",
            "\n",
            "Confusion Matrix: [[243  38]\n",
            " [ 39 240]]\n",
            "Accuracy Score: 0.8625\n",
            "Model Prediction Accuracy: 86.25%\n"
          ]
        }
      ]
    },
    {
      "cell_type": "code",
      "source": [
        "#final output\n",
        "print('Performance of various ML models:')\n",
        "print('\\n')\n",
        "print('Logistic Regression Prediction Accuracy:',str(np.round(accuracy_score(label_test,lr_pred)*100,2)) + '%')\n",
        "print('K Nearest Neighbors Prediction Accuracy:',str(np.round(accuracy_score(label_test,knn_pred)*100,2)) + '%')\n",
        "print('Decision Tree Classifier Prediction Accuracy:',str(np.round(accuracy_score(label_test,dtree_pred)*100,2)) + '%')\n",
        "print('Random Forests Classifier Prediction Accuracy:',str(np.round(accuracy_score(label_test,rfc_pred)*100,2)) + '%')\n",
        "print('Support Vector Machines Prediction Accuracy:',str(np.round(accuracy_score(label_test,svc_pred)*100,2)) + '%')\n",
        "print('Multinomial Naive Bayes Prediction Accuracy:',str(np.round(accuracy_score(label_test,predictions)*100,2)) + '%')"
      ],
      "metadata": {
        "colab": {
          "base_uri": "https://localhost:8080/"
        },
        "id": "3K7B5Y_H6UQI",
        "outputId": "8731298f-e76b-47a0-b8ed-aa0a1b8d36d3"
      },
      "execution_count": null,
      "outputs": [
        {
          "output_type": "stream",
          "name": "stdout",
          "text": [
            "Performance of various ML models:\n",
            "\n",
            "\n",
            "Logistic Regression Prediction Accuracy: 86.25%\n",
            "K Nearest Neighbors Prediction Accuracy: 65.36%\n",
            "Decision Tree Classifier Prediction Accuracy: 67.14%\n",
            "Random Forests Classifier Prediction Accuracy: 81.07%\n",
            "Support Vector Machines Prediction Accuracy: 87.32%\n",
            "Multinomial Naive Bayes Prediction Accuracy: 84.46%\n"
          ]
        }
      ]
    },
    {
      "cell_type": "code",
      "source": [],
      "metadata": {
        "id": "2SSsYwy56USs"
      },
      "execution_count": null,
      "outputs": []
    },
    {
      "cell_type": "code",
      "source": [],
      "metadata": {
        "id": "TARhycQB6UVB"
      },
      "execution_count": null,
      "outputs": []
    }
  ]
}